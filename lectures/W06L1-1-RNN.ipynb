{
  "cells": [
    {
      "cell_type": "markdown",
      "metadata": {
        "id": "-iQL9Ld5t_iS"
      },
      "source": [
        "# Understanding recurrent neural networks\n",
        "\n",
        "This notebook is based on code samples found in Chapter 11 of [Deep Learning with Python, second edition](https://www.manning.com/books/deep-learning-with-python-second-edition) and hosted on https://github.com/fchollet/deep-learning-with-python-notebooks. \n",
        "\n"
      ]
    },
    {
      "cell_type": "code",
      "execution_count": 1,
      "metadata": {
        "colab": {
          "base_uri": "https://localhost:8080/"
        },
        "id": "27wTXzDvRU2F",
        "outputId": "7e50d1d7-a02b-4328-bcb7-d69a43bfcb2e"
      },
      "outputs": [
        {
          "output_type": "execute_result",
          "data": {
            "text/plain": [
              "[PhysicalDevice(name='/physical_device:CPU:0', device_type='CPU'),\n",
              " PhysicalDevice(name='/physical_device:GPU:0', device_type='GPU')]"
            ]
          },
          "metadata": {},
          "execution_count": 1
        }
      ],
      "source": [
        "import tensorflow as tf\n",
        "tf.config.list_physical_devices()"
      ]
    },
    {
      "cell_type": "code",
      "execution_count": 2,
      "metadata": {
        "id": "4wOVOWZ5RU2J"
      },
      "outputs": [],
      "source": [
        "# Depending on your GPU, you may need to run this code\n",
        "physical_devices = tf.config.list_physical_devices('GPU')\n",
        "tf.config.experimental.set_memory_growth(physical_devices[0], enable=True)"
      ]
    },
    {
      "cell_type": "code",
      "execution_count": 3,
      "metadata": {
        "colab": {
          "base_uri": "https://localhost:8080/",
          "height": 35
        },
        "id": "zgeELk5wt_ie",
        "outputId": "6cde44b0-66a0-496e-b242-fc79e40cf8a2"
      },
      "outputs": [
        {
          "output_type": "execute_result",
          "data": {
            "text/plain": [
              "'2.8.0'"
            ],
            "application/vnd.google.colaboratory.intrinsic+json": {
              "type": "string"
            }
          },
          "metadata": {},
          "execution_count": 3
        }
      ],
      "source": [
        "tf.keras.__version__"
      ]
    },
    {
      "cell_type": "markdown",
      "metadata": {
        "id": "BgY5KGWUt_i1"
      },
      "source": [
        "\n",
        "## A first recurrent layer in Keras\n",
        "\n",
        "The `SimpleRNN` layer contains very simple RNN cells that behave just like a recurrent dense layer.\n"
      ]
    },
    {
      "cell_type": "code",
      "execution_count": 4,
      "metadata": {
        "id": "V7uwkRNCt_i3"
      },
      "outputs": [],
      "source": [
        "from tensorflow.keras.layers import SimpleRNN"
      ]
    },
    {
      "cell_type": "markdown",
      "metadata": {
        "id": "Umsa0KQ9t_i7"
      },
      "source": [
        "In past notebooks we have seen that Keras' `Dense` layer takes as input batches of elements. In contrast, `SimpleRNN` processes batches of sequences. This means that it takes inputs of shape `(batch_size, timesteps, input_features)`, rather than `(timesteps, \n",
        "input_features)`.\n"
      ]
    },
    {
      "cell_type": "markdown",
      "metadata": {
        "id": "rYGNVvZOt_i9"
      },
      "source": [
        "Like all recurrent layers in Keras, `SimpleRNN` can be run in two different modes:\n",
        "\n",
        "1. Return either full sequences of successive \n",
        "outputs for each timestep (a 3D tensor of shape `(batch_size, timesteps, output_features)`).\n",
        "2. Return only the last output for each \n",
        "input sequence (a 2D tensor of shape `(batch_size, output_features)`). \n",
        "\n",
        "These two modes are controlled by the `return_sequences` constructor \n",
        "argument:"
      ]
    },
    {
      "cell_type": "code",
      "execution_count": 5,
      "metadata": {
        "colab": {
          "base_uri": "https://localhost:8080/"
        },
        "id": "Jt4R5M9zt_i_",
        "outputId": "bed87ed1-ad3a-4704-be80-2a1aeed9a71d"
      },
      "outputs": [
        {
          "output_type": "stream",
          "name": "stdout",
          "text": [
            "Model: \"sequential\"\n",
            "_________________________________________________________________\n",
            " Layer (type)                Output Shape              Param #   \n",
            "=================================================================\n",
            " embedding (Embedding)       (None, None, 32)          320000    \n",
            "                                                                 \n",
            " simple_rnn (SimpleRNN)      (None, 32)                2080      \n",
            "                                                                 \n",
            "=================================================================\n",
            "Total params: 322,080\n",
            "Trainable params: 322,080\n",
            "Non-trainable params: 0\n",
            "_________________________________________________________________\n"
          ]
        }
      ],
      "source": [
        "from tensorflow.keras.models import Sequential\n",
        "from tensorflow.keras.layers import Embedding, SimpleRNN\n",
        "\n",
        "model = Sequential()\n",
        "model.add(Embedding(10000, 32))\n",
        "model.add(SimpleRNN(32))\n",
        "model.summary()"
      ]
    },
    {
      "cell_type": "code",
      "execution_count": 6,
      "metadata": {
        "colab": {
          "base_uri": "https://localhost:8080/"
        },
        "id": "SpphLXiZt_jG",
        "outputId": "ce4377dc-0cf9-4774-8e6b-66572e38f691"
      },
      "outputs": [
        {
          "output_type": "stream",
          "name": "stdout",
          "text": [
            "Model: \"sequential_1\"\n",
            "_________________________________________________________________\n",
            " Layer (type)                Output Shape              Param #   \n",
            "=================================================================\n",
            " embedding_1 (Embedding)     (None, None, 32)          320000    \n",
            "                                                                 \n",
            " simple_rnn_1 (SimpleRNN)    (None, None, 32)          2080      \n",
            "                                                                 \n",
            "=================================================================\n",
            "Total params: 322,080\n",
            "Trainable params: 322,080\n",
            "Non-trainable params: 0\n",
            "_________________________________________________________________\n"
          ]
        }
      ],
      "source": [
        "model = Sequential()\n",
        "model.add(Embedding(10000, 32))\n",
        "model.add(SimpleRNN(32, return_sequences=True))\n",
        "model.summary()"
      ]
    },
    {
      "cell_type": "markdown",
      "metadata": {
        "id": "CMTkUh7At_jM"
      },
      "source": [
        "It is sometimes useful to **stack several recurrent layers** one after the other in order to increase the representational power of a network. \n",
        "In such a setup, you have to get all intermediate layers to return full sequences:"
      ]
    },
    {
      "cell_type": "code",
      "execution_count": 7,
      "metadata": {
        "colab": {
          "base_uri": "https://localhost:8080/"
        },
        "id": "YwjEgAzKt_jO",
        "outputId": "84c306dc-89dd-4300-fc50-76f35f841dc7"
      },
      "outputs": [
        {
          "output_type": "stream",
          "name": "stdout",
          "text": [
            "Model: \"sequential_2\"\n",
            "_________________________________________________________________\n",
            " Layer (type)                Output Shape              Param #   \n",
            "=================================================================\n",
            " embedding_2 (Embedding)     (None, None, 32)          320000    \n",
            "                                                                 \n",
            " simple_rnn_2 (SimpleRNN)    (None, None, 32)          2080      \n",
            "                                                                 \n",
            " simple_rnn_3 (SimpleRNN)    (None, None, 32)          2080      \n",
            "                                                                 \n",
            " simple_rnn_4 (SimpleRNN)    (None, None, 32)          2080      \n",
            "                                                                 \n",
            " simple_rnn_5 (SimpleRNN)    (None, 32)                2080      \n",
            "                                                                 \n",
            "=================================================================\n",
            "Total params: 328,320\n",
            "Trainable params: 328,320\n",
            "Non-trainable params: 0\n",
            "_________________________________________________________________\n"
          ]
        }
      ],
      "source": [
        "model = Sequential()\n",
        "model.add(Embedding(10000, 32))\n",
        "model.add(SimpleRNN(32, return_sequences=True))\n",
        "model.add(SimpleRNN(32, return_sequences=True))\n",
        "model.add(SimpleRNN(32, return_sequences=True))\n",
        "model.add(SimpleRNN(32))  # This last layer only returns the last outputs.\n",
        "model.summary()"
      ]
    },
    {
      "cell_type": "markdown",
      "metadata": {
        "id": "kmpJYCO4t_jg"
      },
      "source": [
        "Now let's try to use a model with RNN on the IMDB movie review classification problem. First, let's preprocess the data:"
      ]
    },
    {
      "cell_type": "code",
      "execution_count": 8,
      "metadata": {
        "colab": {
          "base_uri": "https://localhost:8080/"
        },
        "id": "jrT0CLoOt_jj",
        "outputId": "037ff7dc-7661-4cd0-c7f6-e2b88444ec29"
      },
      "outputs": [
        {
          "output_type": "stream",
          "name": "stdout",
          "text": [
            "Loading data...\n",
            "25000 train sequences\n",
            "25000 test sequences\n",
            "Pad sequences (samples x time)\n",
            "input_train shape: (25000, 500)\n",
            "input_test shape: (25000, 500)\n"
          ]
        }
      ],
      "source": [
        "from tensorflow.keras.datasets import imdb\n",
        "from tensorflow.keras.preprocessing import sequence\n",
        "\n",
        "max_features = 10000  # number of words to consider as features\n",
        "maxlen = 500  # cut texts after this number of words (among top max_features most common words)\n",
        "batch_size = 32\n",
        "\n",
        "print('Loading data...')\n",
        "(input_train, y_train), (input_test, y_test) = imdb.load_data(num_words=max_features)\n",
        "print(len(input_train), 'train sequences')\n",
        "print(len(input_test), 'test sequences')\n",
        "\n",
        "print('Pad sequences (samples x time)')\n",
        "input_train = sequence.pad_sequences(input_train, maxlen=maxlen)\n",
        "input_test = sequence.pad_sequences(input_test, maxlen=maxlen)\n",
        "print('input_train shape:', input_train.shape)\n",
        "print('input_test shape:', input_test.shape)"
      ]
    },
    {
      "cell_type": "markdown",
      "metadata": {
        "id": "k6gy-ic7t_jq"
      },
      "source": [
        "Let's train a simple recurrent network using an `Embedding` layer and a `SimpleRNN` layer:"
      ]
    },
    {
      "cell_type": "code",
      "execution_count": 9,
      "metadata": {
        "colab": {
          "base_uri": "https://localhost:8080/"
        },
        "id": "E4Soc4Y1t_jt",
        "outputId": "bd89c611-44a5-4bb9-9c2a-ef8352dbd6fe"
      },
      "outputs": [
        {
          "output_type": "stream",
          "name": "stdout",
          "text": [
            "Epoch 1/10\n",
            "157/157 [==============================] - 101s 633ms/step - loss: 0.6269 - acc: 0.6332 - val_loss: 0.4588 - val_acc: 0.8028\n",
            "Epoch 2/10\n",
            "157/157 [==============================] - 99s 629ms/step - loss: 0.3995 - acc: 0.8286 - val_loss: 0.4223 - val_acc: 0.8148\n",
            "Epoch 3/10\n",
            "157/157 [==============================] - 99s 628ms/step - loss: 0.2879 - acc: 0.8860 - val_loss: 0.4184 - val_acc: 0.8290\n",
            "Epoch 4/10\n",
            "157/157 [==============================] - 98s 624ms/step - loss: 0.2221 - acc: 0.9161 - val_loss: 0.4359 - val_acc: 0.8532\n",
            "Epoch 5/10\n",
            "157/157 [==============================] - 98s 624ms/step - loss: 0.1603 - acc: 0.9433 - val_loss: 0.4195 - val_acc: 0.8242\n",
            "Epoch 6/10\n",
            "157/157 [==============================] - 98s 627ms/step - loss: 0.1026 - acc: 0.9660 - val_loss: 0.5581 - val_acc: 0.7670\n",
            "Epoch 7/10\n",
            "157/157 [==============================] - 98s 622ms/step - loss: 0.0689 - acc: 0.9783 - val_loss: 0.4828 - val_acc: 0.8456\n",
            "Epoch 8/10\n",
            "157/157 [==============================] - 99s 628ms/step - loss: 0.0384 - acc: 0.9894 - val_loss: 0.6032 - val_acc: 0.8040\n",
            "Epoch 9/10\n",
            "157/157 [==============================] - 97s 620ms/step - loss: 0.0267 - acc: 0.9922 - val_loss: 0.6831 - val_acc: 0.7808\n",
            "Epoch 10/10\n",
            "157/157 [==============================] - 97s 619ms/step - loss: 0.0193 - acc: 0.9945 - val_loss: 0.7336 - val_acc: 0.7888\n"
          ]
        }
      ],
      "source": [
        "from tensorflow.keras.layers import Dense\n",
        "\n",
        "model = Sequential()\n",
        "model.add(Embedding(max_features, 32))\n",
        "model.add(SimpleRNN(32))\n",
        "model.add(Dense(1, activation='sigmoid'))\n",
        "\n",
        "model.compile(optimizer='rmsprop', loss='binary_crossentropy', metrics=['acc'])\n",
        "history = model.fit(input_train, y_train,\n",
        "                    epochs=10,\n",
        "                    batch_size=128,\n",
        "                    validation_split=0.2)"
      ]
    },
    {
      "cell_type": "markdown",
      "metadata": {
        "id": "g9kJoJxGt_j0"
      },
      "source": [
        "Let's display the training and validation loss and accuracy:"
      ]
    },
    {
      "cell_type": "code",
      "execution_count": 10,
      "metadata": {
        "colab": {
          "base_uri": "https://localhost:8080/",
          "height": 281
        },
        "id": "sg5_xMhVt_j2",
        "outputId": "0063a8c0-8d86-4055-f2c1-1592c1bed74f"
      },
      "outputs": [
        {
          "output_type": "display_data",
          "data": {
            "text/plain": [
              "<Figure size 432x288 with 2 Axes>"
            ],
            "image/png": "[encoded data removed]"
          },
          "metadata": {
            "needs_background": "light"
          }
        }
      ],
      "source": [
        "%matplotlib inline\n",
        "import matplotlib.pyplot as plt\n",
        "\n",
        "acc = history.history['acc']\n",
        "val_acc = history.history['val_acc']\n",
        "loss = history.history['loss']\n",
        "val_loss = history.history['val_loss']\n",
        "\n",
        "epochs = range(len(acc))\n",
        "\n",
        "plt.subplot(121)\n",
        "plt.plot(epochs, acc, 'bo', label='Training acc')\n",
        "plt.plot(epochs, val_acc, 'b', label='Validation acc')\n",
        "plt.title('Training and validation accuracy')\n",
        "plt.legend()\n",
        "\n",
        "plt.subplot(122)\n",
        "\n",
        "plt.plot(epochs, loss, 'bo', label='Training loss')\n",
        "plt.plot(epochs, val_loss, 'b', label='Validation loss')\n",
        "plt.title('Training and validation loss')\n",
        "plt.legend()\n",
        "\n",
        "plt.show()"
      ]
    },
    {
      "cell_type": "markdown",
      "metadata": {
        "id": "MwjLjpAut_j9"
      },
      "source": [
        "As a reminder, in chapter 3, our very first naive approach to this very dataset got us to 88% test accuracy. Unfortunately, our small \n",
        "recurrent network doesn't perform very well at all compared to this baseline (only up to 85% validation accuracy). Part of the problem is \n",
        "that our inputs only consider the first 500 words rather the full sequences -- \n",
        "hence our RNN has access to less information than our earlier baseline model. The remainder of the problem is simply that `SimpleRNN` isn't very good at processing long sequences, like text. Other types of recurrent layers perform much better. Let's take a look at some \n",
        "more advanced layers."
      ]
    },
    {
      "cell_type": "markdown",
      "metadata": {
        "id": "bwMOoGDGt_j_"
      },
      "source": [
        "## A concrete LSTM example in Keras\n",
        "\n",
        "`SimpleRNN` is not very good at capturing long-distance dependencies. Both `LSTM` and `GRU` are explicitly designed to handle this problem.\n",
        "\n",
        "Below we will repeat the same model using `LSTM`, using Keras' defaults for most options.\n",
        "\n"
      ]
    },
    {
      "cell_type": "markdown",
      "metadata": {
        "id": "bEV6hvmVt_kA"
      },
      "source": [
        "Here's the network, \n",
        "similar to the one with `SimpleRNN` that we just presented. We only specify the output dimensionality of the LSTM layer, and leave every \n",
        "other argument (there are lots) to the Keras defaults. Keras has good defaults, and things will almost always \"just work\" without you \n",
        "having to spend time tuning parameters by hand.\n"
      ]
    },
    {
      "cell_type": "code",
      "execution_count": 11,
      "metadata": {
        "colab": {
          "base_uri": "https://localhost:8080/"
        },
        "id": "C1VEaqzTt_kC",
        "outputId": "c854a55a-a111-40c9-9ebf-5abd850a63ee"
      },
      "outputs": [
        {
          "output_type": "stream",
          "name": "stdout",
          "text": [
            "Epoch 1/10\n",
            "157/157 [==============================] - 16s 85ms/step - loss: 0.4991 - acc: 0.7582 - val_loss: 0.4664 - val_acc: 0.7716\n",
            "Epoch 2/10\n",
            "157/157 [==============================] - 13s 81ms/step - loss: 0.2968 - acc: 0.8820 - val_loss: 0.3851 - val_acc: 0.8464\n",
            "Epoch 3/10\n",
            "157/157 [==============================] - 12s 79ms/step - loss: 0.2322 - acc: 0.9133 - val_loss: 0.2824 - val_acc: 0.8832\n",
            "Epoch 4/10\n",
            "157/157 [==============================] - 12s 79ms/step - loss: 0.2023 - acc: 0.9257 - val_loss: 0.2938 - val_acc: 0.8740\n",
            "Epoch 5/10\n",
            "157/157 [==============================] - 12s 79ms/step - loss: 0.1750 - acc: 0.9352 - val_loss: 0.3360 - val_acc: 0.8670\n",
            "Epoch 6/10\n",
            "157/157 [==============================] - 12s 78ms/step - loss: 0.1590 - acc: 0.9438 - val_loss: 0.4230 - val_acc: 0.8346\n",
            "Epoch 7/10\n",
            "157/157 [==============================] - 12s 78ms/step - loss: 0.1473 - acc: 0.9489 - val_loss: 0.4522 - val_acc: 0.8566\n",
            "Epoch 8/10\n",
            "157/157 [==============================] - 12s 76ms/step - loss: 0.1302 - acc: 0.9546 - val_loss: 0.3218 - val_acc: 0.8652\n",
            "Epoch 9/10\n",
            "157/157 [==============================] - 12s 75ms/step - loss: 0.1202 - acc: 0.9573 - val_loss: 0.3202 - val_acc: 0.8812\n",
            "Epoch 10/10\n",
            "157/157 [==============================] - 12s 75ms/step - loss: 0.1095 - acc: 0.9618 - val_loss: 0.3766 - val_acc: 0.8736\n"
          ]
        }
      ],
      "source": [
        "from tensorflow.keras.layers import Dense, LSTM\n",
        "\n",
        "model = Sequential()\n",
        "model.add(Embedding(max_features, 32))\n",
        "model.add(LSTM(32))\n",
        "model.add(Dense(1, activation='sigmoid'))\n",
        "\n",
        "model.compile(optimizer='rmsprop',\n",
        "              loss='binary_crossentropy',\n",
        "              metrics=['acc'])\n",
        "history = model.fit(input_train, y_train,\n",
        "                    epochs=10,\n",
        "                    batch_size=128,\n",
        "                    validation_split=0.2)"
      ]
    },
    {
      "cell_type": "markdown",
      "metadata": {
        "id": "E43AVrt2RU2X"
      },
      "source": [
        "If your computer has a GPU you will probably observe that training is much faster when using LSTM. This is because Tensorflow-Keras has libraries that optimise the implementation of LSTMs for your GPU.\n",
        "\n",
        "If the code above doesn't work and it reports an error of the form `Fail to find the dnn implementation`, you may need to update `cudnn` by typing the following command in a terminal prompt:\n",
        "```\n",
        "$ conda install -c anaconda cudnn\n",
        "```\n",
        "\n",
        "See: https://github.com/tensorflow/tensorflow/issues/36508"
      ]
    },
    {
      "cell_type": "code",
      "execution_count": 12,
      "metadata": {
        "colab": {
          "base_uri": "https://localhost:8080/",
          "height": 281
        },
        "id": "GET-mahHt_kP",
        "outputId": "08dc7749-b08a-463d-b856-b52821db30c3"
      },
      "outputs": [
        {
          "output_type": "display_data",
          "data": {
            "text/plain": [
              "<Figure size 432x288 with 2 Axes>"
            ],
            "image/png": "[encoded data removed]"
          },
          "metadata": {
            "needs_background": "light"
          }
        }
      ],
      "source": [
        "%matplotlib inline\n",
        "import matplotlib.pyplot as plt\n",
        "\n",
        "acc = history.history['acc']\n",
        "val_acc = history.history['val_acc']\n",
        "loss = history.history['loss']\n",
        "val_loss = history.history['val_loss']\n",
        "\n",
        "epochs = range(len(acc))\n",
        "\n",
        "plt.subplot(121)\n",
        "plt.plot(epochs, acc, 'bo', label='Training acc')\n",
        "plt.plot(epochs, val_acc, 'b', label='Validation acc')\n",
        "plt.title('Training and validation accuracy')\n",
        "plt.legend()\n",
        "\n",
        "plt.subplot(122)\n",
        "plt.plot(epochs, loss, 'bo', label='Training loss')\n",
        "plt.plot(epochs, val_loss, 'b', label='Validation loss')\n",
        "plt.title('Training and validation loss')\n",
        "plt.legend()\n",
        "\n",
        "plt.show()"
      ]
    },
    {
      "cell_type": "markdown",
      "source": [
        "Now the validation accuracy is much better."
      ],
      "metadata": {
        "id": "qWn2QusNbLPA"
      }
    }
  ],
  "metadata": {
    "accelerator": "GPU",
    "colab": {
      "name": "W06L1-1-RNN.ipynb",
      "provenance": []
    },
    "kernelspec": {
      "display_name": "Python 3.7.3 64-bit ('base': conda)",
      "language": "python",
      "name": "python37364bitbaseconda7888c9435b7a4785acd3247931e842c4"
    },
    "language_info": {
      "codemirror_mode": {
        "name": "ipython",
        "version": 3
      },
      "file_extension": ".py",
      "mimetype": "text/x-python",
      "name": "python",
      "nbconvert_exporter": "python",
      "pygments_lexer": "ipython3",
      "version": "3.8.3-final"
    }
  },
  "nbformat": 4,
  "nbformat_minor": 0
}