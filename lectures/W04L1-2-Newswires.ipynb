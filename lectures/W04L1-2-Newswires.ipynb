{
  "cells": [
    {
      "cell_type": "markdown",
      "metadata": {
        "id": "n7wJT_fp9rJQ"
      },
      "source": [
        "# Classifying newswires: a multi-class classification example\n",
        "\n",
        "This notebook is based on the code samples found in Chapter 4, Section 4.2 of [Deep Learning with Python](https://www.manning.com/books/deep-learning-with-python?a_aid=keras&a_bid=76564dff) and hosted on https://github.com/fchollet/deep-learning-with-python-notebooks.\n"
      ]
    },
    {
      "cell_type": "code",
      "execution_count": 1,
      "metadata": {
        "id": "TXK-y5Sr9rJS",
        "outputId": "9f852b45-b578-45ee-8124-55b439da8da4",
        "colab": {
          "base_uri": "https://localhost:8080/"
        }
      },
      "outputs": [
        {
          "output_type": "execute_result",
          "data": {
            "text/plain": [
              "[PhysicalDevice(name='/physical_device:CPU:0', device_type='CPU'),\n",
              " PhysicalDevice(name='/physical_device:GPU:0', device_type='GPU')]"
            ]
          },
          "metadata": {},
          "execution_count": 1
        }
      ],
      "source": [
        "import tensorflow as tf\n",
        "tf.config.experimental.list_physical_devices()"
      ]
    },
    {
      "cell_type": "code",
      "execution_count": 2,
      "metadata": {
        "id": "JF9xuvYg9rJT"
      },
      "outputs": [],
      "source": [
        "physical_devices = tf.config.list_physical_devices('GPU')\n",
        "tf.config.experimental.set_memory_growth(physical_devices[0], enable=True)"
      ]
    },
    {
      "cell_type": "code",
      "execution_count": 3,
      "metadata": {
        "id": "gYodzTw09rJV",
        "outputId": "5a4f7297-d430-48e1-b0af-cc705dc27b9b",
        "colab": {
          "base_uri": "https://localhost:8080/",
          "height": 35
        }
      },
      "outputs": [
        {
          "output_type": "execute_result",
          "data": {
            "text/plain": [
              "'2.8.0'"
            ],
            "application/vnd.google.colaboratory.intrinsic+json": {
              "type": "string"
            }
          },
          "metadata": {},
          "execution_count": 3
        }
      ],
      "source": [
        "tf.__version__"
      ]
    },
    {
      "cell_type": "markdown",
      "metadata": {
        "id": "zfexj89Q9rJW"
      },
      "source": [
        "In the previous section we saw how to classify vector inputs into two mutually exclusive classes using a densely-connected neural network. \n",
        "But what happens when you have more than two classes? \n",
        "\n",
        "In this section, we will build a network to classify Reuters newswires into 46 different mutually-exclusive topics. Since we have many \n",
        "classes, this problem is an instance of **multi-class classification**, and since each data point should be classified into only one \n",
        "category, the problem is more specifically an instance of **single-label, multi-class classification**. If each data point could have \n",
        "belonged to multiple categories (in our case, topics) then we would be facing a \"multi-label, multi-class classification\" problem."
      ]
    },
    {
      "cell_type": "markdown",
      "metadata": {
        "id": "EBPSrsj09rJW"
      },
      "source": [
        "## The Reuters dataset\n",
        "\n",
        "\n",
        "We will be working with the _Reuters dataset_, a set of short newswires and their topics, published by Reuters in 1986. It's a very simple, \n",
        "widely used toy dataset for text classification. There are 46 different topics; some topics are more represented than others, but each \n",
        "topic has at least 10 examples in the training set.\n"
      ]
    },
    {
      "cell_type": "markdown",
      "source": [
        "Like IMDB and MNIST, the Reuters dataset comes packaged as part of Keras. Let's take a look right away:"
      ],
      "metadata": {
        "id": "3ivb0DfOnpuc"
      }
    },
    {
      "cell_type": "code",
      "execution_count": 4,
      "metadata": {
        "id": "jreQT00A9rJX"
      },
      "outputs": [],
      "source": [
        "from tensorflow.keras.datasets import reuters\n",
        "\n",
        "(train_data, train_labels), (test_data, test_labels) = reuters.load_data(num_words=10000)"
      ]
    },
    {
      "cell_type": "markdown",
      "metadata": {
        "id": "6yF3P1IK9rJY"
      },
      "source": [
        "\n",
        "Like with the IMDB dataset, the argument `num_words=10000` restricts the data to the 10,000 most frequently occurring words found in the \n",
        "data.\n"
      ]
    },
    {
      "cell_type": "markdown",
      "metadata": {
        "id": "bgLpQHm29rJZ"
      },
      "source": [
        "We have 8,982 training examples and 2,246 test examples:"
      ]
    },
    {
      "cell_type": "code",
      "execution_count": 5,
      "metadata": {
        "id": "JXyy6FEL9rJa",
        "outputId": "aa1042fa-ff1a-4bf4-c35c-73a71ef4e317",
        "colab": {
          "base_uri": "https://localhost:8080/"
        }
      },
      "outputs": [
        {
          "output_type": "execute_result",
          "data": {
            "text/plain": [
              "8982"
            ]
          },
          "metadata": {},
          "execution_count": 5
        }
      ],
      "source": [
        "len(train_data)"
      ]
    },
    {
      "cell_type": "code",
      "execution_count": 6,
      "metadata": {
        "id": "yxIylmzn9rJb",
        "outputId": "3ead3f58-5eb8-4d4f-95d3-44bf5c7e2a63",
        "colab": {
          "base_uri": "https://localhost:8080/"
        }
      },
      "outputs": [
        {
          "output_type": "execute_result",
          "data": {
            "text/plain": [
              "2246"
            ]
          },
          "metadata": {},
          "execution_count": 6
        }
      ],
      "source": [
        "len(test_data)"
      ]
    },
    {
      "cell_type": "markdown",
      "metadata": {
        "id": "ZHX-2lFv9rJb"
      },
      "source": [
        "As with the IMDB reviews, each example is a list of integers (word indices):"
      ]
    },
    {
      "cell_type": "code",
      "execution_count": 7,
      "metadata": {
        "id": "iukEwUlW9rJc",
        "outputId": "b285bac3-0a5f-4b48-bcf8-28411095cf27",
        "colab": {
          "base_uri": "https://localhost:8080/"
        }
      },
      "outputs": [
        {
          "output_type": "execute_result",
          "data": {
            "text/plain": [
              "[1, 2, 2, 8, 43, 10, 447, 5, 25, 207]"
            ]
          },
          "metadata": {},
          "execution_count": 7
        }
      ],
      "source": [
        "train_data[0][:10]"
      ]
    },
    {
      "cell_type": "markdown",
      "metadata": {
        "id": "knpGIWic9rJc"
      },
      "source": [
        "Here's how you can decode it back to words, in case you are curious:"
      ]
    },
    {
      "cell_type": "code",
      "execution_count": 8,
      "metadata": {
        "id": "ZViZTVdP9rJd"
      },
      "outputs": [],
      "source": [
        "word_index = reuters.get_word_index()\n",
        "reverse_word_index = dict([(value, key) for (key, value) in word_index.items()])\n",
        "# Note that our indices were offset by 3\n",
        "# because 0, 1 and 2 are reserved indices for \"padding\", \"start of sequence\", and \"unknown\".\n",
        "decoded_newswire = ' '.join([reverse_word_index.get(i - 3, '?') for i in train_data[0]])"
      ]
    },
    {
      "cell_type": "code",
      "execution_count": 9,
      "metadata": {
        "id": "y6vIp_Is9rJd",
        "outputId": "71d0ea9f-092d-4528-9f3f-e40d7f039adb",
        "colab": {
          "base_uri": "https://localhost:8080/",
          "height": 53
        }
      },
      "outputs": [
        {
          "output_type": "execute_result",
          "data": {
            "text/plain": [
              "'? ? ? said as a result of its december acquisition of space co it expects earnings per share in 1987 of 1 15 to 1 30 dlrs per share up from 70 cts in 1986 the company said pretax net should rise to nine to 10 mln dlrs from six mln dlrs in 1986 and rental operation revenues to 19 to 22 mln dlrs from 12 5 mln dlrs it said cash flow per share this year should be 2 50 to three dlrs reuter 3'"
            ],
            "application/vnd.google.colaboratory.intrinsic+json": {
              "type": "string"
            }
          },
          "metadata": {},
          "execution_count": 9
        }
      ],
      "source": [
        "decoded_newswire"
      ]
    },
    {
      "cell_type": "markdown",
      "metadata": {
        "id": "AcRwy5oO9rJe"
      },
      "source": [
        "The label associated with an example is an integer between 0 and 45: a topic index."
      ]
    },
    {
      "cell_type": "code",
      "execution_count": 10,
      "metadata": {
        "id": "XS9hVJxB9rJe",
        "outputId": "cfd0bc6a-e529-4856-d7de-691ca10f6bac",
        "colab": {
          "base_uri": "https://localhost:8080/"
        }
      },
      "outputs": [
        {
          "output_type": "execute_result",
          "data": {
            "text/plain": [
              "3"
            ]
          },
          "metadata": {},
          "execution_count": 10
        }
      ],
      "source": [
        "train_labels[0]"
      ]
    },
    {
      "cell_type": "markdown",
      "source": [
        "According to https://github.com/keras-team/keras/issues/12072, the list of topics is:"
      ],
      "metadata": {
        "id": "ONI8zp2boKnA"
      }
    },
    {
      "cell_type": "code",
      "source": [
        "topics = ['cocoa','grain','veg-oil','earn','acq','wheat','copper','housing','money-supply',\n",
        "   'coffee','sugar','trade','reserves','ship','cotton','carcass','crude','nat-gas',\n",
        "   'cpi','money-fx','interest','gnp','meal-feed','alum','oilseed','gold','tin',\n",
        "   'strategic-metal','livestock','retail','ipi','iron-steel','rubber','heat','jobs',\n",
        "   'lei','bop','zinc','orange','pet-chem','dlr','gas','silver','wpi','hog','lead']"
      ],
      "metadata": {
        "id": "p__5BMX7oPe4"
      },
      "execution_count": 11,
      "outputs": []
    },
    {
      "cell_type": "markdown",
      "source": [
        "So, the training sample 0 has the topic label 'earn'. Keras will use the topic number only, the labels are for our reference."
      ],
      "metadata": {
        "id": "apu4Ffp-oYa9"
      }
    },
    {
      "cell_type": "markdown",
      "metadata": {
        "id": "FBLRQ1-69rJf"
      },
      "source": [
        "## Preparing the data\n",
        "\n",
        "We can vectorize the data with the exact same code as in our previous notebook:"
      ]
    },
    {
      "cell_type": "code",
      "execution_count": 12,
      "metadata": {
        "id": "pb6MH1E49rJf"
      },
      "outputs": [],
      "source": [
        "import numpy as np\n",
        "\n",
        "def vectorize_sequences(sequences, dimension=10000):\n",
        "    results = np.zeros((len(sequences), dimension))\n",
        "    for i, sequence in enumerate(sequences):\n",
        "        results[i, sequence] = 1.\n",
        "    return results\n",
        "\n",
        "# Our vectorized training data\n",
        "x_train = vectorize_sequences(train_data)\n",
        "# Our vectorized test data\n",
        "x_test = vectorize_sequences(test_data)"
      ]
    },
    {
      "cell_type": "markdown",
      "metadata": {
        "id": "v9IbX_Vn9rJg"
      },
      "source": [
        "To vectorize the labels we could just cast the label list as an integer tensor; we will look at this later on.\n",
        "\n",
        "For now, we will use **one-hot encoding**.\n"
      ]
    },
    {
      "cell_type": "markdown",
      "metadata": {
        "id": "eAhTGEO-9rJg"
      },
      "source": [
        "One-hot encoding is a widely used format for categorical data, also called \"categorical encoding\". \n",
        "In our case, one-hot encoding of our labels consists in embedding each label as an all-zero vector with a 1 in the place of the label index, e.g.:"
      ]
    },
    {
      "cell_type": "code",
      "execution_count": 13,
      "metadata": {
        "id": "XAB_mzJS9rJg"
      },
      "outputs": [],
      "source": [
        "def to_one_hot(labels, dimension=46):\n",
        "    results = np.zeros((len(labels), dimension))\n",
        "    for i, label in enumerate(labels):\n",
        "        results[i, label] = 1.\n",
        "    return results\n",
        "\n",
        "# Our vectorized training labels\n",
        "one_hot_train_labels = to_one_hot(train_labels)\n",
        "# Our vectorized test labels\n",
        "one_hot_test_labels = to_one_hot(test_labels)"
      ]
    },
    {
      "cell_type": "markdown",
      "metadata": {
        "id": "SkIJfWZo9rJh"
      },
      "source": [
        "Note that there is a built-in way to do this in Keras:"
      ]
    },
    {
      "cell_type": "code",
      "execution_count": 14,
      "metadata": {
        "id": "j22sq8Kg9rJh"
      },
      "outputs": [],
      "source": [
        "from tensorflow.keras.utils import to_categorical\n",
        "\n",
        "one_hot_train_labels = to_categorical(train_labels)\n",
        "one_hot_test_labels = to_categorical(test_labels)"
      ]
    },
    {
      "cell_type": "markdown",
      "metadata": {
        "id": "Q3QdVhyv9rJi"
      },
      "source": [
        "## Building our network\n",
        "\n",
        "\n",
        "This topic classification problem looks very similar to our previous movie review classification problem: in both cases, we are trying to \n",
        "classify short snippets of text. There is however a new constraint here: **the number of output classes has gone from 2 to 46**, i.e. the \n",
        "dimensionality of the output space is much larger. \n",
        "\n",
        "In a stack of `Dense` layers like what we were using, each layer can only access information present in the output of the previous layer. \n",
        "If one layer drops some information relevant to the classification problem, this information can never be recovered by later layers: each \n",
        "layer can potentially become an **information bottleneck**. In our previous example, we were using 16-dimensional intermediate layers, but a \n",
        "16-dimensional space may be too limited to learn to separate 46 different classes: such small layers may act as information bottlenecks, \n",
        "permanently dropping relevant information.\n"
      ]
    },
    {
      "cell_type": "markdown",
      "metadata": {
        "id": "yMTq5jdX9rJi"
      },
      "source": [
        "For this reason we will use larger layers. Let's go with 64 units:"
      ]
    },
    {
      "cell_type": "code",
      "execution_count": 15,
      "metadata": {
        "id": "9BoWFG599rJi"
      },
      "outputs": [],
      "source": [
        "from tensorflow.keras import models\n",
        "from tensorflow.keras import layers\n",
        "\n",
        "model = models.Sequential()\n",
        "model.add(layers.Dense(64, activation='relu', input_shape=(10000,)))\n",
        "model.add(layers.Dense(64, activation='relu'))\n",
        "model.add(layers.Dense(46, activation='softmax'))"
      ]
    },
    {
      "cell_type": "markdown",
      "metadata": {
        "id": "DCJIIBoc9rJj"
      },
      "source": [
        "\n",
        "There are two other things you should note about this architecture:\n",
        "\n",
        "* We are ending the network with a `Dense` layer of size 46. This means that for each input sample, our network will output a \n",
        "46-dimensional vector. Each entry in this vector (each dimension) will encode a different output class.\n",
        "* The last layer uses a `softmax` activation. It means that the network will \n",
        "output a _probability distribution_ over the 46 different output classes, i.e. for every input sample, the network will produce a \n",
        "46-dimensional output vector where `output[i]` is the probability that the sample belongs to class `i`. The 46 scores will sum to 1.\n"
      ]
    },
    {
      "cell_type": "markdown",
      "metadata": {
        "id": "MCqWdP4F9rJj"
      },
      "source": [
        "The best loss function to use in this case is `categorical_crossentropy`. It measures the distance between two probability distributions: \n",
        "in our case, between the probability distribution output by our network, and the true distribution of the labels. By minimizing the \n",
        "distance between these two distributions, we train our network to output something as close as possible to the true labels."
      ]
    },
    {
      "cell_type": "code",
      "execution_count": 16,
      "metadata": {
        "id": "cxOul5I19rJj"
      },
      "outputs": [],
      "source": [
        "model.compile(optimizer='rmsprop',\n",
        "              loss='categorical_crossentropy',\n",
        "              metrics=['accuracy'])"
      ]
    },
    {
      "cell_type": "code",
      "execution_count": 17,
      "metadata": {
        "id": "x8bl-yF-9rJk",
        "outputId": "821250d9-0d22-447f-bcfb-62bfd8dac942",
        "colab": {
          "base_uri": "https://localhost:8080/"
        }
      },
      "outputs": [
        {
          "output_type": "stream",
          "name": "stdout",
          "text": [
            "Model: \"sequential\"\n",
            "_________________________________________________________________\n",
            " Layer (type)                Output Shape              Param #   \n",
            "=================================================================\n",
            " dense (Dense)               (None, 64)                640064    \n",
            "                                                                 \n",
            " dense_1 (Dense)             (None, 64)                4160      \n",
            "                                                                 \n",
            " dense_2 (Dense)             (None, 46)                2990      \n",
            "                                                                 \n",
            "=================================================================\n",
            "Total params: 647,214\n",
            "Trainable params: 647,214\n",
            "Non-trainable params: 0\n",
            "_________________________________________________________________\n"
          ]
        }
      ],
      "source": [
        "model.summary()"
      ]
    },
    {
      "cell_type": "markdown",
      "metadata": {
        "id": "iJJw4vET9rJk"
      },
      "source": [
        "## Validating our approach\n",
        "\n",
        "Let's set apart 1,000 samples in our training data to use as a validation set. To ensure that there is no bias on the partition, we will do a random partition."
      ]
    },
    {
      "cell_type": "code",
      "source": [
        "import random\n",
        "random.seed(1232)"
      ],
      "metadata": {
        "id": "yZhqdA5156Ua"
      },
      "execution_count": 18,
      "outputs": []
    },
    {
      "cell_type": "code",
      "source": [
        "data_indices = list(range(len(x_train)))\n",
        "random.shuffle(data_indices)"
      ],
      "metadata": {
        "id": "M3UTb3xa6Dq0"
      },
      "execution_count": 19,
      "outputs": []
    },
    {
      "cell_type": "code",
      "execution_count": 20,
      "metadata": {
        "id": "aZdR1Pyd9rJl"
      },
      "outputs": [],
      "source": [
        "x_val = x_train[data_indices[:1000]]\n",
        "partial_x_train = x_train[data_indices[1000:]]\n",
        "\n",
        "y_val = one_hot_train_labels[data_indices[:1000]]\n",
        "partial_y_train = one_hot_train_labels[data_indices[1000:]]"
      ]
    },
    {
      "cell_type": "markdown",
      "metadata": {
        "id": "LGjoKqXj9rJl"
      },
      "source": [
        "Now let's train our network for 20 epochs:"
      ]
    },
    {
      "cell_type": "code",
      "execution_count": 21,
      "metadata": {
        "id": "ihXXGbXR9rJm",
        "outputId": "e289502e-5952-4560-bdc7-26299a818525",
        "colab": {
          "base_uri": "https://localhost:8080/"
        }
      },
      "outputs": [
        {
          "output_type": "stream",
          "name": "stdout",
          "text": [
            "Epoch 1/20\n",
            "16/16 [==============================] - 4s 59ms/step - loss: 2.5403 - accuracy: 0.5288 - val_loss: 1.6467 - val_accuracy: 0.6630\n",
            "Epoch 2/20\n",
            "16/16 [==============================] - 0s 25ms/step - loss: 1.3497 - accuracy: 0.7186 - val_loss: 1.3241 - val_accuracy: 0.7050\n",
            "Epoch 3/20\n",
            "16/16 [==============================] - 0s 26ms/step - loss: 1.0004 - accuracy: 0.7889 - val_loss: 1.1848 - val_accuracy: 0.7390\n",
            "Epoch 4/20\n",
            "16/16 [==============================] - 0s 26ms/step - loss: 0.7814 - accuracy: 0.8396 - val_loss: 1.1258 - val_accuracy: 0.7470\n",
            "Epoch 5/20\n",
            "16/16 [==============================] - 0s 28ms/step - loss: 0.6215 - accuracy: 0.8752 - val_loss: 1.0593 - val_accuracy: 0.7630\n",
            "Epoch 6/20\n",
            "16/16 [==============================] - 0s 31ms/step - loss: 0.4985 - accuracy: 0.9012 - val_loss: 1.0170 - val_accuracy: 0.7780\n",
            "Epoch 7/20\n",
            "16/16 [==============================] - 0s 26ms/step - loss: 0.4054 - accuracy: 0.9182 - val_loss: 1.0157 - val_accuracy: 0.7790\n",
            "Epoch 8/20\n",
            "16/16 [==============================] - 0s 27ms/step - loss: 0.3286 - accuracy: 0.9287 - val_loss: 0.9992 - val_accuracy: 0.7900\n",
            "Epoch 9/20\n",
            "16/16 [==============================] - 0s 25ms/step - loss: 0.2720 - accuracy: 0.9402 - val_loss: 1.0070 - val_accuracy: 0.7840\n",
            "Epoch 10/20\n",
            "16/16 [==============================] - 0s 25ms/step - loss: 0.2312 - accuracy: 0.9471 - val_loss: 1.0168 - val_accuracy: 0.7860\n",
            "Epoch 11/20\n",
            "16/16 [==============================] - 0s 26ms/step - loss: 0.1978 - accuracy: 0.9539 - val_loss: 1.0691 - val_accuracy: 0.7860\n",
            "Epoch 12/20\n",
            "16/16 [==============================] - 0s 21ms/step - loss: 0.1768 - accuracy: 0.9553 - val_loss: 1.0701 - val_accuracy: 0.7980\n",
            "Epoch 13/20\n",
            "16/16 [==============================] - 0s 28ms/step - loss: 0.1602 - accuracy: 0.9560 - val_loss: 1.0937 - val_accuracy: 0.7970\n",
            "Epoch 14/20\n",
            "16/16 [==============================] - 0s 22ms/step - loss: 0.1428 - accuracy: 0.9575 - val_loss: 1.1209 - val_accuracy: 0.7910\n",
            "Epoch 15/20\n",
            "16/16 [==============================] - 0s 24ms/step - loss: 0.1339 - accuracy: 0.9590 - val_loss: 1.1488 - val_accuracy: 0.7850\n",
            "Epoch 16/20\n",
            "16/16 [==============================] - 0s 18ms/step - loss: 0.1267 - accuracy: 0.9585 - val_loss: 1.2004 - val_accuracy: 0.7790\n",
            "Epoch 17/20\n",
            "16/16 [==============================] - 0s 19ms/step - loss: 0.1242 - accuracy: 0.9567 - val_loss: 1.2215 - val_accuracy: 0.7810\n",
            "Epoch 18/20\n",
            "16/16 [==============================] - 0s 18ms/step - loss: 0.1172 - accuracy: 0.9604 - val_loss: 1.2227 - val_accuracy: 0.7820\n",
            "Epoch 19/20\n",
            "16/16 [==============================] - 0s 20ms/step - loss: 0.1123 - accuracy: 0.9587 - val_loss: 1.2184 - val_accuracy: 0.7860\n",
            "Epoch 20/20\n",
            "16/16 [==============================] - 0s 16ms/step - loss: 0.1102 - accuracy: 0.9595 - val_loss: 1.2727 - val_accuracy: 0.7900\n"
          ]
        }
      ],
      "source": [
        "history = model.fit(partial_x_train,\n",
        "                    partial_y_train,\n",
        "                    epochs=20,\n",
        "                    batch_size=512,\n",
        "                    validation_data=(x_val, y_val))"
      ]
    },
    {
      "cell_type": "markdown",
      "metadata": {
        "id": "-vVOEQzV9rJm"
      },
      "source": [
        "Let's display its loss and accuracy curves:"
      ]
    },
    {
      "cell_type": "code",
      "execution_count": 22,
      "metadata": {
        "id": "1G-mXiEL9rJm",
        "outputId": "2bddbc35-6a9a-40af-dbcc-eb8f4b66d381",
        "colab": {
          "base_uri": "https://localhost:8080/",
          "height": 295
        }
      },
      "outputs": [
        {
          "output_type": "display_data",
          "data": {
            "text/plain": [
              "<Figure size 432x288 with 1 Axes>"
            ],
            "image/png": "[encoded data removed]"
          },
          "metadata": {
            "needs_background": "light"
          }
        }
      ],
      "source": [
        "%matplotlib inline\n",
        "import matplotlib.pyplot as plt\n",
        "\n",
        "loss = history.history['loss']\n",
        "val_loss = history.history['val_loss']\n",
        "\n",
        "epochs = range(1, len(loss) + 1)\n",
        "\n",
        "plt.plot(epochs, loss, 'bo', label='Training loss')\n",
        "plt.plot(epochs, val_loss, 'b', label='Validation loss')\n",
        "plt.title('Training and validation loss')\n",
        "plt.xlabel('Epochs')\n",
        "plt.ylabel('Loss')\n",
        "plt.legend()\n",
        "\n",
        "plt.show()"
      ]
    },
    {
      "cell_type": "code",
      "execution_count": 23,
      "metadata": {
        "id": "y-CbX2a99rJn",
        "outputId": "1a93a68b-07b7-451d-82e0-ff17234ee06c",
        "colab": {
          "base_uri": "https://localhost:8080/",
          "height": 295
        }
      },
      "outputs": [
        {
          "output_type": "display_data",
          "data": {
            "text/plain": [
              "<Figure size 432x288 with 1 Axes>"
            ],
            "image/png": "[encoded data removed]"
          },
          "metadata": {
            "needs_background": "light"
          }
        }
      ],
      "source": [
        "plt.clf()   # clear figure\n",
        "\n",
        "acc = history.history['accuracy']\n",
        "val_acc = history.history['val_accuracy']\n",
        "\n",
        "plt.plot(epochs, acc, 'bo', label='Training acc')\n",
        "plt.plot(epochs, val_acc, 'b', label='Validation acc')\n",
        "plt.title('Training and validation accuracy')\n",
        "plt.xlabel('Epochs')\n",
        "plt.ylabel('Loss')\n",
        "plt.legend()\n",
        "\n",
        "plt.show()"
      ]
    },
    {
      "cell_type": "markdown",
      "metadata": {
        "id": "V1IuWppD9rJn"
      },
      "source": [
        "It seems that the network performance on the validation data starts to drop at 8 epochs. We could train a new network from scratch for 8 epochs. Alternatively we can use Keras to train until the loss of the validation set increases. We can do this by adding a **call back function** that executes at the end of every epoch and forces to stop training:"
      ]
    },
    {
      "cell_type": "code",
      "execution_count": 24,
      "metadata": {
        "id": "vL7OWOdc9rJn"
      },
      "outputs": [],
      "source": [
        "model = models.Sequential()\n",
        "model.add(layers.Dense(64, activation='relu', input_shape=(10000,)))\n",
        "model.add(layers.Dense(64, activation='relu'))\n",
        "model.add(layers.Dense(46, activation='softmax'))"
      ]
    },
    {
      "cell_type": "code",
      "execution_count": 25,
      "metadata": {
        "id": "BQqicSDf9rJo"
      },
      "outputs": [],
      "source": [
        "model.compile(optimizer='rmsprop',\n",
        "              loss='categorical_crossentropy',\n",
        "              metrics=['accuracy'])\n"
      ]
    },
    {
      "cell_type": "code",
      "execution_count": 26,
      "metadata": {
        "id": "XEwWGHyd9rJo",
        "outputId": "0266e99a-227d-4ba8-dc1b-354cb3b983cb",
        "colab": {
          "base_uri": "https://localhost:8080/"
        }
      },
      "outputs": [
        {
          "output_type": "stream",
          "name": "stdout",
          "text": [
            "Epoch 1/20\n",
            "16/16 [==============================] - 1s 31ms/step - loss: 2.7479 - accuracy: 0.4994 - val_loss: 1.8315 - val_accuracy: 0.6360\n",
            "Epoch 2/20\n",
            "16/16 [==============================] - 0s 17ms/step - loss: 1.4640 - accuracy: 0.7025 - val_loss: 1.3693 - val_accuracy: 0.7020\n",
            "Epoch 3/20\n",
            "16/16 [==============================] - 0s 18ms/step - loss: 1.0619 - accuracy: 0.7725 - val_loss: 1.2237 - val_accuracy: 0.7370\n",
            "Epoch 4/20\n",
            "16/16 [==============================] - 0s 18ms/step - loss: 0.8257 - accuracy: 0.8291 - val_loss: 1.1311 - val_accuracy: 0.7450\n",
            "Epoch 5/20\n",
            "16/16 [==============================] - 0s 21ms/step - loss: 0.6609 - accuracy: 0.8627 - val_loss: 1.0682 - val_accuracy: 0.7550\n",
            "Epoch 6/20\n",
            "16/16 [==============================] - 0s 19ms/step - loss: 0.5236 - accuracy: 0.8914 - val_loss: 1.0470 - val_accuracy: 0.7560\n",
            "Epoch 7/20\n",
            "16/16 [==============================] - 0s 18ms/step - loss: 0.4221 - accuracy: 0.9149 - val_loss: 1.0306 - val_accuracy: 0.7660\n",
            "Epoch 8/20\n",
            "16/16 [==============================] - 0s 20ms/step - loss: 0.3446 - accuracy: 0.9283 - val_loss: 1.0202 - val_accuracy: 0.7830\n",
            "Epoch 9/20\n",
            "16/16 [==============================] - 0s 17ms/step - loss: 0.2815 - accuracy: 0.9411 - val_loss: 1.0413 - val_accuracy: 0.7770\n",
            "Epoch 10/20\n",
            "16/16 [==============================] - 0s 19ms/step - loss: 0.2397 - accuracy: 0.9474 - val_loss: 1.0608 - val_accuracy: 0.7790\n"
          ]
        },
        {
          "output_type": "execute_result",
          "data": {
            "text/plain": [
              "<keras.callbacks.History at 0x7f194a136f90>"
            ]
          },
          "metadata": {},
          "execution_count": 26
        }
      ],
      "source": [
        "model.fit(partial_x_train,\n",
        "          partial_y_train,\n",
        "          epochs=20,\n",
        "          batch_size=512,\n",
        "          validation_data=(x_val, y_val),\n",
        "          callbacks=[tf.keras.callbacks.EarlyStopping(monitor='val_loss', mode='min', patience=2)])"
      ]
    },
    {
      "cell_type": "markdown",
      "source": [
        "In the above code, we set an early stopping call back function that monitors the value of the validation loss so that training stop when the validation loss increases (`mode='mim'`). We set the value of patience to 2, meaning that we wait until the validation loss increases in 2 epochs. This prevents stopping too early because of spurious peaks early in the training."
      ],
      "metadata": {
        "id": "U7ShyMX9qo7p"
      }
    },
    {
      "cell_type": "code",
      "execution_count": 27,
      "metadata": {
        "id": "Fc1AYvPb9rJo",
        "outputId": "7084fae2-afa9-4eaf-b14a-c3fa2ea5dbce",
        "colab": {
          "base_uri": "https://localhost:8080/"
        }
      },
      "outputs": [
        {
          "output_type": "stream",
          "name": "stdout",
          "text": [
            "71/71 [==============================] - 0s 4ms/step - loss: 0.9840 - accuracy: 0.7952\n"
          ]
        },
        {
          "output_type": "execute_result",
          "data": {
            "text/plain": [
              "[0.9839953184127808, 0.7951914668083191]"
            ]
          },
          "metadata": {},
          "execution_count": 27
        }
      ],
      "source": [
        "results = model.evaluate(x_test, one_hot_test_labels)\n",
        "results"
      ]
    },
    {
      "cell_type": "markdown",
      "metadata": {
        "id": "1nWawpvQ9rJp"
      },
      "source": [
        "\n",
        "Our approach reaches an accuracy of ~79%. With a balanced binary classification problem, the accuracy reached by a purely random classifier \n",
        "would be 50%. In our case, with 46 classes and balanced data, the accuracy reached by a purely random classifier would be 1 / 46 = 0.0217. Our classifier is clearly much better than that, but is our data set balanced?"
      ]
    },
    {
      "cell_type": "markdown",
      "metadata": {
        "id": "C_GnJvzG9rJp"
      },
      "source": [
        "A simple count of the labels in the training set reveals that the data are very imbalanced, and category 3 is by far the most frequent:"
      ]
    },
    {
      "cell_type": "code",
      "execution_count": 28,
      "metadata": {
        "id": "SxxumwOz9rJq",
        "outputId": "391a3f7f-1139-453b-f1a6-9692a41fcaed",
        "colab": {
          "base_uri": "https://localhost:8080/"
        }
      },
      "outputs": [
        {
          "output_type": "execute_result",
          "data": {
            "text/plain": [
              "Counter({0: 55,\n",
              "         1: 432,\n",
              "         2: 74,\n",
              "         3: 3159,\n",
              "         4: 1949,\n",
              "         5: 17,\n",
              "         6: 48,\n",
              "         7: 16,\n",
              "         8: 139,\n",
              "         9: 101,\n",
              "         10: 124,\n",
              "         11: 390,\n",
              "         12: 49,\n",
              "         13: 172,\n",
              "         14: 26,\n",
              "         15: 20,\n",
              "         16: 444,\n",
              "         17: 39,\n",
              "         18: 66,\n",
              "         19: 549,\n",
              "         20: 269,\n",
              "         21: 100,\n",
              "         22: 15,\n",
              "         23: 41,\n",
              "         24: 62,\n",
              "         25: 92,\n",
              "         26: 24,\n",
              "         27: 15,\n",
              "         28: 48,\n",
              "         29: 19,\n",
              "         30: 45,\n",
              "         31: 39,\n",
              "         32: 32,\n",
              "         33: 11,\n",
              "         34: 50,\n",
              "         35: 10,\n",
              "         36: 49,\n",
              "         37: 19,\n",
              "         38: 19,\n",
              "         39: 24,\n",
              "         40: 36,\n",
              "         41: 30,\n",
              "         42: 13,\n",
              "         43: 21,\n",
              "         44: 12,\n",
              "         45: 18})"
            ]
          },
          "metadata": {},
          "execution_count": 28
        }
      ],
      "source": [
        "from collections import Counter\n",
        "c = Counter(train_labels)\n",
        "c"
      ]
    },
    {
      "cell_type": "markdown",
      "metadata": {
        "id": "qZjRxYfV9rJq"
      },
      "source": [
        "A **majority baseline** classifier would classify all newswires with the most popular category, in our case category 3. The accuracy of this majority baseline on the test data is still much lower than with our system:"
      ]
    },
    {
      "cell_type": "code",
      "execution_count": 29,
      "metadata": {
        "id": "2A2BvkG_9rJq",
        "outputId": "53ccb14f-17a9-4feb-bea8-c194ec2a205d",
        "colab": {
          "base_uri": "https://localhost:8080/"
        }
      },
      "outputs": [
        {
          "output_type": "execute_result",
          "data": {
            "text/plain": [
              "0.3619768477292965"
            ]
          },
          "metadata": {},
          "execution_count": 29
        }
      ],
      "source": [
        "float(np.sum(np.array(test_labels) == 3)) / len(test_labels)"
      ]
    },
    {
      "cell_type": "markdown",
      "metadata": {
        "id": "_m-868oQ9rJr"
      },
      "source": [
        "## Generating predictions on new data\n",
        "\n",
        "We can verify that the `predict` method of our model instance returns a probability distribution over all 46 topics. Let's generate topic \n",
        "predictions for all of the test data:"
      ]
    },
    {
      "cell_type": "code",
      "execution_count": 30,
      "metadata": {
        "id": "c4upiXpM9rJr"
      },
      "outputs": [],
      "source": [
        "predictions = model.predict(x_test)"
      ]
    },
    {
      "cell_type": "markdown",
      "metadata": {
        "id": "7QpRuN6w9rJr"
      },
      "source": [
        "Each entry in `predictions` is a vector of length 46:"
      ]
    },
    {
      "cell_type": "code",
      "execution_count": 31,
      "metadata": {
        "id": "ngIo0Uyy9rJs",
        "outputId": "09902383-18ef-4170-edad-611256c9bc2a",
        "colab": {
          "base_uri": "https://localhost:8080/"
        }
      },
      "outputs": [
        {
          "output_type": "execute_result",
          "data": {
            "text/plain": [
              "(46,)"
            ]
          },
          "metadata": {},
          "execution_count": 31
        }
      ],
      "source": [
        "predictions[0].shape"
      ]
    },
    {
      "cell_type": "markdown",
      "source": [
        "The actual prediction values for the first sample are:"
      ],
      "metadata": {
        "id": "678QEqmz5HgL"
      }
    },
    {
      "cell_type": "code",
      "source": [
        "predictions[0]"
      ],
      "metadata": {
        "id": "Hp0cbEk05LtX",
        "outputId": "788cece5-d8dd-4332-d0e9-2fc3cf8a3e58",
        "colab": {
          "base_uri": "https://localhost:8080/"
        }
      },
      "execution_count": 32,
      "outputs": [
        {
          "output_type": "execute_result",
          "data": {
            "text/plain": [
              "array([4.81940748e-04, 7.14939088e-05, 2.01029638e-06, 9.09825683e-01,\n",
              "       7.41573125e-02, 1.65734764e-06, 6.76152049e-05, 3.28907072e-06,\n",
              "       6.63873833e-03, 9.95740902e-06, 9.86924169e-06, 6.25286833e-04,\n",
              "       9.43591003e-05, 1.20320066e-04, 7.18400497e-06, 6.70056324e-05,\n",
              "       8.90994153e-04, 3.96422110e-05, 2.16507669e-05, 1.53746409e-03,\n",
              "       2.38221372e-03, 1.09865190e-03, 1.11930410e-06, 1.80595278e-04,\n",
              "       1.15412104e-06, 3.15179059e-05, 7.34981177e-06, 1.52728899e-06,\n",
              "       2.75788443e-05, 3.31491814e-04, 1.11462461e-04, 2.44608036e-05,\n",
              "       1.50123218e-04, 1.46120030e-04, 3.65709639e-05, 4.50036059e-05,\n",
              "       3.70592228e-04, 5.58328138e-05, 4.77607273e-06, 2.12470215e-04,\n",
              "       5.57574131e-05, 3.35196455e-05, 8.97872269e-06, 5.35629351e-06,\n",
              "       1.70991188e-06, 5.83574149e-07], dtype=float32)"
            ]
          },
          "metadata": {},
          "execution_count": 32
        }
      ]
    },
    {
      "cell_type": "markdown",
      "metadata": {
        "id": "G8--XMwl9rJs"
      },
      "source": [
        "The coefficients in this vector sum to 1:"
      ]
    },
    {
      "cell_type": "code",
      "execution_count": 33,
      "metadata": {
        "id": "rZQb9ZbL9rJs",
        "outputId": "f3c33981-1e0b-4ae8-b1a7-f83f640b0dd3",
        "colab": {
          "base_uri": "https://localhost:8080/"
        }
      },
      "outputs": [
        {
          "output_type": "execute_result",
          "data": {
            "text/plain": [
              "1.0"
            ]
          },
          "metadata": {},
          "execution_count": 33
        }
      ],
      "source": [
        "np.sum(predictions[0])"
      ]
    },
    {
      "cell_type": "markdown",
      "metadata": {
        "id": "V6bD1lom9rJt"
      },
      "source": [
        "The largest entry is the predicted class, i.e. the class with the highest probability:"
      ]
    },
    {
      "cell_type": "code",
      "execution_count": 34,
      "metadata": {
        "id": "dvP_mEN19rJt",
        "outputId": "a06b2a01-cb22-47c6-ca1e-eecd33c8d64e",
        "colab": {
          "base_uri": "https://localhost:8080/"
        }
      },
      "outputs": [
        {
          "output_type": "execute_result",
          "data": {
            "text/plain": [
              "3"
            ]
          },
          "metadata": {},
          "execution_count": 34
        }
      ],
      "source": [
        "np.argmax(predictions[0])"
      ]
    },
    {
      "cell_type": "markdown",
      "metadata": {
        "id": "Si4IQ3Kk9rJt"
      },
      "source": [
        "## A different way to handle the labels and the loss\n",
        "\n",
        "We mentioned earlier that another way to encode the labels would be to cast them as an integer tensor, like such:"
      ]
    },
    {
      "cell_type": "code",
      "execution_count": 35,
      "metadata": {
        "id": "VoC6GJIp9rJu"
      },
      "outputs": [],
      "source": [
        "partial_y_train = np.array(train_labels[data_indices[1000:]])\n",
        "y_val = np.array(train_labels[data_indices[:1000]])\n",
        "y_test = np.array(test_labels)"
      ]
    },
    {
      "cell_type": "markdown",
      "metadata": {
        "id": "3337gTgU9rJu"
      },
      "source": [
        "\n",
        "The only thing it would change is the choice of the loss function. Our previous loss, `categorical_crossentropy`, expects the labels to \n",
        "follow a categorical encoding. With integer labels, we should use `sparse_categorical_crossentropy`.\n",
        "\n",
        "This new loss function is still mathematically the same as `categorical_crossentropy`; it just has a different interface:"
      ]
    },
    {
      "cell_type": "code",
      "source": [
        "model = models.Sequential()\n",
        "model.add(layers.Dense(64, activation='relu', input_shape=(10000,)))\n",
        "model.add(layers.Dense(64, activation='relu'))\n",
        "model.add(layers.Dense(46, activation='softmax'))\n",
        "\n",
        "model.compile(optimizer='rmsprop', loss='sparse_categorical_crossentropy', metrics=['acc'])\n",
        "\n",
        "model.fit(partial_x_train,\n",
        "          partial_y_train,\n",
        "          epochs=20,\n",
        "          batch_size=512,\n",
        "          validation_data=(x_val, y_val),\n",
        "          callbacks=[tf.keras.callbacks.EarlyStopping(monitor='val_loss', mode='min', patience=2)])"
      ],
      "metadata": {
        "id": "SL1xQ5JN5i5s",
        "outputId": "10b56039-6186-4999-9cad-2fd1c17b51df",
        "colab": {
          "base_uri": "https://localhost:8080/"
        }
      },
      "execution_count": 36,
      "outputs": [
        {
          "output_type": "stream",
          "name": "stdout",
          "text": [
            "Epoch 1/20\n",
            "16/16 [==============================] - 1s 32ms/step - loss: 2.6327 - acc: 0.5291 - val_loss: 1.7484 - val_acc: 0.6540\n",
            "Epoch 2/20\n",
            "16/16 [==============================] - 0s 17ms/step - loss: 1.3888 - acc: 0.7071 - val_loss: 1.3648 - val_acc: 0.6970\n",
            "Epoch 3/20\n",
            "16/16 [==============================] - 0s 17ms/step - loss: 1.0300 - acc: 0.7767 - val_loss: 1.2316 - val_acc: 0.7320\n",
            "Epoch 4/20\n",
            "16/16 [==============================] - 0s 21ms/step - loss: 0.8106 - acc: 0.8289 - val_loss: 1.1413 - val_acc: 0.7480\n",
            "Epoch 5/20\n",
            "16/16 [==============================] - 0s 20ms/step - loss: 0.6468 - acc: 0.8671 - val_loss: 1.0879 - val_acc: 0.7540\n",
            "Epoch 6/20\n",
            "16/16 [==============================] - 0s 16ms/step - loss: 0.5149 - acc: 0.8953 - val_loss: 1.0646 - val_acc: 0.7590\n",
            "Epoch 7/20\n",
            "16/16 [==============================] - 0s 18ms/step - loss: 0.4161 - acc: 0.9136 - val_loss: 1.0264 - val_acc: 0.7790\n",
            "Epoch 8/20\n",
            "16/16 [==============================] - 0s 18ms/step - loss: 0.3390 - acc: 0.9273 - val_loss: 1.0394 - val_acc: 0.7700\n",
            "Epoch 9/20\n",
            "16/16 [==============================] - 0s 17ms/step - loss: 0.2839 - acc: 0.9360 - val_loss: 1.0216 - val_acc: 0.7830\n",
            "Epoch 10/20\n",
            "16/16 [==============================] - 0s 17ms/step - loss: 0.2383 - acc: 0.9434 - val_loss: 1.0620 - val_acc: 0.7770\n",
            "Epoch 11/20\n",
            "16/16 [==============================] - 0s 17ms/step - loss: 0.2041 - acc: 0.9503 - val_loss: 1.0721 - val_acc: 0.7670\n"
          ]
        },
        {
          "output_type": "execute_result",
          "data": {
            "text/plain": [
              "<keras.callbacks.History at 0x7f194090e610>"
            ]
          },
          "metadata": {},
          "execution_count": 36
        }
      ]
    },
    {
      "cell_type": "markdown",
      "metadata": {
        "id": "EYmxaAJX9rJv"
      },
      "source": [
        "## On the importance of having sufficiently large intermediate layers\n",
        "\n",
        "\n",
        "We mentioned earlier that since our final outputs were 46-dimensional, we should avoid intermediate layers with much less than 46 hidden \n",
        "units. Now let's try to see what happens when we introduce an information bottleneck by having intermediate layers significantly less than \n",
        "46-dimensional, e.g. 4-dimensional."
      ]
    },
    {
      "cell_type": "code",
      "execution_count": 38,
      "metadata": {
        "id": "TYQBoIjD9rJv",
        "outputId": "35ffe7dd-eced-4f89-c9a5-7ed2ad44d934",
        "colab": {
          "base_uri": "https://localhost:8080/"
        }
      },
      "outputs": [
        {
          "output_type": "stream",
          "name": "stdout",
          "text": [
            "Epoch 1/20\n",
            "63/63 [==============================] - 1s 10ms/step - loss: 3.3531 - accuracy: 0.0402 - val_loss: 2.8126 - val_accuracy: 0.1710\n",
            "Epoch 2/20\n",
            "63/63 [==============================] - 0s 7ms/step - loss: 2.1847 - accuracy: 0.5198 - val_loss: 1.8798 - val_accuracy: 0.5500\n",
            "Epoch 3/20\n",
            "63/63 [==============================] - 0s 7ms/step - loss: 1.6079 - accuracy: 0.5809 - val_loss: 1.7017 - val_accuracy: 0.5560\n",
            "Epoch 4/20\n",
            "63/63 [==============================] - 0s 7ms/step - loss: 1.4490 - accuracy: 0.5948 - val_loss: 1.6841 - val_accuracy: 0.5640\n",
            "Epoch 5/20\n",
            "63/63 [==============================] - 0s 7ms/step - loss: 1.3709 - accuracy: 0.6107 - val_loss: 1.6721 - val_accuracy: 0.5700\n",
            "Epoch 6/20\n",
            "63/63 [==============================] - 1s 10ms/step - loss: 1.3154 - accuracy: 0.6260 - val_loss: 1.6717 - val_accuracy: 0.5840\n",
            "Epoch 7/20\n",
            "63/63 [==============================] - 1s 10ms/step - loss: 1.2285 - accuracy: 0.6678 - val_loss: 1.6296 - val_accuracy: 0.6180\n",
            "Epoch 8/20\n",
            "63/63 [==============================] - 1s 10ms/step - loss: 1.1255 - accuracy: 0.6858 - val_loss: 1.6261 - val_accuracy: 0.6290\n",
            "Epoch 9/20\n",
            "63/63 [==============================] - 1s 10ms/step - loss: 1.0536 - accuracy: 0.6926 - val_loss: 1.6215 - val_accuracy: 0.6270\n",
            "Epoch 10/20\n",
            "63/63 [==============================] - 1s 11ms/step - loss: 0.9937 - accuracy: 0.7025 - val_loss: 1.6178 - val_accuracy: 0.6460\n",
            "Epoch 11/20\n",
            "63/63 [==============================] - 1s 10ms/step - loss: 0.9388 - accuracy: 0.7387 - val_loss: 1.6949 - val_accuracy: 0.6550\n",
            "Epoch 12/20\n",
            "63/63 [==============================] - 1s 11ms/step - loss: 0.8523 - accuracy: 0.7917 - val_loss: 1.6701 - val_accuracy: 0.6940\n"
          ]
        },
        {
          "output_type": "execute_result",
          "data": {
            "text/plain": [
              "<keras.callbacks.History at 0x7f19410f2150>"
            ]
          },
          "metadata": {},
          "execution_count": 38
        }
      ],
      "source": [
        "model = models.Sequential()\n",
        "model.add(layers.Dense(64, activation='relu', input_shape=(10000,)))\n",
        "model.add(layers.Dense(4, activation='relu'))\n",
        "model.add(layers.Dense(46, activation='softmax'))\n",
        "\n",
        "model.compile(optimizer='rmsprop',\n",
        "              loss='sparse_categorical_crossentropy',\n",
        "              metrics=['accuracy'])\n",
        "\n",
        "model.fit(partial_x_train,\n",
        "          partial_y_train,\n",
        "          epochs=20,\n",
        "          batch_size=128,\n",
        "          validation_data=(x_val, y_val),\n",
        "          callbacks=[tf.keras.callbacks.EarlyStopping(monitor='val_loss', mode='min', patience=2)])"
      ]
    },
    {
      "cell_type": "markdown",
      "metadata": {
        "id": "gqQKzJEO9rJw"
      },
      "source": [
        "\n",
        "Our network now seems to peak at ~71% test accuracy, an 8% absolute drop. This drop is mostly due to the fact that we are now trying to \n",
        "compress a lot of information (enough information to recover the separation hyperplanes of 46 classes) into an intermediate space that is \n",
        "too low-dimensional. The network is able to cram _most_ of the necessary information into these 8-dimensional representations, but not all \n",
        "of it."
      ]
    },
    {
      "cell_type": "markdown",
      "metadata": {
        "id": "lBm07CdE9rJw"
      },
      "source": [
        "## Further experiments\n",
        "\n",
        "* Try using larger or smaller layers: 32 units, 128 units...\n",
        "* We were using two hidden layers. Now try to use a single hidden layer, or three hidden layers."
      ]
    },
    {
      "cell_type": "markdown",
      "metadata": {
        "id": "H8EpSMDP9rJx"
      },
      "source": [
        "## Wrapping up\n",
        "\n",
        "\n",
        "Here's what you should take away from this example:\n",
        "\n",
        "* If you are trying to classify data points between N classes, your network should end with a `Dense` layer of size N.\n",
        "* In a single-label, multi-class classification problem, your network should end with a `softmax` activation, so that it will output a \n",
        "probability distribution over the N output classes.\n",
        "* **Categorical crossentropy** is almost always the loss function you should use for such problems. It minimizes the distance between the \n",
        "probability distributions output by the network, and the true distribution of the targets."
      ]
    },
    {
      "cell_type": "markdown",
      "metadata": {
        "id": "M6R5uHqu9rJx"
      },
      "source": [
        "* There are two ways to handle labels in multi-class classification:\n",
        "    1. Encoding the labels via \"categorical encoding\" (also known as \"one-hot encoding\") and using `categorical_crossentropy` as your loss \n",
        "function.\n",
        "    2. Encoding the labels as integers and using the `sparse_categorical_crossentropy` loss function.\n",
        "* If you need to classify data into a large number of categories, then you should avoid creating information bottlenecks in your network by having \n",
        "intermediate layers that are too small."
      ]
    },
    {
      "cell_type": "code",
      "execution_count": null,
      "metadata": {
        "id": "tfktEapZ9rJx"
      },
      "outputs": [],
      "source": [
        ""
      ]
    }
  ],
  "metadata": {
    "celltoolbar": "Slideshow",
    "interpreter": {
      "hash": "a7b63e7410c98f344f02082f10d790581d1dba1eeb1c8fe30f342f6109f0429e"
    },
    "kernelspec": {
      "display_name": "Python 3.7.3 64-bit ('base': conda)",
      "language": "python",
      "name": "python3"
    },
    "language_info": {
      "codemirror_mode": {
        "name": "ipython",
        "version": 3
      },
      "file_extension": ".py",
      "mimetype": "text/x-python",
      "name": "python",
      "nbconvert_exporter": "python",
      "pygments_lexer": "ipython3",
      "version": "3.9.10"
    },
    "colab": {
      "name": "W04L1-2-Newswires.ipynb",
      "provenance": []
    },
    "accelerator": "GPU"
  },
  "nbformat": 4,
  "nbformat_minor": 0
}