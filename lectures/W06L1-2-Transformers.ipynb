{
  "cells": [
    {
      "cell_type": "markdown",
      "metadata": {
        "id": "jxvSWoOH2z-f"
      },
      "source": [
        "## Huggingface's transformers library\n",
        "\n",
        "Parts of this code based on https://huggingface.co/transformers/quickstart.html and https://github.com/strongio/keras-bert/blob/master/keras-bert.ipynb"
      ]
    },
    {
      "cell_type": "markdown",
      "metadata": {
        "id": "ae4dpp6s2z--"
      },
      "source": [
        "Huggingface's `transformers` library is a very popular library that contains some of the latest complex architectures based on the Transformer. This library is used by an increasing number of developers and researchers to produce state-of-the-art results in multiple tasks. In this notebook, we will use what is arguably the most popular architecture, BERT, for the task of the classification of movie reviews (yes, this task again)."
      ]
    },
    {
      "cell_type": "code",
      "execution_count": 1,
      "metadata": {
        "colab": {
          "base_uri": "https://localhost:8080/"
        },
        "id": "nVa3t-hS2z_C",
        "outputId": "0e313cf5-5c14-4464-9c8c-4575679f3489"
      },
      "outputs": [
        {
          "data": {
            "text/plain": [
              "[PhysicalDevice(name='/physical_device:CPU:0', device_type='CPU'),\n",
              " PhysicalDevice(name='/physical_device:XLA_CPU:0', device_type='XLA_CPU'),\n",
              " PhysicalDevice(name='/physical_device:GPU:0', device_type='GPU'),\n",
              " PhysicalDevice(name='/physical_device:XLA_GPU:0', device_type='XLA_GPU')]"
            ]
          },
          "execution_count": 1,
          "metadata": {},
          "output_type": "execute_result"
        }
      ],
      "source": [
        "import tensorflow as tf\n",
        "tf.config.experimental.list_physical_devices()"
      ]
    },
    {
      "cell_type": "code",
      "execution_count": 2,
      "metadata": {
        "id": "4luWnRMG2z_O"
      },
      "outputs": [],
      "source": [
        "#from tensorflow.compat.v1 import ConfigProto\n",
        "#from tensorflow.compat.v1 import InteractiveSession\n",
        "#\n",
        "#config = ConfigProto()\n",
        "#config.gpu_options.allow_growth = True\n",
        "#session = InteractiveSession(config=config)"
      ]
    },
    {
      "cell_type": "code",
      "execution_count": 3,
      "metadata": {
        "id": "DjDXnS6Vbydi"
      },
      "outputs": [],
      "source": [
        "physical_devices = tf.config.list_physical_devices('GPU')\n",
        "tf.config.experimental.set_memory_growth(physical_devices[0], enable=True)"
      ]
    },
    {
      "cell_type": "code",
      "execution_count": 4,
      "metadata": {
        "colab": {
          "base_uri": "https://localhost:8080/"
        },
        "id": "eGeKcwRG3MCW",
        "outputId": "3c7ab6c0-7f57-44c2-d7f1-b75aedb50604"
      },
      "outputs": [
        {
          "name": "stdout",
          "output_type": "stream",
          "text": [
            "Requirement already satisfied: transformers in /home/diego/anaconda3/lib/python3.8/site-packages (3.4.0)\n",
            "Requirement already satisfied: sentencepiece!=0.1.92 in /home/diego/anaconda3/lib/python3.8/site-packages (from transformers) (0.1.91)\n",
            "Requirement already satisfied: sacremoses in /home/diego/anaconda3/lib/python3.8/site-packages (from transformers) (0.0.43)\n",
            "Requirement already satisfied: numpy in /home/diego/anaconda3/lib/python3.8/site-packages (from transformers) (1.19.2)\n",
            "Requirement already satisfied: regex!=2019.12.17 in /home/diego/anaconda3/lib/python3.8/site-packages (from transformers) (2020.6.8)\n",
            "Requirement already satisfied: requests in /home/diego/anaconda3/lib/python3.8/site-packages (from transformers) (2.24.0)\n",
            "Requirement already satisfied: packaging in /home/diego/anaconda3/lib/python3.8/site-packages (from transformers) (20.4)\n",
            "Requirement already satisfied: tokenizers==0.9.2 in /home/diego/anaconda3/lib/python3.8/site-packages (from transformers) (0.9.2)\n",
            "Requirement already satisfied: filelock in /home/diego/anaconda3/lib/python3.8/site-packages (from transformers) (3.0.12)\n",
            "Requirement already satisfied: protobuf in /home/diego/anaconda3/lib/python3.8/site-packages (from transformers) (3.13.0)\n",
            "Requirement already satisfied: tqdm>=4.27 in /home/diego/anaconda3/lib/python3.8/site-packages (from transformers) (4.47.0)\n",
            "Requirement already satisfied: click in /home/diego/anaconda3/lib/python3.8/site-packages (from sacremoses->transformers) (7.1.2)\n",
            "Requirement already satisfied: joblib in /home/diego/anaconda3/lib/python3.8/site-packages (from sacremoses->transformers) (0.16.0)\n",
            "Requirement already satisfied: six in /home/diego/anaconda3/lib/python3.8/site-packages (from sacremoses->transformers) (1.15.0)\n",
            "Requirement already satisfied: urllib3!=1.25.0,!=1.25.1,<1.26,>=1.21.1 in /home/diego/anaconda3/lib/python3.8/site-packages (from requests->transformers) (1.25.9)\n",
            "Requirement already satisfied: chardet<4,>=3.0.2 in /home/diego/anaconda3/lib/python3.8/site-packages (from requests->transformers) (3.0.4)\n",
            "Requirement already satisfied: idna<3,>=2.5 in /home/diego/anaconda3/lib/python3.8/site-packages (from requests->transformers) (2.10)\n",
            "Requirement already satisfied: certifi>=2017.4.17 in /home/diego/anaconda3/lib/python3.8/site-packages (from requests->transformers) (2020.6.20)\n",
            "Requirement already satisfied: pyparsing>=2.0.2 in /home/diego/anaconda3/lib/python3.8/site-packages (from packaging->transformers) (2.4.7)\n",
            "Requirement already satisfied: setuptools in /home/diego/anaconda3/lib/python3.8/site-packages (from protobuf->transformers) (49.2.0.post20200714)\n"
          ]
        }
      ],
      "source": [
        "# Uncomment this cell if you need to install transformers for google colab\n",
        "!pip install transformers"
      ]
    },
    {
      "cell_type": "markdown",
      "metadata": {
        "id": "Z90jwNbr2z_S"
      },
      "source": [
        "If we are going to use the pre-trained weights provided by `transformers`, we need to make sure that we use the same tokenizer. The following code illustrates how to use the tokenizer bundled with the BERT model. The first thing we need to do is load the tokenizer from the pre-trained model."
      ]
    },
    {
      "cell_type": "code",
      "execution_count": 4,
      "metadata": {
        "id": "YzuBwEn32z_U"
      },
      "outputs": [],
      "source": [
        "from transformers import BertTokenizer, TFBertModel"
      ]
    },
    {
      "cell_type": "code",
      "execution_count": 5,
      "metadata": {
        "colab": {
          "base_uri": "https://localhost:8080/",
          "height": 113,
          "referenced_widgets": [
            "5b79ef881aed467692118df4cd12db7b",
            "060861a9d06243c6bbb9b3efa29ea677",
            "773b8293bf6e4a6f99af7e1b4378d06b",
            "8370fef2bfc64dfca06327c03a4da206",
            "19d0638c249e4c50a17c03dc00404b18",
            "60d3fd12f2e142a19b2ab605edd4ad8e",
            "992952129ced436b97384ffe8fed803f",
            "1d6a6f042e2e48f28ad14b110616a04f",
            "d0b9d6e7725742f2b0f42b658c006b95",
            "f9979b580685448ea0a8757abbae2bfb",
            "5ee65501524640f3b934ac9cc1703dab",
            "50a4dad58d264031a8741219fb296a23",
            "0a8d929a538f4dcb9d6e66baf6b43c75",
            "c16c934beecc4f37b558b500730085c8",
            "64c9ac05584f49668b07b25ae8105ae8",
            "ccf566ffc3064f09bc310120c08442fe",
            "b1ed672cce734d66b86df18e10dd8408",
            "2e6cf4332139464bab41bfb91cd66b29",
            "da352f8b9b984a84bf97a60ce182641b",
            "a24053b53a734ff5a97c134cedb6e3b1",
            "248338de967a45f489784a5506519772",
            "1aa10f18962449d38ece454936d728f5",
            "ab5e1280bb8c4644b678f18ed6d32ad9",
            "f28499b37c0e4528bb87ae9a2eb0238f",
            "16d0fe088e8d49b08f25bf9e689339d4",
            "215212d2f52b4711947ba99251f03d2b",
            "5970a2c88e38499a847cd6cb40fcc69f",
            "e7eb68b0c41848cfad6752c0702bfd31",
            "d4157aa4d15b46b9ad84666e727fa67f",
            "0c972936de7a4d318d43a9a2c4f42af9",
            "8de4ec97a6874911baa54a943e671f6d",
            "c22c9be650d041a7ba9f3ee3019115d1",
            "876b2ab880e44a318151f01a09be083e"
          ]
        },
        "id": "wVGF1VL02z_X",
        "outputId": "8f5cc0f5-ee69-437f-d26b-816e9e84f62c"
      },
      "outputs": [],
      "source": [
        "# Load pre-trained model tokenizer (vocabulary)\n",
        "tokenizer = BertTokenizer.from_pretrained('bert-base-uncased')"
      ]
    },
    {
      "cell_type": "markdown",
      "metadata": {
        "id": "hJ73ad1O2z_Y"
      },
      "source": [
        "The method `encode` will return the word indices. There are several special indices:\n",
        "\n",
        "* 101 is used to encode the special token `[CLS]`. This token indicates the beginning of the string.\n",
        "* 102 is used to encode the sentence separator `[SEP]`.\n",
        "\n",
        "You will observe that the number of tokens does not correspond with the number of words. This is because BERT's tokeniser will split long words into shorter pieces of text. This is BERT's approach to address the problem of unknown words. By splitting long words into multiple tokens, we are less likely to find unknown words."
      ]
    },
    {
      "cell_type": "code",
      "execution_count": 6,
      "metadata": {
        "colab": {
          "base_uri": "https://localhost:8080/"
        },
        "id": "UQefcXMG2z_a",
        "outputId": "eee0854e-b497-4f3e-c60a-29460950b399"
      },
      "outputs": [
        {
          "data": {
            "text/plain": [
              "[101,\n",
              " 2040,\n",
              " 2001,\n",
              " 3958,\n",
              " 27227,\n",
              " 1029,\n",
              " 102,\n",
              " 3958,\n",
              " 27227,\n",
              " 2001,\n",
              " 1037,\n",
              " 13997,\n",
              " 11510,\n",
              " 102]"
            ]
          },
          "execution_count": 6,
          "metadata": {},
          "output_type": "execute_result"
        }
      ],
      "source": [
        "text = \"[CLS] Who was Jim Henson ? [SEP] Jim Henson was a puppeteer [SEP]\"\n",
        "tokens = tokenizer.encode(text, add_special_tokens=False)\n",
        "tokens"
      ]
    },
    {
      "cell_type": "code",
      "execution_count": 7,
      "metadata": {
        "colab": {
          "base_uri": "https://localhost:8080/",
          "height": 35
        },
        "id": "n6FlX8pt2z_c",
        "outputId": "a63c1ab8-6c67-49a5-a5f6-d3895f4463ea"
      },
      "outputs": [
        {
          "data": {
            "text/plain": [
              "'[CLS] who was jim henson? [SEP] jim henson was a puppeteer [SEP]'"
            ]
          },
          "execution_count": 7,
          "metadata": {},
          "output_type": "execute_result"
        }
      ],
      "source": [
        "tokenizer.decode(tokens)"
      ]
    },
    {
      "cell_type": "markdown",
      "metadata": {
        "id": "usRXoILi2z_f"
      },
      "source": [
        "The decoded version has converted all uppercase characters to lowercase. This is because we have used the pre-trained model \"bert-case-uncased\"."
      ]
    },
    {
      "cell_type": "markdown",
      "metadata": {
        "id": "s0W1fl4U2z_i"
      },
      "source": [
        "The process of tokenising can also be done through two steps: first find the words, then find the word indices. The code below shows that the word \"puppeteer\" has been split into two tokens: \"puppet\" and \"##eer\"."
      ]
    },
    {
      "cell_type": "code",
      "execution_count": 8,
      "metadata": {
        "colab": {
          "base_uri": "https://localhost:8080/"
        },
        "id": "ItwheutA2z_i",
        "outputId": "834ee52c-2e41-452c-bef0-68f7a4c6a2f7"
      },
      "outputs": [
        {
          "data": {
            "text/plain": [
              "['[CLS]',\n",
              " 'who',\n",
              " 'was',\n",
              " 'jim',\n",
              " 'henson',\n",
              " '?',\n",
              " '[SEP]',\n",
              " 'jim',\n",
              " 'henson',\n",
              " 'was',\n",
              " 'a',\n",
              " 'puppet',\n",
              " '##eer',\n",
              " '[SEP]']"
            ]
          },
          "execution_count": 8,
          "metadata": {},
          "output_type": "execute_result"
        }
      ],
      "source": [
        "# Tokenize input\n",
        "text = \"[CLS] Who was Jim Henson ? [SEP] Jim Henson was a puppeteer [SEP]\"\n",
        "tokenized_text = tokenizer.tokenize(text)\n",
        "tokenized_text"
      ]
    },
    {
      "cell_type": "code",
      "execution_count": 9,
      "metadata": {
        "colab": {
          "base_uri": "https://localhost:8080/"
        },
        "id": "MkyvAx5L2z_k",
        "outputId": "5045a008-8b1d-42ff-d4c4-2e9cadcb7c85"
      },
      "outputs": [
        {
          "data": {
            "text/plain": [
              "[101,\n",
              " 2040,\n",
              " 2001,\n",
              " 3958,\n",
              " 27227,\n",
              " 1029,\n",
              " 102,\n",
              " 3958,\n",
              " 27227,\n",
              " 2001,\n",
              " 1037,\n",
              " 13997,\n",
              " 11510,\n",
              " 102]"
            ]
          },
          "execution_count": 9,
          "metadata": {},
          "output_type": "execute_result"
        }
      ],
      "source": [
        "# Convert token to vocabulary indices\n",
        "indexed_tokens = tokenizer.convert_tokens_to_ids(tokenized_text)\n",
        "indexed_tokens"
      ]
    },
    {
      "cell_type": "markdown",
      "metadata": {
        "id": "E6Tyw_QW2z_k"
      },
      "source": [
        "# IMDB data preparation\n",
        "From https://github.com/strongio/keras-bert/blob/master/keras-bert.ipynb\n",
        "\n",
        "We need to tokenise the IMDB data (we cannot use the word indices given by Keras). The following code downloads the IMDB data and loads it as a `pandas` data frame."
      ]
    },
    {
      "cell_type": "code",
      "execution_count": 10,
      "metadata": {
        "id": "2t7OKJjc2z_l"
      },
      "outputs": [],
      "source": [
        "import os\n",
        "import re\n",
        "import pandas as pd\n",
        "# Load all files from a directory in a DataFrame.\n",
        "def load_directory_data(directory):\n",
        "  data = {}\n",
        "  data[\"sentence\"] = []\n",
        "  data[\"sentiment\"] = []\n",
        "  for file_path in os.listdir(directory):\n",
        "    with tf.io.gfile.GFile(os.path.join(directory, file_path), \"r\") as f:\n",
        "      data[\"sentence\"].append(f.read())\n",
        "      data[\"sentiment\"].append(re.match(\"\\d+_(\\d+)\\.txt\", file_path).group(1))\n",
        "  return pd.DataFrame.from_dict(data)\n",
        "\n",
        "# Merge positive and negative examples, add a polarity column and shuffle.\n",
        "def load_dataset(directory):\n",
        "  pos_df = load_directory_data(os.path.join(directory, \"pos\"))\n",
        "  neg_df = load_directory_data(os.path.join(directory, \"neg\"))\n",
        "  pos_df[\"polarity\"] = 1\n",
        "  neg_df[\"polarity\"] = 0\n",
        "  return pd.concat([pos_df, neg_df]).sample(frac=1).reset_index(drop=True)\n",
        "\n",
        "# Download and process the dataset files.\n",
        "def download_and_load_datasets(force_download=False):\n",
        "  dataset = tf.keras.utils.get_file(\n",
        "      fname=\"aclImdb.tar.gz\", \n",
        "      origin=\"http://ai.stanford.edu/~amaas/data/sentiment/aclImdb_v1.tar.gz\", \n",
        "      extract=True)\n",
        "\n",
        "  train_df = load_dataset(os.path.join(os.path.dirname(dataset), \n",
        "                                       \"aclImdb\", \"train\"))\n",
        "  test_df = load_dataset(os.path.join(os.path.dirname(dataset), \n",
        "                                      \"aclImdb\", \"test\"))\n",
        "\n",
        "  return train_df, test_df"
      ]
    },
    {
      "cell_type": "code",
      "execution_count": 11,
      "metadata": {
        "colab": {
          "base_uri": "https://localhost:8080/",
          "height": 258
        },
        "id": "nYXc_WzO2z_l",
        "outputId": "30075bd8-a5f6-46af-904a-42e837ae3526"
      },
      "outputs": [
        {
          "data": {
            "text/html": [
              "<div>\n",
              "<style scoped>\n",
              "    .dataframe tbody tr th:only-of-type {\n",
              "        vertical-align: middle;\n",
              "    }\n",
              "\n",
              "    .dataframe tbody tr th {\n",
              "        vertical-align: top;\n",
              "    }\n",
              "\n",
              "    .dataframe thead th {\n",
              "        text-align: right;\n",
              "    }\n",
              "</style>\n",
              "<table border=\"1\" class=\"dataframe\">\n",
              "  <thead>\n",
              "    <tr style=\"text-align: right;\">\n",
              "      <th></th>\n",
              "      <th>sentence</th>\n",
              "      <th>sentiment</th>\n",
              "      <th>polarity</th>\n",
              "    </tr>\n",
              "  </thead>\n",
              "  <tbody>\n",
              "    <tr>\n",
              "      <th>0</th>\n",
              "      <td>I anticipated this movie to be decent and poss...</td>\n",
              "      <td>9</td>\n",
              "      <td>1</td>\n",
              "    </tr>\n",
              "    <tr>\n",
              "      <th>1</th>\n",
              "      <td>-=contains spoiler from both original and movi...</td>\n",
              "      <td>1</td>\n",
              "      <td>0</td>\n",
              "    </tr>\n",
              "    <tr>\n",
              "      <th>2</th>\n",
              "      <td>STAR RATING: ***** Saturday Night **** Friday ...</td>\n",
              "      <td>4</td>\n",
              "      <td>0</td>\n",
              "    </tr>\n",
              "    <tr>\n",
              "      <th>3</th>\n",
              "      <td>A fascinating look at the relationship of a si...</td>\n",
              "      <td>10</td>\n",
              "      <td>1</td>\n",
              "    </tr>\n",
              "    <tr>\n",
              "      <th>4</th>\n",
              "      <td>The Old Mill Pond is more of a tribute to the ...</td>\n",
              "      <td>10</td>\n",
              "      <td>1</td>\n",
              "    </tr>\n",
              "  </tbody>\n",
              "</table>\n",
              "</div>"
            ],
            "text/plain": [
              "                                            sentence sentiment  polarity\n",
              "0  I anticipated this movie to be decent and poss...         9         1\n",
              "1  -=contains spoiler from both original and movi...         1         0\n",
              "2  STAR RATING: ***** Saturday Night **** Friday ...         4         0\n",
              "3  A fascinating look at the relationship of a si...        10         1\n",
              "4  The Old Mill Pond is more of a tribute to the ...        10         1"
            ]
          },
          "execution_count": 11,
          "metadata": {},
          "output_type": "execute_result"
        }
      ],
      "source": [
        "train_df, test_df = download_and_load_datasets()\n",
        "train_df.head()"
      ]
    },
    {
      "cell_type": "markdown",
      "metadata": {
        "id": "-PnSeB-_2z_n"
      },
      "source": [
        "We now load the text and the labels. We use the \"polarity\" column for the labels."
      ]
    },
    {
      "cell_type": "code",
      "execution_count": 12,
      "metadata": {
        "id": "n5Yt1Dum2z_o"
      },
      "outputs": [],
      "source": [
        "import numpy as np\n",
        "# Create datasets (Only take up to max_seq_length words for memory)\n",
        "max_seq_length = 500\n",
        "train_text = train_df['sentence'].tolist()\n",
        "train_text = [' '.join(t.split()[0:max_seq_length]) for t in train_text]\n",
        "#train_text = np.array(train_text, dtype=object)[:, np.newaxis]\n",
        "train_label = train_df['polarity'].tolist()\n",
        "\n",
        "test_text = test_df['sentence'].tolist()\n",
        "test_text = [' '.join(t.split()[0:max_seq_length]) for t in test_text]\n",
        "#test_text = np.array(test_text, dtype=object)[:, np.newaxis]\n",
        "test_label = test_df['polarity'].tolist()\n"
      ]
    },
    {
      "cell_type": "code",
      "execution_count": 13,
      "metadata": {
        "colab": {
          "base_uri": "https://localhost:8080/"
        },
        "id": "6zU1Pha72z_o",
        "outputId": "c4bfeb5a-cad2-4879-dbec-1518cb8ad6c1"
      },
      "outputs": [
        {
          "data": {
            "text/plain": [
              "[\"I anticipated this movie to be decent and possibly cliché, but I was completely wrong! Charlie Cox (I had never heard of him until now) played an incredibly good leading man; he was so earnest and romantic, me and my friend that saw the movie with me totally fell in love with him.<br /><br />Claire Danes, who I did like before (LOVED her in Romeo and Juliet), made me enjoy her even more. Her acting was fantastic, I couldn't even tell that she was American. The chemistry between her and Charlie Cox was extremely good, the casting was quite perfect.<br /><br />Robert DeNiro and Michelle Pfeiffer were equally well-casted; DeNiro as that gay pirate...priceless, priceless. I laughed so hard at that one scene where Septimus comes on the ship...oh my god, wow. Pfeiffer played a decent villain, I liked her as the snippy mother in Hairspray. But she had the right amount of melodrama and snide comments throughout the movie. <br /><br />Overall, it was funny (but not slap-stick at all!), romantic, the special effects weren't totally frequent but when they were, they were great; the cameos from Ricky Gervais and Peter O'Toole were also well-placed. <br /><br />I totally recommend this movie to anyone who likes fantasy movies like the Princess Bride or even Lord of the Rings. It kept my interest the entire time and I will be buying the DVD when it comes out!\",\n",
              " '-=contains spoiler from both original and movie versions=-<br /><br />i am a huge fan of Notre dame De Paris musical,i also read book this summer and i watched movie today,in the beginning i was hopeful to watch a good film especially when i saw 6.3 IMDb point.first scenes were good but i actually waited for,theaters scene directly from book,but it was normal but when Esmeralda kisses gringoire i felt something is wrong..they don\\'t even kiss in book,even in musical..<br /><br />and there were huge gap why Esmeralda being judged by sorcerer,in the book she teaches her goat how to respond numbers of clock or write word \"phoebus\".. wait there were a phoebus weren\\'t there? in this movie he is some soldier junk nothing more,the creators made Quasimodo\\'s love to show around and they even canceled Frollo\\'s love..but Notre dame was frollo. his thoughts his struggles between love of god and love of human in movie we cant find anything like that all we have is,some villain who is really bad and kills people whose clashes with his thoughts..and not mentioning phoebus,not mentioning love of frollo,not mentioning jehan (brother of frollo) not mentioning mother of Esmeralda (maybe it is OK,the storyline would have chopped much)they even not mentioned the real story.. (another PS:frollo wasn\\'t a opus dei or some cult member he actually in interest with alchemy he tries to make gold..he was stuck in science and religion)<br /><br />finally don\\'t watch this movie,it is some kind of directors edition to real masterpiece,and if you have watched it before read the book,god have mercy on you..you must read to book immediately..<br /><br />this movie is worse than hunchback of Notre dame II the animated movie,spend your time with watching Notre dame De Paris musical.. enough said..',\n",
              " \"STAR RATING: ***** Saturday Night **** Friday Night *** Friday Morning ** Sunday Night * Monday Morning <br /><br />Ray (Ray Winstone) has a criminal past, has had problems with alcohol and is now forming a drug habit that is making him paranoid and prone to domestic violence to his wife Valerie (Kathy Burke) who tries to hold the family together but ends up coming off more like a doormat. Meanwhile, her mother Janet (Laila Morse) is aware of Ray's son, Billy (Charlie Creed-Miles) and his escalating drug habit that is sending him off the rails. The film follows these despairable characters as they tredge along with their lives.<br /><br />It is said that the British seem to enjoy being miserable, and that would include watching films that entertain them this way. Films like Nil by Mouth highlight this. It's a tale of a broken family, torn apart by crime, poverty, booze and drugs, the kind Jeremy Kyle would lap up like a three course meal. It is also essentially a tale of self destructive men, three generations apart and each copying the other, tearing a family apart and women trying to hold it together, despite not being strong enough. If you pick up a little of what it's about from the off-set, you can see it doesn't promise to be cheerful viewing from the start and it certainly doesn't disappoint in this.<br /><br />It's true what everyone said about the performances, and the lead stars, Winstone and Burke, do deliver some great acting. We see Winstone lose it with his wife, beating her senseless after some more coke induced paranoia, breaking down during a phone conversation with her and unleashing a typical arsenal of f and c words when she refuses to let him see his kid. Likewise, in a private moment, we see Burke skillfully lose her composure on a staircase, the full impact of the night before kicking in.<br /><br />This is another of those films where there's no 'plot' to follow, as such, just a real life feel of these hopeless lives carrying on from one day to the next. It's been acclaimed by many (including the Baftas!) but it really was just too grim and bleak for me. I have no right to criticize it for this, knowing what I knew about it from the off-set, but sadly this is how I found it. **\"]"
            ]
          },
          "execution_count": 13,
          "metadata": {},
          "output_type": "execute_result"
        }
      ],
      "source": [
        "train_text[:3]"
      ]
    },
    {
      "cell_type": "code",
      "execution_count": 14,
      "metadata": {
        "colab": {
          "base_uri": "https://localhost:8080/"
        },
        "id": "kvMHSn7t2z_p",
        "outputId": "148fadd9-64cd-475c-ec0c-a483b9ebb243"
      },
      "outputs": [
        {
          "data": {
            "text/plain": [
              "[1, 0, 0]"
            ]
          },
          "execution_count": 14,
          "metadata": {},
          "output_type": "execute_result"
        }
      ],
      "source": [
        "train_label[:3]"
      ]
    },
    {
      "cell_type": "code",
      "execution_count": 15,
      "metadata": {
        "id": "bznZsOaz2z_q"
      },
      "outputs": [],
      "source": [
        "train_indices = [tokenizer.encode(t, add_special_tokens=True, max_length=500, padding='max_length', truncation=True) for t in train_text]"
      ]
    },
    {
      "cell_type": "code",
      "execution_count": 16,
      "metadata": {
        "id": "xowhZEM42z_r"
      },
      "outputs": [],
      "source": [
        "test_indices = [tokenizer.encode(t, add_special_tokens=True, max_length=500, padding='max_length', truncation=True) for t in test_text]"
      ]
    },
    {
      "cell_type": "markdown",
      "metadata": {
        "id": "k_JvkINM2z_r"
      },
      "source": [
        "If executing the above two lines is too slow and your computer has multiple CPUs, you can use the following parallel version that uses Python's `multiprocessing` library instead. Uncomment and execute the following cells."
      ]
    },
    {
      "cell_type": "code",
      "execution_count": 17,
      "metadata": {
        "id": "gUNxh4ze2z_s"
      },
      "outputs": [],
      "source": [
        "#from multiprocessing import Pool\n",
        "#from functools import partial\n",
        "#def text_to_indices(data, limit=500):\n",
        "#    \"Convert the text to indices and pad-truncate to the maximum number of words\"\n",
        "#    with Pool() as pool:\n",
        "#        return pool.map(partial(tokenizer.encode,\n",
        "#                                      add_special_tokens=True, max_length=limit, padding='max_length', truncation=True),\n",
        "#                         data)"
      ]
    },
    {
      "cell_type": "code",
      "execution_count": 18,
      "metadata": {
        "id": "izGeNLxZ2z_s"
      },
      "outputs": [],
      "source": [
        "#text_to_indices([\"this is sentence 1\", \"this is sentence 2\"], limit=10)"
      ]
    },
    {
      "cell_type": "code",
      "execution_count": 19,
      "metadata": {
        "id": "0qT5uEb22z_s"
      },
      "outputs": [],
      "source": [
        "#print(\"Obtaining indices of train set\")\n",
        "#train_indices = text_to_indices(train_text)\n",
        "#print(\"Obtaining indices of test set\")\n",
        "#test_indices = text_to_indices(test_text)"
      ]
    },
    {
      "cell_type": "markdown",
      "metadata": {
        "id": "1AOQe3WE2z_t"
      },
      "source": [
        "# Results with BERT\n",
        "Let's now design a simple architecture that uses BERT for binary classification. Our approach will not modify the BERT weights, hence we use the option `trainable=False`."
      ]
    },
    {
      "cell_type": "code",
      "execution_count": 20,
      "metadata": {
        "colab": {
          "base_uri": "https://localhost:8080/",
          "height": 156,
          "referenced_widgets": [
            "a91b42d3189c4659a91964913c9dcab4",
            "ca236631d535477aa75addade85b4901",
            "2b5627d508c544c8b262476d352cbe15",
            "ba9e23e432604578a743bfd1b5a282dd",
            "720c53c412324000997fc10aba69679f",
            "0ef5bb8f0d1f49e8a7408570001cddb0",
            "a8374212a95047e9817c37daadbb1f55",
            "a68850a728ee44168c23d043a46b2eee",
            "c56ad6abf0724042b6854c6914aaaad7",
            "e0d49bb3b05146d78c00bfba3ccfdd2e",
            "733a35b9e7424a5388d8aa076e8a690d"
          ]
        },
        "id": "BkJMCChP2z_u",
        "outputId": "0f7a5b3a-f124-48bf-a6af-a88150856341"
      },
      "outputs": [
        {
          "name": "stderr",
          "output_type": "stream",
          "text": [
            "Some layers from the model checkpoint at bert-base-uncased were not used when initializing TFBertModel: ['mlm___cls', 'nsp___cls']\n",
            "- This IS expected if you are initializing TFBertModel from the checkpoint of a model trained on another task or with another architecture (e.g. initializing a BertForSequenceClassification model from a BertForPretraining model).\n",
            "- This IS NOT expected if you are initializing TFBertModel from the checkpoint of a model that you expect to be exactly identical (initializing a BertForSequenceClassification model from a BertForSequenceClassification model).\n",
            "All the layers of TFBertModel were initialized from the model checkpoint at bert-base-uncased.\n",
            "If your task is similar to the task the model of the checkpoint was trained on, you can already use TFBertModel for predictions without further training.\n"
          ]
        }
      ],
      "source": [
        "# Load pre-trained model (weights)\n",
        "bert = TFBertModel.from_pretrained('bert-base-uncased', trainable=False)"
      ]
    },
    {
      "cell_type": "code",
      "execution_count": 21,
      "metadata": {
        "id": "oy5wZeMl2z_v"
      },
      "outputs": [],
      "source": [
        "from tensorflow.keras.models import Model\n",
        "from tensorflow.keras.layers import Dense, Input, GlobalAveragePooling1D"
      ]
    },
    {
      "cell_type": "markdown",
      "metadata": {
        "id": "VL9HLsJMpuMx"
      },
      "source": [
        "Below is the code that implements the model. Given that the BERT layer returns multiple outputs, we must use Keras' [functional API](https://keras.io/guides/functional_api/) where we use functions to define each layer. Each function takes as a parameter the output of the previous layer in the sequence of the model. \n",
        "\n",
        "Look, in particular, at the line `last_hidden_states = bert(inputs)[0]`. This line is using our definition of BERT, to which we apply the inputs. The layer returns a tuple of values, and we use the first element only (element with index 0). This element contains the information that we want, which is the list of BERT embeddings of each token.\n",
        "\n",
        "Then, the final model is defined by defining what are the inputs and the outputs. In the code below, this is done in the line `bert_model = Model(inputs, outputs)`."
      ]
    },
    {
      "cell_type": "code",
      "execution_count": 22,
      "metadata": {
        "colab": {
          "base_uri": "https://localhost:8080/"
        },
        "id": "SLRrnDxK2z_v",
        "outputId": "d4ca677a-d356-43ac-e79c-f57d6a17c1cb"
      },
      "outputs": [
        {
          "name": "stdout",
          "output_type": "stream",
          "text": [
            "Model: \"model\"\n",
            "_________________________________________________________________\n",
            "Layer (type)                 Output Shape              Param #   \n",
            "=================================================================\n",
            "input_1 (InputLayer)         [(None, 500)]             0         \n",
            "_________________________________________________________________\n",
            "tf_bert_model (TFBertModel)  ((None, 500, 768), (None, 109482240 \n",
            "_________________________________________________________________\n",
            "global_average_pooling1d (Gl (None, 768)               0         \n",
            "_________________________________________________________________\n",
            "dense (Dense)                (None, 1)                 769       \n",
            "=================================================================\n",
            "Total params: 109,483,009\n",
            "Trainable params: 769\n",
            "Non-trainable params: 109,482,240\n",
            "_________________________________________________________________\n"
          ]
        }
      ],
      "source": [
        "# From https://huggingface.co/transformers/_modules/transformers/modeling_tf_bert.html#TFBertModel\n",
        "#inputs = tf.constant(indexed_tokens)[None, :] # Batch  size 1\n",
        "inputs = Input(shape=(500,), dtype=tf.int32)\n",
        "last_hidden_states = bert(inputs)[0]  # The last hidden-state is the first element of the output tuple\n",
        "average_pooling = GlobalAveragePooling1D()(last_hidden_states) # Average pooling of last hidden states as recommended\n",
        "outputs = Dense(1, activation=tf.nn.sigmoid)(average_pooling)\n",
        "bert_model = Model(inputs, outputs)\n",
        "bert_model.summary()"
      ]
    },
    {
      "cell_type": "code",
      "execution_count": 23,
      "metadata": {
        "id": "CvYFvf272z_v"
      },
      "outputs": [],
      "source": [
        "bert_model.compile(optimizer='adam',\n",
        "                   loss='binary_crossentropy',\n",
        "                   metrics=['acc'])"
      ]
    },
    {
      "cell_type": "code",
      "execution_count": 24,
      "metadata": {
        "colab": {
          "base_uri": "https://localhost:8080/",
          "height": 383
        },
        "id": "cB1nOMTI2z_w",
        "outputId": "db1b5e17-fcc1-481e-d083-63ab985ee084"
      },
      "outputs": [
        {
          "name": "stdout",
          "output_type": "stream",
          "text": [
            "Epoch 1/20\n",
            "  6/157 [>.............................] - ETA: 6:27 - loss: 0.7029 - acc: 0.5078"
          ]
        }
      ],
      "source": [
        "history = bert_model.fit(np.array(train_indices), np.array(train_label),\n",
        "                    epochs=20,\n",
        "                    batch_size=128,\n",
        "                    validation_split=0.2)"
      ]
    },
    {
      "cell_type": "code",
      "execution_count": null,
      "metadata": {
        "colab": {
          "base_uri": "https://localhost:8080/",
          "height": 281
        },
        "id": "skjdA3Sd2z_w",
        "outputId": "80a5eb0f-c162-49b4-c850-20ed65e7ab4c"
      },
      "outputs": [
        {
          "data": {
            "image/png": "[encoded data removed]",
            "text/plain": [
              "<Figure size 432x288 with 2 Axes>"
            ]
          },
          "metadata": {
            "needs_background": "light",
            "tags": []
          },
          "output_type": "display_data"
        }
      ],
      "source": [
        "%matplotlib inline\n",
        "import matplotlib.pyplot as plt\n",
        "\n",
        "acc = history.history['acc']\n",
        "val_acc = history.history['val_acc']\n",
        "loss = history.history['loss']\n",
        "val_loss = history.history['val_loss']\n",
        "\n",
        "epochs = range(len(acc))\n",
        "\n",
        "plt.subplot(121)\n",
        "plt.plot(epochs, acc, 'bo', label='Training acc')\n",
        "plt.plot(epochs, val_acc, 'b', label='Validation acc')\n",
        "plt.title('Training and validation accuracy')\n",
        "plt.legend()\n",
        "\n",
        "plt.subplot(122)\n",
        "\n",
        "plt.plot(epochs, loss, 'bo', label='Training loss')\n",
        "plt.plot(epochs, val_loss, 'b', label='Validation loss')\n",
        "plt.title('Training and validation loss')\n",
        "plt.legend()\n",
        "\n",
        "plt.show()"
      ]
    },
    {
      "cell_type": "markdown",
      "metadata": {
        "id": "Bg_QmvOo2z_x"
      },
      "source": [
        "# Results with Average baseline\n",
        "For comparison, below is a simpler architecture that uses a simple embedding layer instead of BERT, as we have seen in previous notebooks. The system will process exactly the same data."
      ]
    },
    {
      "cell_type": "code",
      "execution_count": null,
      "metadata": {
        "id": "na9-ltLh2z_x"
      },
      "outputs": [],
      "source": [
        "from tensorflow.keras.models import Model\n",
        "from tensorflow.keras.layers import Input, Dense, Embedding, GlobalAveragePooling1D"
      ]
    },
    {
      "cell_type": "code",
      "execution_count": null,
      "metadata": {
        "colab": {
          "base_uri": "https://localhost:8080/"
        },
        "id": "1MR9qtKa2z_y",
        "outputId": "d1a3bd3d-8544-4ac2-ef0a-276c58db069e"
      },
      "outputs": [
        {
          "name": "stdout",
          "output_type": "stream",
          "text": [
            "Model: \"model_1\"\n",
            "_________________________________________________________________\n",
            "Layer (type)                 Output Shape              Param #   \n",
            "=================================================================\n",
            "input_2 (InputLayer)         [(None, 500)]             0         \n",
            "_________________________________________________________________\n",
            "embedding (Embedding)        (None, 500, 32)           976704    \n",
            "_________________________________________________________________\n",
            "global_average_pooling1d_1 ( (None, 32)                0         \n",
            "_________________________________________________________________\n",
            "dense_1 (Dense)              (None, 1)                 33        \n",
            "=================================================================\n",
            "Total params: 976,737\n",
            "Trainable params: 976,737\n",
            "Non-trainable params: 0\n",
            "_________________________________________________________________\n"
          ]
        }
      ],
      "source": [
        "max_features = tokenizer.vocab_size\n",
        "embeddings_size = 32\n",
        "inputs = Input(shape=(500,), dtype=tf.int32)\n",
        "embedding = Embedding(max_features, embeddings_size)(inputs)\n",
        "avg = GlobalAveragePooling1D()(embedding)\n",
        "outputs = Dense(1, activation=tf.nn.sigmoid)(avg)\n",
        "avg_model = Model(inputs, outputs)\n",
        "avg_model.summary()"
      ]
    },
    {
      "cell_type": "code",
      "execution_count": null,
      "metadata": {
        "id": "3sC1b5Tb2z_y"
      },
      "outputs": [],
      "source": [
        "avg_model.compile(optimizer='adam',\n",
        "                   loss='binary_crossentropy',\n",
        "                   metrics=['acc'])"
      ]
    },
    {
      "cell_type": "code",
      "execution_count": null,
      "metadata": {
        "colab": {
          "base_uri": "https://localhost:8080/"
        },
        "id": "Y7jWD2e12z_y",
        "outputId": "aada4873-3f00-4d6b-adcb-35b66733fe00"
      },
      "outputs": [
        {
          "name": "stdout",
          "output_type": "stream",
          "text": [
            "Epoch 1/50\n",
            "157/157 [==============================] - 3s 16ms/step - loss: 0.6905 - acc: 0.5830 - val_loss: 0.6752 - val_acc: 0.6336\n",
            "Epoch 2/50\n",
            "157/157 [==============================] - 2s 15ms/step - loss: 0.6658 - acc: 0.7195 - val_loss: 0.6274 - val_acc: 0.7752\n",
            "Epoch 3/50\n",
            "157/157 [==============================] - 2s 15ms/step - loss: 0.6145 - acc: 0.7765 - val_loss: 0.5692 - val_acc: 0.8028\n",
            "Epoch 4/50\n",
            "157/157 [==============================] - 2s 16ms/step - loss: 0.5575 - acc: 0.8109 - val_loss: 0.5160 - val_acc: 0.8288\n",
            "Epoch 5/50\n",
            "157/157 [==============================] - 2s 15ms/step - loss: 0.5047 - acc: 0.8355 - val_loss: 0.4708 - val_acc: 0.8466\n",
            "Epoch 6/50\n",
            "157/157 [==============================] - 2s 15ms/step - loss: 0.4575 - acc: 0.8515 - val_loss: 0.4338 - val_acc: 0.8586\n",
            "Epoch 7/50\n",
            "157/157 [==============================] - 2s 15ms/step - loss: 0.4162 - acc: 0.8687 - val_loss: 0.4042 - val_acc: 0.8690\n",
            "Epoch 8/50\n",
            "157/157 [==============================] - 2s 15ms/step - loss: 0.3830 - acc: 0.8779 - val_loss: 0.3802 - val_acc: 0.8748\n",
            "Epoch 9/50\n",
            "157/157 [==============================] - 2s 16ms/step - loss: 0.3552 - acc: 0.8878 - val_loss: 0.3613 - val_acc: 0.8784\n",
            "Epoch 10/50\n",
            "157/157 [==============================] - 2s 15ms/step - loss: 0.3308 - acc: 0.8983 - val_loss: 0.3496 - val_acc: 0.8770\n",
            "Epoch 11/50\n",
            "157/157 [==============================] - 2s 16ms/step - loss: 0.3125 - acc: 0.8960 - val_loss: 0.3333 - val_acc: 0.8854\n",
            "Epoch 12/50\n",
            "157/157 [==============================] - 3s 16ms/step - loss: 0.2935 - acc: 0.9060 - val_loss: 0.3224 - val_acc: 0.8864\n",
            "Epoch 13/50\n",
            "157/157 [==============================] - 2s 15ms/step - loss: 0.2788 - acc: 0.9139 - val_loss: 0.3138 - val_acc: 0.8886\n",
            "Epoch 14/50\n",
            "157/157 [==============================] - 2s 15ms/step - loss: 0.2626 - acc: 0.9156 - val_loss: 0.3058 - val_acc: 0.8904\n",
            "Epoch 15/50\n",
            "157/157 [==============================] - 3s 17ms/step - loss: 0.2539 - acc: 0.9171 - val_loss: 0.2998 - val_acc: 0.8914\n",
            "Epoch 16/50\n",
            "157/157 [==============================] - 3s 16ms/step - loss: 0.2374 - acc: 0.9266 - val_loss: 0.2947 - val_acc: 0.8942\n",
            "Epoch 17/50\n",
            "157/157 [==============================] - 3s 17ms/step - loss: 0.2308 - acc: 0.9283 - val_loss: 0.2905 - val_acc: 0.8950\n",
            "Epoch 18/50\n",
            "157/157 [==============================] - 3s 16ms/step - loss: 0.2231 - acc: 0.9298 - val_loss: 0.2873 - val_acc: 0.8940\n",
            "Epoch 19/50\n",
            "157/157 [==============================] - 2s 16ms/step - loss: 0.2128 - acc: 0.9334 - val_loss: 0.2822 - val_acc: 0.8968\n",
            "Epoch 20/50\n",
            "157/157 [==============================] - 2s 16ms/step - loss: 0.2015 - acc: 0.9365 - val_loss: 0.2796 - val_acc: 0.8966\n",
            "Epoch 21/50\n",
            "157/157 [==============================] - 2s 16ms/step - loss: 0.1932 - acc: 0.9417 - val_loss: 0.2771 - val_acc: 0.8976\n",
            "Epoch 22/50\n",
            "157/157 [==============================] - 2s 15ms/step - loss: 0.1872 - acc: 0.9432 - val_loss: 0.2749 - val_acc: 0.8996\n",
            "Epoch 23/50\n",
            "157/157 [==============================] - 3s 17ms/step - loss: 0.1780 - acc: 0.9441 - val_loss: 0.2737 - val_acc: 0.8994\n",
            "Epoch 24/50\n",
            "157/157 [==============================] - 2s 15ms/step - loss: 0.1678 - acc: 0.9492 - val_loss: 0.2727 - val_acc: 0.8990\n",
            "Epoch 25/50\n",
            "157/157 [==============================] - 2s 16ms/step - loss: 0.1687 - acc: 0.9461 - val_loss: 0.2709 - val_acc: 0.8994\n",
            "Epoch 26/50\n",
            "157/157 [==============================] - 3s 16ms/step - loss: 0.1646 - acc: 0.9491 - val_loss: 0.2701 - val_acc: 0.9004\n",
            "Epoch 27/50\n",
            "157/157 [==============================] - 2s 16ms/step - loss: 0.1504 - acc: 0.9561 - val_loss: 0.2702 - val_acc: 0.9002\n",
            "Epoch 28/50\n",
            "157/157 [==============================] - 2s 16ms/step - loss: 0.1489 - acc: 0.9557 - val_loss: 0.2697 - val_acc: 0.9012\n",
            "Epoch 29/50\n",
            "157/157 [==============================] - 3s 16ms/step - loss: 0.1407 - acc: 0.9589 - val_loss: 0.2708 - val_acc: 0.8996\n",
            "Epoch 30/50\n",
            "157/157 [==============================] - 2s 15ms/step - loss: 0.1384 - acc: 0.9606 - val_loss: 0.2702 - val_acc: 0.9026\n",
            "Epoch 31/50\n",
            "157/157 [==============================] - 2s 16ms/step - loss: 0.1326 - acc: 0.9614 - val_loss: 0.2707 - val_acc: 0.9010\n",
            "Epoch 32/50\n",
            "157/157 [==============================] - 2s 16ms/step - loss: 0.1277 - acc: 0.9616 - val_loss: 0.2705 - val_acc: 0.9014\n",
            "Epoch 33/50\n",
            "157/157 [==============================] - 3s 16ms/step - loss: 0.1222 - acc: 0.9634 - val_loss: 0.2713 - val_acc: 0.9024\n",
            "Epoch 34/50\n",
            "157/157 [==============================] - 3s 16ms/step - loss: 0.1205 - acc: 0.9642 - val_loss: 0.2731 - val_acc: 0.9002\n",
            "Epoch 35/50\n",
            "157/157 [==============================] - 3s 16ms/step - loss: 0.1178 - acc: 0.9664 - val_loss: 0.2742 - val_acc: 0.9008\n",
            "Epoch 36/50\n",
            "157/157 [==============================] - 2s 15ms/step - loss: 0.1102 - acc: 0.9682 - val_loss: 0.2748 - val_acc: 0.9016\n",
            "Epoch 37/50\n",
            "157/157 [==============================] - 2s 16ms/step - loss: 0.1056 - acc: 0.9714 - val_loss: 0.2773 - val_acc: 0.9010\n",
            "Epoch 38/50\n",
            "157/157 [==============================] - 2s 15ms/step - loss: 0.1055 - acc: 0.9715 - val_loss: 0.2776 - val_acc: 0.9012\n",
            "Epoch 39/50\n",
            "157/157 [==============================] - 2s 15ms/step - loss: 0.1007 - acc: 0.9731 - val_loss: 0.2792 - val_acc: 0.9004\n",
            "Epoch 40/50\n",
            "157/157 [==============================] - 2s 16ms/step - loss: 0.0943 - acc: 0.9766 - val_loss: 0.2818 - val_acc: 0.8992\n",
            "Epoch 41/50\n",
            "157/157 [==============================] - 2s 16ms/step - loss: 0.0947 - acc: 0.9757 - val_loss: 0.2832 - val_acc: 0.9008\n",
            "Epoch 42/50\n",
            "157/157 [==============================] - 2s 15ms/step - loss: 0.0890 - acc: 0.9765 - val_loss: 0.2858 - val_acc: 0.8992\n",
            "Epoch 43/50\n",
            "157/157 [==============================] - 3s 17ms/step - loss: 0.0853 - acc: 0.9768 - val_loss: 0.2875 - val_acc: 0.8994\n",
            "Epoch 44/50\n",
            "157/157 [==============================] - 2s 15ms/step - loss: 0.0816 - acc: 0.9794 - val_loss: 0.2908 - val_acc: 0.8996\n",
            "Epoch 45/50\n",
            "157/157 [==============================] - 3s 16ms/step - loss: 0.0825 - acc: 0.9785 - val_loss: 0.2923 - val_acc: 0.8988\n",
            "Epoch 46/50\n",
            "157/157 [==============================] - 2s 15ms/step - loss: 0.0764 - acc: 0.9819 - val_loss: 0.2946 - val_acc: 0.8992\n",
            "Epoch 47/50\n",
            "157/157 [==============================] - 3s 17ms/step - loss: 0.0741 - acc: 0.9834 - val_loss: 0.2973 - val_acc: 0.8990\n",
            "Epoch 48/50\n",
            "157/157 [==============================] - 3s 16ms/step - loss: 0.0745 - acc: 0.9829 - val_loss: 0.3010 - val_acc: 0.8990\n",
            "Epoch 49/50\n",
            "157/157 [==============================] - 2s 16ms/step - loss: 0.0705 - acc: 0.9829 - val_loss: 0.3054 - val_acc: 0.8966\n",
            "Epoch 50/50\n",
            "157/157 [==============================] - 2s 15ms/step - loss: 0.0658 - acc: 0.9850 - val_loss: 0.3071 - val_acc: 0.8984\n"
          ]
        }
      ],
      "source": [
        "history = avg_model.fit(np.array(train_indices), np.array(train_label),\n",
        "                    epochs=50,\n",
        "                    batch_size=128,\n",
        "                    validation_split=0.2)"
      ]
    },
    {
      "cell_type": "code",
      "execution_count": null,
      "metadata": {
        "colab": {
          "base_uri": "https://localhost:8080/",
          "height": 281
        },
        "id": "pbX5JDhM2z_z",
        "outputId": "c3a3bdac-cc91-430c-9c47-d0fc5d6ba80c"
      },
      "outputs": [
        {
          "data": {
            "image/png": "[encoded data removed]",
            "text/plain": [
              "<Figure size 432x288 with 2 Axes>"
            ]
          },
          "metadata": {
            "needs_background": "light",
            "tags": []
          },
          "output_type": "display_data"
        }
      ],
      "source": [
        "%matplotlib inline\n",
        "import matplotlib.pyplot as plt\n",
        "\n",
        "acc = history.history['acc']\n",
        "val_acc = history.history['val_acc']\n",
        "loss = history.history['loss']\n",
        "val_loss = history.history['val_loss']\n",
        "\n",
        "epochs = range(len(acc))\n",
        "\n",
        "plt.subplot(121)\n",
        "plt.plot(epochs, acc, 'bo', label='Training acc')\n",
        "plt.plot(epochs, val_acc, 'b', label='Validation acc')\n",
        "plt.title('Training and validation accuracy')\n",
        "plt.legend()\n",
        "\n",
        "plt.subplot(122)\n",
        "\n",
        "plt.plot(epochs, loss, 'bo', label='Training loss')\n",
        "plt.plot(epochs, val_loss, 'b', label='Validation loss')\n",
        "plt.title('Training and validation loss')\n",
        "plt.legend()\n",
        "\n",
        "plt.show()"
      ]
    },
    {
      "cell_type": "markdown",
      "metadata": {
        "id": "gPtgddle2z_0"
      },
      "source": [
        "The system overfits much more than with BERT, but accuracy of the validation data is higher (better) than with BERT. This shows that it makes sense always to try a simple architecture before trying more complex and advanced architectures."
      ]
    },
    {
      "cell_type": "markdown",
      "metadata": {
        "id": "0lP5Ob7L2z_0"
      },
      "source": [
        "# Results with LSTM baseline\n",
        "An another baseline, this time using an LSTM layer."
      ]
    },
    {
      "cell_type": "code",
      "execution_count": null,
      "metadata": {
        "id": "-d8KqWYV2z_0"
      },
      "outputs": [],
      "source": [
        "from tensorflow.keras.models import Model\n",
        "from tensorflow.keras.layers import Input, Dense, Embedding, LSTM"
      ]
    },
    {
      "cell_type": "code",
      "execution_count": null,
      "metadata": {
        "colab": {
          "base_uri": "https://localhost:8080/"
        },
        "id": "qs6RdD6t2z_1",
        "outputId": "febd3955-bf2d-44c2-e17e-a9628c970023"
      },
      "outputs": [
        {
          "name": "stdout",
          "output_type": "stream",
          "text": [
            "Model: \"model_2\"\n",
            "_________________________________________________________________\n",
            "Layer (type)                 Output Shape              Param #   \n",
            "=================================================================\n",
            "input_3 (InputLayer)         [(None, 500)]             0         \n",
            "_________________________________________________________________\n",
            "embedding_1 (Embedding)      (None, 500, 32)           976704    \n",
            "_________________________________________________________________\n",
            "lstm (LSTM)                  (None, 32)                8320      \n",
            "_________________________________________________________________\n",
            "dense_2 (Dense)              (None, 1)                 33        \n",
            "=================================================================\n",
            "Total params: 985,057\n",
            "Trainable params: 985,057\n",
            "Non-trainable params: 0\n",
            "_________________________________________________________________\n"
          ]
        }
      ],
      "source": [
        "max_features = tokenizer.vocab_size\n",
        "embeddings_size = 32\n",
        "inputs = Input(shape=(500,), dtype=tf.int32)\n",
        "embedding = Embedding(max_features, embeddings_size)(inputs)\n",
        "lstm = LSTM(embeddings_size, dropout=0.2)(embedding)\n",
        "outputs = Dense(1, activation=tf.nn.sigmoid)(lstm)\n",
        "lstm_model = Model(inputs, outputs)\n",
        "lstm_model.summary()"
      ]
    },
    {
      "cell_type": "code",
      "execution_count": null,
      "metadata": {
        "id": "Wlbv1dOd2z_1"
      },
      "outputs": [],
      "source": [
        "lstm_model.compile(optimizer='adam',\n",
        "                   loss='binary_crossentropy',\n",
        "                   metrics=['acc'])"
      ]
    },
    {
      "cell_type": "code",
      "execution_count": null,
      "metadata": {
        "colab": {
          "base_uri": "https://localhost:8080/"
        },
        "id": "Pv4iMltA2z_2",
        "outputId": "92a75c2d-16f2-410b-cbd5-20c15d395ad8"
      },
      "outputs": [
        {
          "name": "stdout",
          "output_type": "stream",
          "text": [
            "Epoch 1/30\n",
            "157/157 [==============================] - 35s 36ms/step - loss: 0.6933 - acc: 0.5042 - val_loss: 0.6929 - val_acc: 0.5112\n",
            "Epoch 2/30\n",
            "157/157 [==============================] - 5s 32ms/step - loss: 0.6925 - acc: 0.5138 - val_loss: 0.6926 - val_acc: 0.4970\n",
            "Epoch 3/30\n",
            "157/157 [==============================] - 5s 32ms/step - loss: 0.6800 - acc: 0.5296 - val_loss: 0.6883 - val_acc: 0.5340\n",
            "Epoch 4/30\n",
            "157/157 [==============================] - 5s 32ms/step - loss: 0.6288 - acc: 0.5640 - val_loss: 0.7061 - val_acc: 0.5202\n",
            "Epoch 5/30\n",
            "157/157 [==============================] - 5s 32ms/step - loss: 0.5972 - acc: 0.5841 - val_loss: 0.7361 - val_acc: 0.5348\n",
            "Epoch 6/30\n",
            "157/157 [==============================] - 5s 33ms/step - loss: 0.6266 - acc: 0.5842 - val_loss: 0.7155 - val_acc: 0.5438\n",
            "Epoch 7/30\n",
            "157/157 [==============================] - 5s 32ms/step - loss: 0.5868 - acc: 0.5903 - val_loss: 0.7122 - val_acc: 0.5674\n",
            "Epoch 8/30\n",
            "157/157 [==============================] - 5s 33ms/step - loss: 0.6008 - acc: 0.5913 - val_loss: 0.7363 - val_acc: 0.5364\n",
            "Epoch 9/30\n",
            "157/157 [==============================] - 5s 33ms/step - loss: 0.5901 - acc: 0.5850 - val_loss: 0.7483 - val_acc: 0.5184\n",
            "Epoch 10/30\n",
            "157/157 [==============================] - 5s 32ms/step - loss: 0.5940 - acc: 0.5823 - val_loss: 0.7699 - val_acc: 0.5046\n",
            "Epoch 11/30\n",
            "157/157 [==============================] - 5s 32ms/step - loss: 0.5852 - acc: 0.5811 - val_loss: 0.7942 - val_acc: 0.5206\n",
            "Epoch 12/30\n",
            "157/157 [==============================] - 5s 32ms/step - loss: 0.5820 - acc: 0.5902 - val_loss: 0.8184 - val_acc: 0.5184\n",
            "Epoch 13/30\n",
            "157/157 [==============================] - 5s 33ms/step - loss: 0.5813 - acc: 0.5840 - val_loss: 0.8320 - val_acc: 0.5184\n",
            "Epoch 14/30\n",
            "157/157 [==============================] - 5s 33ms/step - loss: 0.5795 - acc: 0.5922 - val_loss: 0.8496 - val_acc: 0.5164\n",
            "Epoch 15/30\n",
            "157/157 [==============================] - 5s 32ms/step - loss: 0.5814 - acc: 0.5855 - val_loss: 0.8713 - val_acc: 0.5168\n",
            "Epoch 16/30\n",
            "157/157 [==============================] - 5s 32ms/step - loss: 0.5789 - acc: 0.5885 - val_loss: 0.8970 - val_acc: 0.5006\n",
            "Epoch 17/30\n",
            "157/157 [==============================] - 5s 32ms/step - loss: 0.5745 - acc: 0.5928 - val_loss: 0.9119 - val_acc: 0.5012\n",
            "Epoch 18/30\n",
            "157/157 [==============================] - 5s 33ms/step - loss: 0.5698 - acc: 0.5985 - val_loss: 0.9133 - val_acc: 0.5096\n",
            "Epoch 19/30\n",
            "157/157 [==============================] - 5s 33ms/step - loss: 0.5774 - acc: 0.5934 - val_loss: 0.9430 - val_acc: 0.5126\n",
            "Epoch 20/30\n",
            "157/157 [==============================] - 5s 32ms/step - loss: 0.5658 - acc: 0.6041 - val_loss: 0.9351 - val_acc: 0.5008\n",
            "Epoch 21/30\n",
            "157/157 [==============================] - 5s 32ms/step - loss: 0.5569 - acc: 0.6104 - val_loss: 0.8964 - val_acc: 0.5136\n",
            "Epoch 22/30\n",
            "157/157 [==============================] - 5s 33ms/step - loss: 0.5614 - acc: 0.6152 - val_loss: 1.0206 - val_acc: 0.5080\n",
            "Epoch 23/30\n",
            "157/157 [==============================] - 5s 33ms/step - loss: 0.5589 - acc: 0.6199 - val_loss: 1.0098 - val_acc: 0.5102\n",
            "Epoch 24/30\n",
            "157/157 [==============================] - 5s 32ms/step - loss: 0.5470 - acc: 0.6284 - val_loss: 0.9741 - val_acc: 0.4988\n",
            "Epoch 25/30\n",
            "157/157 [==============================] - 5s 33ms/step - loss: 0.5425 - acc: 0.6372 - val_loss: 0.9974 - val_acc: 0.5036\n",
            "Epoch 26/30\n",
            "157/157 [==============================] - 5s 32ms/step - loss: 0.5288 - acc: 0.6591 - val_loss: 1.0346 - val_acc: 0.5078\n",
            "Epoch 27/30\n",
            "157/157 [==============================] - 5s 33ms/step - loss: 0.5314 - acc: 0.6573 - val_loss: 1.0573 - val_acc: 0.5066\n",
            "Epoch 28/30\n",
            "157/157 [==============================] - 5s 33ms/step - loss: 0.5312 - acc: 0.6633 - val_loss: 0.8332 - val_acc: 0.5208\n",
            "Epoch 29/30\n",
            "157/157 [==============================] - 5s 32ms/step - loss: 0.5807 - acc: 0.5944 - val_loss: 0.8904 - val_acc: 0.5226\n",
            "Epoch 30/30\n",
            "157/157 [==============================] - 5s 33ms/step - loss: 0.5758 - acc: 0.5971 - val_loss: 0.9658 - val_acc: 0.5028\n"
          ]
        }
      ],
      "source": [
        "history = lstm_model.fit(np.array(train_indices), np.array(train_label),\n",
        "                    epochs=30,\n",
        "                    batch_size=128,\n",
        "                    validation_split=0.2)"
      ]
    },
    {
      "cell_type": "code",
      "execution_count": null,
      "metadata": {
        "colab": {
          "base_uri": "https://localhost:8080/",
          "height": 281
        },
        "id": "cNGQ3m8c2z_2",
        "outputId": "a1f09e6e-463c-4578-a728-f7a726a787a0"
      },
      "outputs": [
        {
          "data": {
            "image/png": "[encoded data removed]",
            "text/plain": [
              "<Figure size 432x288 with 2 Axes>"
            ]
          },
          "metadata": {
            "needs_background": "light",
            "tags": []
          },
          "output_type": "display_data"
        }
      ],
      "source": [
        "%matplotlib inline\n",
        "import matplotlib.pyplot as plt\n",
        "\n",
        "acc = history.history['acc']\n",
        "val_acc = history.history['val_acc']\n",
        "loss = history.history['loss']\n",
        "val_loss = history.history['val_loss']\n",
        "\n",
        "epochs = range(len(acc))\n",
        "\n",
        "plt.subplot(121)\n",
        "plt.plot(epochs, acc, 'bo', label='Training acc')\n",
        "plt.plot(epochs, val_acc, 'b', label='Validation acc')\n",
        "plt.title('Training and validation accuracy')\n",
        "plt.legend()\n",
        "\n",
        "plt.subplot(122)\n",
        "\n",
        "plt.plot(epochs, loss, 'bo', label='Training loss')\n",
        "plt.plot(epochs, val_loss, 'b', label='Validation loss')\n",
        "plt.title('Training and validation loss')\n",
        "plt.legend()\n",
        "\n",
        "plt.show()"
      ]
    },
    {
      "cell_type": "code",
      "execution_count": null,
      "metadata": {
        "id": "wi3oWVE32z_2"
      },
      "outputs": [],
      "source": []
    }
  ],
  "metadata": {
    "accelerator": "GPU",
    "colab": {
      "collapsed_sections": [],
      "name": "W06L1-2-Transformers.ipynb",
      "provenance": []
    },
    "file_extension": ".py",
    "interpreter": {
      "hash": "c9c95a542e0787f57613780817cff22e65fe979e702b6d9a424a45d54043f1a4"
    },
    "kernelspec": {
      "display_name": "Python 3.7.3 64-bit ('base': conda)",
      "language": "python",
      "name": "python3"
    },
    "language_info": {
      "codemirror_mode": {
        "name": "ipython",
        "version": 3
      },
      "file_extension": ".py",
      "mimetype": "text/x-python",
      "name": "python",
      "nbconvert_exporter": "python",
      "pygments_lexer": "ipython3",
      "version": "3.8.3"
    },
    "mimetype": "text/x-python",
    "name": "python",
    "npconvert_exporter": "python",
    "orig_nbformat": 2,
    "pygments_lexer": "ipython3",
    "version": 3,
    "widgets": {
      "application/vnd.jupyter.widget-state+json": {
        "060861a9d06243c6bbb9b3efa29ea677": {
          "model_module": "@jupyter-widgets/controls",
          "model_module_version": "1.5.0",
          "model_name": "HTMLModel",
          "state": {
            "_dom_classes": [],
            "_model_module": "@jupyter-widgets/controls",
            "_model_module_version": "1.5.0",
            "_model_name": "HTMLModel",
            "_view_count": null,
            "_view_module": "@jupyter-widgets/controls",
            "_view_module_version": "1.5.0",
            "_view_name": "HTMLView",
            "description": "",
            "description_tooltip": null,
            "layout": "IPY_MODEL_60d3fd12f2e142a19b2ab605edd4ad8e",
            "placeholder": "​",
            "style": "IPY_MODEL_992952129ced436b97384ffe8fed803f",
            "value": "Downloading: 100%"
          }
        },
        "0a8d929a538f4dcb9d6e66baf6b43c75": {
          "model_module": "@jupyter-widgets/controls",
          "model_module_version": "1.5.0",
          "model_name": "HTMLModel",
          "state": {
            "_dom_classes": [],
            "_model_module": "@jupyter-widgets/controls",
            "_model_module_version": "1.5.0",
            "_model_name": "HTMLModel",
            "_view_count": null,
            "_view_module": "@jupyter-widgets/controls",
            "_view_module_version": "1.5.0",
            "_view_name": "HTMLView",
            "description": "",
            "description_tooltip": null,
            "layout": "IPY_MODEL_b1ed672cce734d66b86df18e10dd8408",
            "placeholder": "​",
            "style": "IPY_MODEL_2e6cf4332139464bab41bfb91cd66b29",
            "value": "Downloading: 100%"
          }
        },
        "0c972936de7a4d318d43a9a2c4f42af9": {
          "model_module": "@jupyter-widgets/base",
          "model_module_version": "1.2.0",
          "model_name": "LayoutModel",
          "state": {
            "_model_module": "@jupyter-widgets/base",
            "_model_module_version": "1.2.0",
            "_model_name": "LayoutModel",
            "_view_count": null,
            "_view_module": "@jupyter-widgets/base",
            "_view_module_version": "1.2.0",
            "_view_name": "LayoutView",
            "align_content": null,
            "align_items": null,
            "align_self": null,
            "border": null,
            "bottom": null,
            "display": null,
            "flex": null,
            "flex_flow": null,
            "grid_area": null,
            "grid_auto_columns": null,
            "grid_auto_flow": null,
            "grid_auto_rows": null,
            "grid_column": null,
            "grid_gap": null,
            "grid_row": null,
            "grid_template_areas": null,
            "grid_template_columns": null,
            "grid_template_rows": null,
            "height": null,
            "justify_content": null,
            "justify_items": null,
            "left": null,
            "margin": null,
            "max_height": null,
            "max_width": null,
            "min_height": null,
            "min_width": null,
            "object_fit": null,
            "object_position": null,
            "order": null,
            "overflow": null,
            "overflow_x": null,
            "overflow_y": null,
            "padding": null,
            "right": null,
            "top": null,
            "visibility": null,
            "width": null
          }
        },
        "0ef5bb8f0d1f49e8a7408570001cddb0": {
          "model_module": "@jupyter-widgets/base",
          "model_module_version": "1.2.0",
          "model_name": "LayoutModel",
          "state": {
            "_model_module": "@jupyter-widgets/base",
            "_model_module_version": "1.2.0",
            "_model_name": "LayoutModel",
            "_view_count": null,
            "_view_module": "@jupyter-widgets/base",
            "_view_module_version": "1.2.0",
            "_view_name": "LayoutView",
            "align_content": null,
            "align_items": null,
            "align_self": null,
            "border": null,
            "bottom": null,
            "display": null,
            "flex": null,
            "flex_flow": null,
            "grid_area": null,
            "grid_auto_columns": null,
            "grid_auto_flow": null,
            "grid_auto_rows": null,
            "grid_column": null,
            "grid_gap": null,
            "grid_row": null,
            "grid_template_areas": null,
            "grid_template_columns": null,
            "grid_template_rows": null,
            "height": null,
            "justify_content": null,
            "justify_items": null,
            "left": null,
            "margin": null,
            "max_height": null,
            "max_width": null,
            "min_height": null,
            "min_width": null,
            "object_fit": null,
            "object_position": null,
            "order": null,
            "overflow": null,
            "overflow_x": null,
            "overflow_y": null,
            "padding": null,
            "right": null,
            "top": null,
            "visibility": null,
            "width": null
          }
        },
        "16d0fe088e8d49b08f25bf9e689339d4": {
          "model_module": "@jupyter-widgets/controls",
          "model_module_version": "1.5.0",
          "model_name": "FloatProgressModel",
          "state": {
            "_dom_classes": [],
            "_model_module": "@jupyter-widgets/controls",
            "_model_module_version": "1.5.0",
            "_model_name": "FloatProgressModel",
            "_view_count": null,
            "_view_module": "@jupyter-widgets/controls",
            "_view_module_version": "1.5.0",
            "_view_name": "ProgressView",
            "bar_style": "success",
            "description": "",
            "description_tooltip": null,
            "layout": "IPY_MODEL_0c972936de7a4d318d43a9a2c4f42af9",
            "max": 570,
            "min": 0,
            "orientation": "horizontal",
            "style": "IPY_MODEL_8de4ec97a6874911baa54a943e671f6d",
            "value": 570
          }
        },
        "19d0638c249e4c50a17c03dc00404b18": {
          "model_module": "@jupyter-widgets/base",
          "model_module_version": "1.2.0",
          "model_name": "LayoutModel",
          "state": {
            "_model_module": "@jupyter-widgets/base",
            "_model_module_version": "1.2.0",
            "_model_name": "LayoutModel",
            "_view_count": null,
            "_view_module": "@jupyter-widgets/base",
            "_view_module_version": "1.2.0",
            "_view_name": "LayoutView",
            "align_content": null,
            "align_items": null,
            "align_self": null,
            "border": null,
            "bottom": null,
            "display": null,
            "flex": null,
            "flex_flow": null,
            "grid_area": null,
            "grid_auto_columns": null,
            "grid_auto_flow": null,
            "grid_auto_rows": null,
            "grid_column": null,
            "grid_gap": null,
            "grid_row": null,
            "grid_template_areas": null,
            "grid_template_columns": null,
            "grid_template_rows": null,
            "height": null,
            "justify_content": null,
            "justify_items": null,
            "left": null,
            "margin": null,
            "max_height": null,
            "max_width": null,
            "min_height": null,
            "min_width": null,
            "object_fit": null,
            "object_position": null,
            "order": null,
            "overflow": null,
            "overflow_x": null,
            "overflow_y": null,
            "padding": null,
            "right": null,
            "top": null,
            "visibility": null,
            "width": null
          }
        },
        "1aa10f18962449d38ece454936d728f5": {
          "model_module": "@jupyter-widgets/controls",
          "model_module_version": "1.5.0",
          "model_name": "DescriptionStyleModel",
          "state": {
            "_model_module": "@jupyter-widgets/controls",
            "_model_module_version": "1.5.0",
            "_model_name": "DescriptionStyleModel",
            "_view_count": null,
            "_view_module": "@jupyter-widgets/base",
            "_view_module_version": "1.2.0",
            "_view_name": "StyleView",
            "description_width": ""
          }
        },
        "1d6a6f042e2e48f28ad14b110616a04f": {
          "model_module": "@jupyter-widgets/base",
          "model_module_version": "1.2.0",
          "model_name": "LayoutModel",
          "state": {
            "_model_module": "@jupyter-widgets/base",
            "_model_module_version": "1.2.0",
            "_model_name": "LayoutModel",
            "_view_count": null,
            "_view_module": "@jupyter-widgets/base",
            "_view_module_version": "1.2.0",
            "_view_name": "LayoutView",
            "align_content": null,
            "align_items": null,
            "align_self": null,
            "border": null,
            "bottom": null,
            "display": null,
            "flex": null,
            "flex_flow": null,
            "grid_area": null,
            "grid_auto_columns": null,
            "grid_auto_flow": null,
            "grid_auto_rows": null,
            "grid_column": null,
            "grid_gap": null,
            "grid_row": null,
            "grid_template_areas": null,
            "grid_template_columns": null,
            "grid_template_rows": null,
            "height": null,
            "justify_content": null,
            "justify_items": null,
            "left": null,
            "margin": null,
            "max_height": null,
            "max_width": null,
            "min_height": null,
            "min_width": null,
            "object_fit": null,
            "object_position": null,
            "order": null,
            "overflow": null,
            "overflow_x": null,
            "overflow_y": null,
            "padding": null,
            "right": null,
            "top": null,
            "visibility": null,
            "width": null
          }
        },
        "215212d2f52b4711947ba99251f03d2b": {
          "model_module": "@jupyter-widgets/controls",
          "model_module_version": "1.5.0",
          "model_name": "HTMLModel",
          "state": {
            "_dom_classes": [],
            "_model_module": "@jupyter-widgets/controls",
            "_model_module_version": "1.5.0",
            "_model_name": "HTMLModel",
            "_view_count": null,
            "_view_module": "@jupyter-widgets/controls",
            "_view_module_version": "1.5.0",
            "_view_name": "HTMLView",
            "description": "",
            "description_tooltip": null,
            "layout": "IPY_MODEL_c22c9be650d041a7ba9f3ee3019115d1",
            "placeholder": "​",
            "style": "IPY_MODEL_876b2ab880e44a318151f01a09be083e",
            "value": " 570/570 [00:00&lt;00:00, 4.28kB/s]"
          }
        },
        "248338de967a45f489784a5506519772": {
          "model_module": "@jupyter-widgets/base",
          "model_module_version": "1.2.0",
          "model_name": "LayoutModel",
          "state": {
            "_model_module": "@jupyter-widgets/base",
            "_model_module_version": "1.2.0",
            "_model_name": "LayoutModel",
            "_view_count": null,
            "_view_module": "@jupyter-widgets/base",
            "_view_module_version": "1.2.0",
            "_view_name": "LayoutView",
            "align_content": null,
            "align_items": null,
            "align_self": null,
            "border": null,
            "bottom": null,
            "display": null,
            "flex": null,
            "flex_flow": null,
            "grid_area": null,
            "grid_auto_columns": null,
            "grid_auto_flow": null,
            "grid_auto_rows": null,
            "grid_column": null,
            "grid_gap": null,
            "grid_row": null,
            "grid_template_areas": null,
            "grid_template_columns": null,
            "grid_template_rows": null,
            "height": null,
            "justify_content": null,
            "justify_items": null,
            "left": null,
            "margin": null,
            "max_height": null,
            "max_width": null,
            "min_height": null,
            "min_width": null,
            "object_fit": null,
            "object_position": null,
            "order": null,
            "overflow": null,
            "overflow_x": null,
            "overflow_y": null,
            "padding": null,
            "right": null,
            "top": null,
            "visibility": null,
            "width": null
          }
        },
        "2b5627d508c544c8b262476d352cbe15": {
          "model_module": "@jupyter-widgets/controls",
          "model_module_version": "1.5.0",
          "model_name": "FloatProgressModel",
          "state": {
            "_dom_classes": [],
            "_model_module": "@jupyter-widgets/controls",
            "_model_module_version": "1.5.0",
            "_model_name": "FloatProgressModel",
            "_view_count": null,
            "_view_module": "@jupyter-widgets/controls",
            "_view_module_version": "1.5.0",
            "_view_name": "ProgressView",
            "bar_style": "success",
            "description": "",
            "description_tooltip": null,
            "layout": "IPY_MODEL_a68850a728ee44168c23d043a46b2eee",
            "max": 536063208,
            "min": 0,
            "orientation": "horizontal",
            "style": "IPY_MODEL_c56ad6abf0724042b6854c6914aaaad7",
            "value": 536063208
          }
        },
        "2e6cf4332139464bab41bfb91cd66b29": {
          "model_module": "@jupyter-widgets/controls",
          "model_module_version": "1.5.0",
          "model_name": "DescriptionStyleModel",
          "state": {
            "_model_module": "@jupyter-widgets/controls",
            "_model_module_version": "1.5.0",
            "_model_name": "DescriptionStyleModel",
            "_view_count": null,
            "_view_module": "@jupyter-widgets/base",
            "_view_module_version": "1.2.0",
            "_view_name": "StyleView",
            "description_width": ""
          }
        },
        "50a4dad58d264031a8741219fb296a23": {
          "model_module": "@jupyter-widgets/controls",
          "model_module_version": "1.5.0",
          "model_name": "HBoxModel",
          "state": {
            "_dom_classes": [],
            "_model_module": "@jupyter-widgets/controls",
            "_model_module_version": "1.5.0",
            "_model_name": "HBoxModel",
            "_view_count": null,
            "_view_module": "@jupyter-widgets/controls",
            "_view_module_version": "1.5.0",
            "_view_name": "HBoxView",
            "box_style": "",
            "children": [
              "IPY_MODEL_0a8d929a538f4dcb9d6e66baf6b43c75",
              "IPY_MODEL_c16c934beecc4f37b558b500730085c8",
              "IPY_MODEL_64c9ac05584f49668b07b25ae8105ae8"
            ],
            "layout": "IPY_MODEL_ccf566ffc3064f09bc310120c08442fe"
          }
        },
        "5970a2c88e38499a847cd6cb40fcc69f": {
          "model_module": "@jupyter-widgets/base",
          "model_module_version": "1.2.0",
          "model_name": "LayoutModel",
          "state": {
            "_model_module": "@jupyter-widgets/base",
            "_model_module_version": "1.2.0",
            "_model_name": "LayoutModel",
            "_view_count": null,
            "_view_module": "@jupyter-widgets/base",
            "_view_module_version": "1.2.0",
            "_view_name": "LayoutView",
            "align_content": null,
            "align_items": null,
            "align_self": null,
            "border": null,
            "bottom": null,
            "display": null,
            "flex": null,
            "flex_flow": null,
            "grid_area": null,
            "grid_auto_columns": null,
            "grid_auto_flow": null,
            "grid_auto_rows": null,
            "grid_column": null,
            "grid_gap": null,
            "grid_row": null,
            "grid_template_areas": null,
            "grid_template_columns": null,
            "grid_template_rows": null,
            "height": null,
            "justify_content": null,
            "justify_items": null,
            "left": null,
            "margin": null,
            "max_height": null,
            "max_width": null,
            "min_height": null,
            "min_width": null,
            "object_fit": null,
            "object_position": null,
            "order": null,
            "overflow": null,
            "overflow_x": null,
            "overflow_y": null,
            "padding": null,
            "right": null,
            "top": null,
            "visibility": null,
            "width": null
          }
        },
        "5b79ef881aed467692118df4cd12db7b": {
          "model_module": "@jupyter-widgets/controls",
          "model_module_version": "1.5.0",
          "model_name": "HBoxModel",
          "state": {
            "_dom_classes": [],
            "_model_module": "@jupyter-widgets/controls",
            "_model_module_version": "1.5.0",
            "_model_name": "HBoxModel",
            "_view_count": null,
            "_view_module": "@jupyter-widgets/controls",
            "_view_module_version": "1.5.0",
            "_view_name": "HBoxView",
            "box_style": "",
            "children": [
              "IPY_MODEL_060861a9d06243c6bbb9b3efa29ea677",
              "IPY_MODEL_773b8293bf6e4a6f99af7e1b4378d06b",
              "IPY_MODEL_8370fef2bfc64dfca06327c03a4da206"
            ],
            "layout": "IPY_MODEL_19d0638c249e4c50a17c03dc00404b18"
          }
        },
        "5ee65501524640f3b934ac9cc1703dab": {
          "model_module": "@jupyter-widgets/controls",
          "model_module_version": "1.5.0",
          "model_name": "DescriptionStyleModel",
          "state": {
            "_model_module": "@jupyter-widgets/controls",
            "_model_module_version": "1.5.0",
            "_model_name": "DescriptionStyleModel",
            "_view_count": null,
            "_view_module": "@jupyter-widgets/base",
            "_view_module_version": "1.2.0",
            "_view_name": "StyleView",
            "description_width": ""
          }
        },
        "60d3fd12f2e142a19b2ab605edd4ad8e": {
          "model_module": "@jupyter-widgets/base",
          "model_module_version": "1.2.0",
          "model_name": "LayoutModel",
          "state": {
            "_model_module": "@jupyter-widgets/base",
            "_model_module_version": "1.2.0",
            "_model_name": "LayoutModel",
            "_view_count": null,
            "_view_module": "@jupyter-widgets/base",
            "_view_module_version": "1.2.0",
            "_view_name": "LayoutView",
            "align_content": null,
            "align_items": null,
            "align_self": null,
            "border": null,
            "bottom": null,
            "display": null,
            "flex": null,
            "flex_flow": null,
            "grid_area": null,
            "grid_auto_columns": null,
            "grid_auto_flow": null,
            "grid_auto_rows": null,
            "grid_column": null,
            "grid_gap": null,
            "grid_row": null,
            "grid_template_areas": null,
            "grid_template_columns": null,
            "grid_template_rows": null,
            "height": null,
            "justify_content": null,
            "justify_items": null,
            "left": null,
            "margin": null,
            "max_height": null,
            "max_width": null,
            "min_height": null,
            "min_width": null,
            "object_fit": null,
            "object_position": null,
            "order": null,
            "overflow": null,
            "overflow_x": null,
            "overflow_y": null,
            "padding": null,
            "right": null,
            "top": null,
            "visibility": null,
            "width": null
          }
        },
        "64c9ac05584f49668b07b25ae8105ae8": {
          "model_module": "@jupyter-widgets/controls",
          "model_module_version": "1.5.0",
          "model_name": "HTMLModel",
          "state": {
            "_dom_classes": [],
            "_model_module": "@jupyter-widgets/controls",
            "_model_module_version": "1.5.0",
            "_model_name": "HTMLModel",
            "_view_count": null,
            "_view_module": "@jupyter-widgets/controls",
            "_view_module_version": "1.5.0",
            "_view_name": "HTMLView",
            "description": "",
            "description_tooltip": null,
            "layout": "IPY_MODEL_248338de967a45f489784a5506519772",
            "placeholder": "​",
            "style": "IPY_MODEL_1aa10f18962449d38ece454936d728f5",
            "value": " 28.0/28.0 [00:00&lt;00:00, 140B/s]"
          }
        },
        "720c53c412324000997fc10aba69679f": {
          "model_module": "@jupyter-widgets/base",
          "model_module_version": "1.2.0",
          "model_name": "LayoutModel",
          "state": {
            "_model_module": "@jupyter-widgets/base",
            "_model_module_version": "1.2.0",
            "_model_name": "LayoutModel",
            "_view_count": null,
            "_view_module": "@jupyter-widgets/base",
            "_view_module_version": "1.2.0",
            "_view_name": "LayoutView",
            "align_content": null,
            "align_items": null,
            "align_self": null,
            "border": null,
            "bottom": null,
            "display": null,
            "flex": null,
            "flex_flow": null,
            "grid_area": null,
            "grid_auto_columns": null,
            "grid_auto_flow": null,
            "grid_auto_rows": null,
            "grid_column": null,
            "grid_gap": null,
            "grid_row": null,
            "grid_template_areas": null,
            "grid_template_columns": null,
            "grid_template_rows": null,
            "height": null,
            "justify_content": null,
            "justify_items": null,
            "left": null,
            "margin": null,
            "max_height": null,
            "max_width": null,
            "min_height": null,
            "min_width": null,
            "object_fit": null,
            "object_position": null,
            "order": null,
            "overflow": null,
            "overflow_x": null,
            "overflow_y": null,
            "padding": null,
            "right": null,
            "top": null,
            "visibility": null,
            "width": null
          }
        },
        "733a35b9e7424a5388d8aa076e8a690d": {
          "model_module": "@jupyter-widgets/controls",
          "model_module_version": "1.5.0",
          "model_name": "DescriptionStyleModel",
          "state": {
            "_model_module": "@jupyter-widgets/controls",
            "_model_module_version": "1.5.0",
            "_model_name": "DescriptionStyleModel",
            "_view_count": null,
            "_view_module": "@jupyter-widgets/base",
            "_view_module_version": "1.2.0",
            "_view_name": "StyleView",
            "description_width": ""
          }
        },
        "773b8293bf6e4a6f99af7e1b4378d06b": {
          "model_module": "@jupyter-widgets/controls",
          "model_module_version": "1.5.0",
          "model_name": "FloatProgressModel",
          "state": {
            "_dom_classes": [],
            "_model_module": "@jupyter-widgets/controls",
            "_model_module_version": "1.5.0",
            "_model_name": "FloatProgressModel",
            "_view_count": null,
            "_view_module": "@jupyter-widgets/controls",
            "_view_module_version": "1.5.0",
            "_view_name": "ProgressView",
            "bar_style": "success",
            "description": "",
            "description_tooltip": null,
            "layout": "IPY_MODEL_1d6a6f042e2e48f28ad14b110616a04f",
            "max": 231508,
            "min": 0,
            "orientation": "horizontal",
            "style": "IPY_MODEL_d0b9d6e7725742f2b0f42b658c006b95",
            "value": 231508
          }
        },
        "8370fef2bfc64dfca06327c03a4da206": {
          "model_module": "@jupyter-widgets/controls",
          "model_module_version": "1.5.0",
          "model_name": "HTMLModel",
          "state": {
            "_dom_classes": [],
            "_model_module": "@jupyter-widgets/controls",
            "_model_module_version": "1.5.0",
            "_model_name": "HTMLModel",
            "_view_count": null,
            "_view_module": "@jupyter-widgets/controls",
            "_view_module_version": "1.5.0",
            "_view_name": "HTMLView",
            "description": "",
            "description_tooltip": null,
            "layout": "IPY_MODEL_f9979b580685448ea0a8757abbae2bfb",
            "placeholder": "​",
            "style": "IPY_MODEL_5ee65501524640f3b934ac9cc1703dab",
            "value": " 226k/226k [00:00&lt;00:00, 291kB/s]"
          }
        },
        "876b2ab880e44a318151f01a09be083e": {
          "model_module": "@jupyter-widgets/controls",
          "model_module_version": "1.5.0",
          "model_name": "DescriptionStyleModel",
          "state": {
            "_model_module": "@jupyter-widgets/controls",
            "_model_module_version": "1.5.0",
            "_model_name": "DescriptionStyleModel",
            "_view_count": null,
            "_view_module": "@jupyter-widgets/base",
            "_view_module_version": "1.2.0",
            "_view_name": "StyleView",
            "description_width": ""
          }
        },
        "8de4ec97a6874911baa54a943e671f6d": {
          "model_module": "@jupyter-widgets/controls",
          "model_module_version": "1.5.0",
          "model_name": "ProgressStyleModel",
          "state": {
            "_model_module": "@jupyter-widgets/controls",
            "_model_module_version": "1.5.0",
            "_model_name": "ProgressStyleModel",
            "_view_count": null,
            "_view_module": "@jupyter-widgets/base",
            "_view_module_version": "1.2.0",
            "_view_name": "StyleView",
            "bar_color": null,
            "description_width": ""
          }
        },
        "992952129ced436b97384ffe8fed803f": {
          "model_module": "@jupyter-widgets/controls",
          "model_module_version": "1.5.0",
          "model_name": "DescriptionStyleModel",
          "state": {
            "_model_module": "@jupyter-widgets/controls",
            "_model_module_version": "1.5.0",
            "_model_name": "DescriptionStyleModel",
            "_view_count": null,
            "_view_module": "@jupyter-widgets/base",
            "_view_module_version": "1.2.0",
            "_view_name": "StyleView",
            "description_width": ""
          }
        },
        "a24053b53a734ff5a97c134cedb6e3b1": {
          "model_module": "@jupyter-widgets/controls",
          "model_module_version": "1.5.0",
          "model_name": "ProgressStyleModel",
          "state": {
            "_model_module": "@jupyter-widgets/controls",
            "_model_module_version": "1.5.0",
            "_model_name": "ProgressStyleModel",
            "_view_count": null,
            "_view_module": "@jupyter-widgets/base",
            "_view_module_version": "1.2.0",
            "_view_name": "StyleView",
            "bar_color": null,
            "description_width": ""
          }
        },
        "a68850a728ee44168c23d043a46b2eee": {
          "model_module": "@jupyter-widgets/base",
          "model_module_version": "1.2.0",
          "model_name": "LayoutModel",
          "state": {
            "_model_module": "@jupyter-widgets/base",
            "_model_module_version": "1.2.0",
            "_model_name": "LayoutModel",
            "_view_count": null,
            "_view_module": "@jupyter-widgets/base",
            "_view_module_version": "1.2.0",
            "_view_name": "LayoutView",
            "align_content": null,
            "align_items": null,
            "align_self": null,
            "border": null,
            "bottom": null,
            "display": null,
            "flex": null,
            "flex_flow": null,
            "grid_area": null,
            "grid_auto_columns": null,
            "grid_auto_flow": null,
            "grid_auto_rows": null,
            "grid_column": null,
            "grid_gap": null,
            "grid_row": null,
            "grid_template_areas": null,
            "grid_template_columns": null,
            "grid_template_rows": null,
            "height": null,
            "justify_content": null,
            "justify_items": null,
            "left": null,
            "margin": null,
            "max_height": null,
            "max_width": null,
            "min_height": null,
            "min_width": null,
            "object_fit": null,
            "object_position": null,
            "order": null,
            "overflow": null,
            "overflow_x": null,
            "overflow_y": null,
            "padding": null,
            "right": null,
            "top": null,
            "visibility": null,
            "width": null
          }
        },
        "a8374212a95047e9817c37daadbb1f55": {
          "model_module": "@jupyter-widgets/controls",
          "model_module_version": "1.5.0",
          "model_name": "DescriptionStyleModel",
          "state": {
            "_model_module": "@jupyter-widgets/controls",
            "_model_module_version": "1.5.0",
            "_model_name": "DescriptionStyleModel",
            "_view_count": null,
            "_view_module": "@jupyter-widgets/base",
            "_view_module_version": "1.2.0",
            "_view_name": "StyleView",
            "description_width": ""
          }
        },
        "a91b42d3189c4659a91964913c9dcab4": {
          "model_module": "@jupyter-widgets/controls",
          "model_module_version": "1.5.0",
          "model_name": "HBoxModel",
          "state": {
            "_dom_classes": [],
            "_model_module": "@jupyter-widgets/controls",
            "_model_module_version": "1.5.0",
            "_model_name": "HBoxModel",
            "_view_count": null,
            "_view_module": "@jupyter-widgets/controls",
            "_view_module_version": "1.5.0",
            "_view_name": "HBoxView",
            "box_style": "",
            "children": [
              "IPY_MODEL_ca236631d535477aa75addade85b4901",
              "IPY_MODEL_2b5627d508c544c8b262476d352cbe15",
              "IPY_MODEL_ba9e23e432604578a743bfd1b5a282dd"
            ],
            "layout": "IPY_MODEL_720c53c412324000997fc10aba69679f"
          }
        },
        "ab5e1280bb8c4644b678f18ed6d32ad9": {
          "model_module": "@jupyter-widgets/controls",
          "model_module_version": "1.5.0",
          "model_name": "HBoxModel",
          "state": {
            "_dom_classes": [],
            "_model_module": "@jupyter-widgets/controls",
            "_model_module_version": "1.5.0",
            "_model_name": "HBoxModel",
            "_view_count": null,
            "_view_module": "@jupyter-widgets/controls",
            "_view_module_version": "1.5.0",
            "_view_name": "HBoxView",
            "box_style": "",
            "children": [
              "IPY_MODEL_f28499b37c0e4528bb87ae9a2eb0238f",
              "IPY_MODEL_16d0fe088e8d49b08f25bf9e689339d4",
              "IPY_MODEL_215212d2f52b4711947ba99251f03d2b"
            ],
            "layout": "IPY_MODEL_5970a2c88e38499a847cd6cb40fcc69f"
          }
        },
        "b1ed672cce734d66b86df18e10dd8408": {
          "model_module": "@jupyter-widgets/base",
          "model_module_version": "1.2.0",
          "model_name": "LayoutModel",
          "state": {
            "_model_module": "@jupyter-widgets/base",
            "_model_module_version": "1.2.0",
            "_model_name": "LayoutModel",
            "_view_count": null,
            "_view_module": "@jupyter-widgets/base",
            "_view_module_version": "1.2.0",
            "_view_name": "LayoutView",
            "align_content": null,
            "align_items": null,
            "align_self": null,
            "border": null,
            "bottom": null,
            "display": null,
            "flex": null,
            "flex_flow": null,
            "grid_area": null,
            "grid_auto_columns": null,
            "grid_auto_flow": null,
            "grid_auto_rows": null,
            "grid_column": null,
            "grid_gap": null,
            "grid_row": null,
            "grid_template_areas": null,
            "grid_template_columns": null,
            "grid_template_rows": null,
            "height": null,
            "justify_content": null,
            "justify_items": null,
            "left": null,
            "margin": null,
            "max_height": null,
            "max_width": null,
            "min_height": null,
            "min_width": null,
            "object_fit": null,
            "object_position": null,
            "order": null,
            "overflow": null,
            "overflow_x": null,
            "overflow_y": null,
            "padding": null,
            "right": null,
            "top": null,
            "visibility": null,
            "width": null
          }
        },
        "ba9e23e432604578a743bfd1b5a282dd": {
          "model_module": "@jupyter-widgets/controls",
          "model_module_version": "1.5.0",
          "model_name": "HTMLModel",
          "state": {
            "_dom_classes": [],
            "_model_module": "@jupyter-widgets/controls",
            "_model_module_version": "1.5.0",
            "_model_name": "HTMLModel",
            "_view_count": null,
            "_view_module": "@jupyter-widgets/controls",
            "_view_module_version": "1.5.0",
            "_view_name": "HTMLView",
            "description": "",
            "description_tooltip": null,
            "layout": "IPY_MODEL_e0d49bb3b05146d78c00bfba3ccfdd2e",
            "placeholder": "​",
            "style": "IPY_MODEL_733a35b9e7424a5388d8aa076e8a690d",
            "value": " 511M/511M [00:15&lt;00:00, 35.8MB/s]"
          }
        },
        "c16c934beecc4f37b558b500730085c8": {
          "model_module": "@jupyter-widgets/controls",
          "model_module_version": "1.5.0",
          "model_name": "FloatProgressModel",
          "state": {
            "_dom_classes": [],
            "_model_module": "@jupyter-widgets/controls",
            "_model_module_version": "1.5.0",
            "_model_name": "FloatProgressModel",
            "_view_count": null,
            "_view_module": "@jupyter-widgets/controls",
            "_view_module_version": "1.5.0",
            "_view_name": "ProgressView",
            "bar_style": "success",
            "description": "",
            "description_tooltip": null,
            "layout": "IPY_MODEL_da352f8b9b984a84bf97a60ce182641b",
            "max": 28,
            "min": 0,
            "orientation": "horizontal",
            "style": "IPY_MODEL_a24053b53a734ff5a97c134cedb6e3b1",
            "value": 28
          }
        },
        "c22c9be650d041a7ba9f3ee3019115d1": {
          "model_module": "@jupyter-widgets/base",
          "model_module_version": "1.2.0",
          "model_name": "LayoutModel",
          "state": {
            "_model_module": "@jupyter-widgets/base",
            "_model_module_version": "1.2.0",
            "_model_name": "LayoutModel",
            "_view_count": null,
            "_view_module": "@jupyter-widgets/base",
            "_view_module_version": "1.2.0",
            "_view_name": "LayoutView",
            "align_content": null,
            "align_items": null,
            "align_self": null,
            "border": null,
            "bottom": null,
            "display": null,
            "flex": null,
            "flex_flow": null,
            "grid_area": null,
            "grid_auto_columns": null,
            "grid_auto_flow": null,
            "grid_auto_rows": null,
            "grid_column": null,
            "grid_gap": null,
            "grid_row": null,
            "grid_template_areas": null,
            "grid_template_columns": null,
            "grid_template_rows": null,
            "height": null,
            "justify_content": null,
            "justify_items": null,
            "left": null,
            "margin": null,
            "max_height": null,
            "max_width": null,
            "min_height": null,
            "min_width": null,
            "object_fit": null,
            "object_position": null,
            "order": null,
            "overflow": null,
            "overflow_x": null,
            "overflow_y": null,
            "padding": null,
            "right": null,
            "top": null,
            "visibility": null,
            "width": null
          }
        },
        "c56ad6abf0724042b6854c6914aaaad7": {
          "model_module": "@jupyter-widgets/controls",
          "model_module_version": "1.5.0",
          "model_name": "ProgressStyleModel",
          "state": {
            "_model_module": "@jupyter-widgets/controls",
            "_model_module_version": "1.5.0",
            "_model_name": "ProgressStyleModel",
            "_view_count": null,
            "_view_module": "@jupyter-widgets/base",
            "_view_module_version": "1.2.0",
            "_view_name": "StyleView",
            "bar_color": null,
            "description_width": ""
          }
        },
        "ca236631d535477aa75addade85b4901": {
          "model_module": "@jupyter-widgets/controls",
          "model_module_version": "1.5.0",
          "model_name": "HTMLModel",
          "state": {
            "_dom_classes": [],
            "_model_module": "@jupyter-widgets/controls",
            "_model_module_version": "1.5.0",
            "_model_name": "HTMLModel",
            "_view_count": null,
            "_view_module": "@jupyter-widgets/controls",
            "_view_module_version": "1.5.0",
            "_view_name": "HTMLView",
            "description": "",
            "description_tooltip": null,
            "layout": "IPY_MODEL_0ef5bb8f0d1f49e8a7408570001cddb0",
            "placeholder": "​",
            "style": "IPY_MODEL_a8374212a95047e9817c37daadbb1f55",
            "value": "Downloading: 100%"
          }
        },
        "ccf566ffc3064f09bc310120c08442fe": {
          "model_module": "@jupyter-widgets/base",
          "model_module_version": "1.2.0",
          "model_name": "LayoutModel",
          "state": {
            "_model_module": "@jupyter-widgets/base",
            "_model_module_version": "1.2.0",
            "_model_name": "LayoutModel",
            "_view_count": null,
            "_view_module": "@jupyter-widgets/base",
            "_view_module_version": "1.2.0",
            "_view_name": "LayoutView",
            "align_content": null,
            "align_items": null,
            "align_self": null,
            "border": null,
            "bottom": null,
            "display": null,
            "flex": null,
            "flex_flow": null,
            "grid_area": null,
            "grid_auto_columns": null,
            "grid_auto_flow": null,
            "grid_auto_rows": null,
            "grid_column": null,
            "grid_gap": null,
            "grid_row": null,
            "grid_template_areas": null,
            "grid_template_columns": null,
            "grid_template_rows": null,
            "height": null,
            "justify_content": null,
            "justify_items": null,
            "left": null,
            "margin": null,
            "max_height": null,
            "max_width": null,
            "min_height": null,
            "min_width": null,
            "object_fit": null,
            "object_position": null,
            "order": null,
            "overflow": null,
            "overflow_x": null,
            "overflow_y": null,
            "padding": null,
            "right": null,
            "top": null,
            "visibility": null,
            "width": null
          }
        },
        "d0b9d6e7725742f2b0f42b658c006b95": {
          "model_module": "@jupyter-widgets/controls",
          "model_module_version": "1.5.0",
          "model_name": "ProgressStyleModel",
          "state": {
            "_model_module": "@jupyter-widgets/controls",
            "_model_module_version": "1.5.0",
            "_model_name": "ProgressStyleModel",
            "_view_count": null,
            "_view_module": "@jupyter-widgets/base",
            "_view_module_version": "1.2.0",
            "_view_name": "StyleView",
            "bar_color": null,
            "description_width": ""
          }
        },
        "d4157aa4d15b46b9ad84666e727fa67f": {
          "model_module": "@jupyter-widgets/controls",
          "model_module_version": "1.5.0",
          "model_name": "DescriptionStyleModel",
          "state": {
            "_model_module": "@jupyter-widgets/controls",
            "_model_module_version": "1.5.0",
            "_model_name": "DescriptionStyleModel",
            "_view_count": null,
            "_view_module": "@jupyter-widgets/base",
            "_view_module_version": "1.2.0",
            "_view_name": "StyleView",
            "description_width": ""
          }
        },
        "da352f8b9b984a84bf97a60ce182641b": {
          "model_module": "@jupyter-widgets/base",
          "model_module_version": "1.2.0",
          "model_name": "LayoutModel",
          "state": {
            "_model_module": "@jupyter-widgets/base",
            "_model_module_version": "1.2.0",
            "_model_name": "LayoutModel",
            "_view_count": null,
            "_view_module": "@jupyter-widgets/base",
            "_view_module_version": "1.2.0",
            "_view_name": "LayoutView",
            "align_content": null,
            "align_items": null,
            "align_self": null,
            "border": null,
            "bottom": null,
            "display": null,
            "flex": null,
            "flex_flow": null,
            "grid_area": null,
            "grid_auto_columns": null,
            "grid_auto_flow": null,
            "grid_auto_rows": null,
            "grid_column": null,
            "grid_gap": null,
            "grid_row": null,
            "grid_template_areas": null,
            "grid_template_columns": null,
            "grid_template_rows": null,
            "height": null,
            "justify_content": null,
            "justify_items": null,
            "left": null,
            "margin": null,
            "max_height": null,
            "max_width": null,
            "min_height": null,
            "min_width": null,
            "object_fit": null,
            "object_position": null,
            "order": null,
            "overflow": null,
            "overflow_x": null,
            "overflow_y": null,
            "padding": null,
            "right": null,
            "top": null,
            "visibility": null,
            "width": null
          }
        },
        "e0d49bb3b05146d78c00bfba3ccfdd2e": {
          "model_module": "@jupyter-widgets/base",
          "model_module_version": "1.2.0",
          "model_name": "LayoutModel",
          "state": {
            "_model_module": "@jupyter-widgets/base",
            "_model_module_version": "1.2.0",
            "_model_name": "LayoutModel",
            "_view_count": null,
            "_view_module": "@jupyter-widgets/base",
            "_view_module_version": "1.2.0",
            "_view_name": "LayoutView",
            "align_content": null,
            "align_items": null,
            "align_self": null,
            "border": null,
            "bottom": null,
            "display": null,
            "flex": null,
            "flex_flow": null,
            "grid_area": null,
            "grid_auto_columns": null,
            "grid_auto_flow": null,
            "grid_auto_rows": null,
            "grid_column": null,
            "grid_gap": null,
            "grid_row": null,
            "grid_template_areas": null,
            "grid_template_columns": null,
            "grid_template_rows": null,
            "height": null,
            "justify_content": null,
            "justify_items": null,
            "left": null,
            "margin": null,
            "max_height": null,
            "max_width": null,
            "min_height": null,
            "min_width": null,
            "object_fit": null,
            "object_position": null,
            "order": null,
            "overflow": null,
            "overflow_x": null,
            "overflow_y": null,
            "padding": null,
            "right": null,
            "top": null,
            "visibility": null,
            "width": null
          }
        },
        "e7eb68b0c41848cfad6752c0702bfd31": {
          "model_module": "@jupyter-widgets/base",
          "model_module_version": "1.2.0",
          "model_name": "LayoutModel",
          "state": {
            "_model_module": "@jupyter-widgets/base",
            "_model_module_version": "1.2.0",
            "_model_name": "LayoutModel",
            "_view_count": null,
            "_view_module": "@jupyter-widgets/base",
            "_view_module_version": "1.2.0",
            "_view_name": "LayoutView",
            "align_content": null,
            "align_items": null,
            "align_self": null,
            "border": null,
            "bottom": null,
            "display": null,
            "flex": null,
            "flex_flow": null,
            "grid_area": null,
            "grid_auto_columns": null,
            "grid_auto_flow": null,
            "grid_auto_rows": null,
            "grid_column": null,
            "grid_gap": null,
            "grid_row": null,
            "grid_template_areas": null,
            "grid_template_columns": null,
            "grid_template_rows": null,
            "height": null,
            "justify_content": null,
            "justify_items": null,
            "left": null,
            "margin": null,
            "max_height": null,
            "max_width": null,
            "min_height": null,
            "min_width": null,
            "object_fit": null,
            "object_position": null,
            "order": null,
            "overflow": null,
            "overflow_x": null,
            "overflow_y": null,
            "padding": null,
            "right": null,
            "top": null,
            "visibility": null,
            "width": null
          }
        },
        "f28499b37c0e4528bb87ae9a2eb0238f": {
          "model_module": "@jupyter-widgets/controls",
          "model_module_version": "1.5.0",
          "model_name": "HTMLModel",
          "state": {
            "_dom_classes": [],
            "_model_module": "@jupyter-widgets/controls",
            "_model_module_version": "1.5.0",
            "_model_name": "HTMLModel",
            "_view_count": null,
            "_view_module": "@jupyter-widgets/controls",
            "_view_module_version": "1.5.0",
            "_view_name": "HTMLView",
            "description": "",
            "description_tooltip": null,
            "layout": "IPY_MODEL_e7eb68b0c41848cfad6752c0702bfd31",
            "placeholder": "​",
            "style": "IPY_MODEL_d4157aa4d15b46b9ad84666e727fa67f",
            "value": "Downloading: 100%"
          }
        },
        "f9979b580685448ea0a8757abbae2bfb": {
          "model_module": "@jupyter-widgets/base",
          "model_module_version": "1.2.0",
          "model_name": "LayoutModel",
          "state": {
            "_model_module": "@jupyter-widgets/base",
            "_model_module_version": "1.2.0",
            "_model_name": "LayoutModel",
            "_view_count": null,
            "_view_module": "@jupyter-widgets/base",
            "_view_module_version": "1.2.0",
            "_view_name": "LayoutView",
            "align_content": null,
            "align_items": null,
            "align_self": null,
            "border": null,
            "bottom": null,
            "display": null,
            "flex": null,
            "flex_flow": null,
            "grid_area": null,
            "grid_auto_columns": null,
            "grid_auto_flow": null,
            "grid_auto_rows": null,
            "grid_column": null,
            "grid_gap": null,
            "grid_row": null,
            "grid_template_areas": null,
            "grid_template_columns": null,
            "grid_template_rows": null,
            "height": null,
            "justify_content": null,
            "justify_items": null,
            "left": null,
            "margin": null,
            "max_height": null,
            "max_width": null,
            "min_height": null,
            "min_width": null,
            "object_fit": null,
            "object_position": null,
            "order": null,
            "overflow": null,
            "overflow_x": null,
            "overflow_y": null,
            "padding": null,
            "right": null,
            "top": null,
            "visibility": null,
            "width": null
          }
        }
      }
    }
  },
  "nbformat": 4,
  "nbformat_minor": 0
}
