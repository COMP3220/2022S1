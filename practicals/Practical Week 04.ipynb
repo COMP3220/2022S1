{
 "cells": [
  {
   "cell_type": "markdown",
   "metadata": {},
   "source": [
    "# Workshop Week 4"
   ]
  },
  {
   "cell_type": "markdown",
   "metadata": {},
   "source": [
    "# Deep Learning for Name Gender Classification\n",
    "\n",
    "We have already seen the following code for partitioning the data of name gender classification and feature extraction. The code is changed slightly so that the labels are numerical (0 for male, 1 for female). This is the format required for Keras:"
   ]
  },
  {
   "cell_type": "code",
   "execution_count": 1,
   "metadata": {},
   "outputs": [
    {
     "name": "stderr",
     "output_type": "stream",
     "text": [
      "[nltk_data] Downloading package names to\n",
      "[nltk_data]     C:\\Users\\K\\AppData\\Roaming\\nltk_data...\n",
      "[nltk_data]   Package names is already up-to-date!\n"
     ]
    }
   ],
   "source": [
    "import nltk\n",
    "import numpy as np\n",
    "nltk.download('names')\n",
    "from nltk.corpus import names\n",
    "m = names.words('male.txt')\n",
    "f = names.words('female.txt')"
   ]
  },
  {
   "cell_type": "code",
   "execution_count": 2,
   "metadata": {},
   "outputs": [],
   "source": [
    "import random\n",
    "random.seed(1234) # Set the random seed to allow replicability\n",
    "names = ([(name,0) for name in m] +\n",
    "         [(name,1) for name in f])\n",
    "random.shuffle(names)\n",
    "train_names = names[1000:]\n",
    "devtest_names = names[500:1000]\n",
    "test_names = names[:500]"
   ]
  },
  {
   "cell_type": "code",
   "execution_count": 3,
   "metadata": {},
   "outputs": [],
   "source": [
    "def one_hot_character(c):\n",
    "    alphabet = 'abcdefghijklmnopqrstuvwxyz'\n",
    "    result = [0]*(len(alphabet)+1)\n",
    "    i = alphabet.find(c.lower())\n",
    "    if i >= 0:\n",
    "        result[i] = 1\n",
    "    else:\n",
    "        result[len(alphabet)] = 1 # character is out of the alphabet\n",
    "    return result\n",
    "\n",
    "def gender_features_n(word, n=2):\n",
    "    \"Return the one-hot encodings of the last n characters\"\n",
    "    features = []\n",
    "    for i in range(n):\n",
    "        if i < len(word):\n",
    "            features = one_hot_character(word[-i-1]) + features\n",
    "        else:\n",
    "            features = one_hot_character(' ') + features\n",
    "    return features"
   ]
  },
  {
   "cell_type": "code",
   "execution_count": 4,
   "metadata": {},
   "outputs": [
    {
     "data": {
      "text/plain": [
       "[0,\n",
       " 0,\n",
       " 0,\n",
       " 0,\n",
       " 0,\n",
       " 0,\n",
       " 0,\n",
       " 0,\n",
       " 0,\n",
       " 0,\n",
       " 0,\n",
       " 0,\n",
       " 0,\n",
       " 0,\n",
       " 0,\n",
       " 0,\n",
       " 0,\n",
       " 1,\n",
       " 0,\n",
       " 0,\n",
       " 0,\n",
       " 0,\n",
       " 0,\n",
       " 0,\n",
       " 0,\n",
       " 0,\n",
       " 0,\n",
       " 0,\n",
       " 0,\n",
       " 0,\n",
       " 0,\n",
       " 0,\n",
       " 0,\n",
       " 0,\n",
       " 0,\n",
       " 0,\n",
       " 0,\n",
       " 0,\n",
       " 0,\n",
       " 0,\n",
       " 0,\n",
       " 0,\n",
       " 0,\n",
       " 0,\n",
       " 0,\n",
       " 0,\n",
       " 0,\n",
       " 0,\n",
       " 0,\n",
       " 0,\n",
       " 0,\n",
       " 1,\n",
       " 0,\n",
       " 0]"
      ]
     },
     "execution_count": 4,
     "metadata": {},
     "output_type": "execute_result"
    }
   ],
   "source": [
    "gender_features_n(\"Mary\", n=2)"
   ]
  },
  {
   "cell_type": "code",
   "execution_count": 5,
   "metadata": {},
   "outputs": [
    {
     "data": {
      "text/plain": [
       "54"
      ]
     },
     "execution_count": 5,
     "metadata": {},
     "output_type": "execute_result"
    }
   ],
   "source": [
    "# Let's determine the number of features so that we can use this information when we design the neural network\n",
    "len(gender_features_n(\"Mary\", n=2))"
   ]
  },
  {
   "cell_type": "markdown",
   "metadata": {},
   "source": [
    "## Exercise: Simple Neural Network\n",
    "Design a simple neural network that has 54 input cells (that's the number of gender features for $n=2$, as we have seen above), and one output cell (without a hidden layer). The output cell will be used to classify the name between male (output=0) and female (output=1). This is therefore an instance of **binary classification**. Pay attention to the right activation function! This simple model, without hidden layers, is equivalent to a **logistic regression** classifier. The model summary should look like this:\n",
    "\n",
    "```\n",
    "Layer (type)                 Output Shape              Param #   \n",
    "=================================================================\n",
    "dense_2 (Dense)              (None, 1)                 55        \n",
    "=================================================================\n",
    "Total params: 55\n",
    "Trainable params: 55\n",
    "Non-trainable params: 0\n",
    "```\n",
    "\n",
    "\n",
    "Compile the model and provide the right loss function. Use `'rmsprop'` as the optimiser, and include `'accuracy'` as an evaluation metric. \n",
    "Run the network **for 100 epochs** using batch size of 100, and observe the results. \n",
    "\n",
    "Answer the following questions:\n",
    "\n",
    "1. What is the best result on the validation set?\n",
    "2. At the epoch with best result on the validation set, what is the result on the training set?\n",
    "3. Is the system overfitting? Justify your answer.\n",
    "4. Do we really need 100 epochs? Do we need more than 100 epochs? would the system run better with less epochs?"
   ]
  },
  {
   "cell_type": "code",
   "execution_count": 6,
   "metadata": {},
   "outputs": [
    {
     "data": {
      "text/plain": [
       "[PhysicalDevice(name='/physical_device:CPU:0', device_type='CPU')]"
      ]
     },
     "execution_count": 6,
     "metadata": {},
     "output_type": "execute_result"
    }
   ],
   "source": [
    "import tensorflow as tf\n",
    "tf.config.experimental.list_physical_devices()"
   ]
  },
  {
   "cell_type": "code",
   "execution_count": 7,
   "metadata": {},
   "outputs": [],
   "source": [
    "from tensorflow.compat.v1 import ConfigProto\n",
    "from tensorflow.compat.v1 import InteractiveSession\n",
    "\n",
    "config = ConfigProto()\n",
    "config.gpu_options.allow_growth = True\n",
    "session = InteractiveSession(config=config)"
   ]
  },
  {
   "cell_type": "code",
   "execution_count": 8,
   "metadata": {},
   "outputs": [],
   "source": [
    "train_data = np.array([gender_features_n(name,n=2)for name, label in train_names])\n",
    "train_labels = np.array([label for name, label in train_names])\n",
    "\n",
    "devtest_data = np.array([gender_features_n(name,n=2)for name, label in devtest_names])\n",
    "devtest_labels = np.array([label for name, label in devtest_names])\n",
    "\n",
    "test_data = np.array([gender_features_n(name,n=2)for name, label in test_names])\n",
    "test_labels = np.array([name for name, label in test_names])"
   ]
  },
  {
   "cell_type": "code",
   "execution_count": 13,
   "metadata": {},
   "outputs": [
    {
     "name": "stdout",
     "output_type": "stream",
     "text": [
      "Model: \"sequential_1\"\n",
      "_________________________________________________________________\n",
      " Layer (type)                Output Shape              Param #   \n",
      "=================================================================\n",
      " dense_1 (Dense)             (None, 1)                 55        \n",
      "                                                                 \n",
      "=================================================================\n",
      "Total params: 55\n",
      "Trainable params: 55\n",
      "Non-trainable params: 0\n",
      "_________________________________________________________________\n",
      "Epoch 1/50\n",
      "14/14 [==============================] - 0s 8ms/step - loss: 0.6549 - acc: 0.6650 - val_loss: 0.6587 - val_acc: 0.6540\n",
      "Epoch 2/50\n",
      "14/14 [==============================] - 0s 2ms/step - loss: 0.6464 - acc: 0.6802 - val_loss: 0.6515 - val_acc: 0.6600\n",
      "Epoch 3/50\n",
      "14/14 [==============================] - 0s 2ms/step - loss: 0.6397 - acc: 0.6843 - val_loss: 0.6451 - val_acc: 0.6620\n",
      "Epoch 4/50\n",
      "14/14 [==============================] - 0s 2ms/step - loss: 0.6333 - acc: 0.6912 - val_loss: 0.6389 - val_acc: 0.6640\n",
      "Epoch 5/50\n",
      "14/14 [==============================] - 0s 2ms/step - loss: 0.6273 - acc: 0.7049 - val_loss: 0.6329 - val_acc: 0.6760\n",
      "Epoch 6/50\n",
      "14/14 [==============================] - 0s 2ms/step - loss: 0.6215 - acc: 0.7075 - val_loss: 0.6272 - val_acc: 0.6760\n",
      "Epoch 7/50\n",
      "14/14 [==============================] - 0s 2ms/step - loss: 0.6159 - acc: 0.7092 - val_loss: 0.6219 - val_acc: 0.6800\n",
      "Epoch 8/50\n",
      "14/14 [==============================] - 0s 2ms/step - loss: 0.6106 - acc: 0.7173 - val_loss: 0.6166 - val_acc: 0.7080\n",
      "Epoch 9/50\n",
      "14/14 [==============================] - 0s 2ms/step - loss: 0.6055 - acc: 0.7236 - val_loss: 0.6117 - val_acc: 0.7100\n",
      "Epoch 10/50\n",
      "14/14 [==============================] - 0s 2ms/step - loss: 0.6006 - acc: 0.7245 - val_loss: 0.6069 - val_acc: 0.7100\n",
      "Epoch 11/50\n",
      "14/14 [==============================] - 0s 2ms/step - loss: 0.5959 - acc: 0.7293 - val_loss: 0.6023 - val_acc: 0.7120\n",
      "Epoch 12/50\n",
      "14/14 [==============================] - 0s 2ms/step - loss: 0.5914 - acc: 0.7329 - val_loss: 0.5981 - val_acc: 0.7120\n",
      "Epoch 13/50\n",
      "14/14 [==============================] - 0s 2ms/step - loss: 0.5872 - acc: 0.7334 - val_loss: 0.5939 - val_acc: 0.7180\n",
      "Epoch 14/50\n",
      "14/14 [==============================] - 0s 2ms/step - loss: 0.5831 - acc: 0.7353 - val_loss: 0.5901 - val_acc: 0.7180\n",
      "Epoch 15/50\n",
      "14/14 [==============================] - 0s 2ms/step - loss: 0.5792 - acc: 0.7366 - val_loss: 0.5865 - val_acc: 0.7180\n",
      "Epoch 16/50\n",
      "14/14 [==============================] - 0s 2ms/step - loss: 0.5756 - acc: 0.7356 - val_loss: 0.5830 - val_acc: 0.7120\n",
      "Epoch 17/50\n",
      "14/14 [==============================] - 0s 2ms/step - loss: 0.5720 - acc: 0.7352 - val_loss: 0.5796 - val_acc: 0.7120\n",
      "Epoch 18/50\n",
      "14/14 [==============================] - 0s 2ms/step - loss: 0.5687 - acc: 0.7350 - val_loss: 0.5765 - val_acc: 0.7120\n",
      "Epoch 19/50\n",
      "14/14 [==============================] - 0s 2ms/step - loss: 0.5655 - acc: 0.7336 - val_loss: 0.5734 - val_acc: 0.7080\n",
      "Epoch 20/50\n",
      "14/14 [==============================] - 0s 2ms/step - loss: 0.5624 - acc: 0.7298 - val_loss: 0.5706 - val_acc: 0.7120\n",
      "Epoch 21/50\n",
      "14/14 [==============================] - 0s 2ms/step - loss: 0.5595 - acc: 0.7294 - val_loss: 0.5679 - val_acc: 0.7120\n",
      "Epoch 22/50\n",
      "14/14 [==============================] - 0s 2ms/step - loss: 0.5567 - acc: 0.7291 - val_loss: 0.5653 - val_acc: 0.7120\n",
      "Epoch 23/50\n",
      "14/14 [==============================] - 0s 2ms/step - loss: 0.5540 - acc: 0.7291 - val_loss: 0.5628 - val_acc: 0.7120\n",
      "Epoch 24/50\n",
      "14/14 [==============================] - 0s 2ms/step - loss: 0.5513 - acc: 0.7290 - val_loss: 0.5604 - val_acc: 0.7100\n",
      "Epoch 25/50\n",
      "14/14 [==============================] - 0s 2ms/step - loss: 0.5488 - acc: 0.7290 - val_loss: 0.5582 - val_acc: 0.7120\n",
      "Epoch 26/50\n",
      "14/14 [==============================] - 0s 2ms/step - loss: 0.5464 - acc: 0.7303 - val_loss: 0.5560 - val_acc: 0.7140\n",
      "Epoch 27/50\n",
      "14/14 [==============================] - 0s 2ms/step - loss: 0.5441 - acc: 0.7319 - val_loss: 0.5540 - val_acc: 0.7140\n",
      "Epoch 28/50\n",
      "14/14 [==============================] - 0s 2ms/step - loss: 0.5419 - acc: 0.7330 - val_loss: 0.5521 - val_acc: 0.7180\n",
      "Epoch 29/50\n",
      "14/14 [==============================] - 0s 2ms/step - loss: 0.5397 - acc: 0.7342 - val_loss: 0.5502 - val_acc: 0.7180\n",
      "Epoch 30/50\n",
      "14/14 [==============================] - 0s 2ms/step - loss: 0.5376 - acc: 0.7343 - val_loss: 0.5483 - val_acc: 0.7200\n",
      "Epoch 31/50\n",
      "14/14 [==============================] - 0s 2ms/step - loss: 0.5355 - acc: 0.7357 - val_loss: 0.5465 - val_acc: 0.7340\n",
      "Epoch 32/50\n",
      "14/14 [==============================] - 0s 2ms/step - loss: 0.5335 - acc: 0.7480 - val_loss: 0.5448 - val_acc: 0.7340\n",
      "Epoch 33/50\n",
      "14/14 [==============================] - 0s 2ms/step - loss: 0.5316 - acc: 0.7481 - val_loss: 0.5432 - val_acc: 0.7340\n",
      "Epoch 34/50\n",
      "14/14 [==============================] - 0s 2ms/step - loss: 0.5297 - acc: 0.7486 - val_loss: 0.5416 - val_acc: 0.7340\n",
      "Epoch 35/50\n",
      "14/14 [==============================] - 0s 2ms/step - loss: 0.5278 - acc: 0.7488 - val_loss: 0.5401 - val_acc: 0.7340\n",
      "Epoch 36/50\n",
      "14/14 [==============================] - 0s 2ms/step - loss: 0.5260 - acc: 0.7491 - val_loss: 0.5386 - val_acc: 0.7340\n",
      "Epoch 37/50\n",
      "14/14 [==============================] - 0s 2ms/step - loss: 0.5243 - acc: 0.7490 - val_loss: 0.5371 - val_acc: 0.7360\n",
      "Epoch 38/50\n",
      "14/14 [==============================] - 0s 2ms/step - loss: 0.5226 - acc: 0.7487 - val_loss: 0.5357 - val_acc: 0.7380\n",
      "Epoch 39/50\n",
      "14/14 [==============================] - 0s 2ms/step - loss: 0.5209 - acc: 0.7497 - val_loss: 0.5344 - val_acc: 0.7360\n",
      "Epoch 40/50\n",
      "14/14 [==============================] - 0s 2ms/step - loss: 0.5193 - acc: 0.7504 - val_loss: 0.5331 - val_acc: 0.7340\n",
      "Epoch 41/50\n",
      "14/14 [==============================] - 0s 2ms/step - loss: 0.5178 - acc: 0.7500 - val_loss: 0.5318 - val_acc: 0.7320\n",
      "Epoch 42/50\n",
      "14/14 [==============================] - 0s 2ms/step - loss: 0.5162 - acc: 0.7500 - val_loss: 0.5305 - val_acc: 0.7320\n",
      "Epoch 43/50\n",
      "14/14 [==============================] - 0s 2ms/step - loss: 0.5147 - acc: 0.7500 - val_loss: 0.5293 - val_acc: 0.7340\n",
      "Epoch 44/50\n",
      "14/14 [==============================] - 0s 2ms/step - loss: 0.5132 - acc: 0.7512 - val_loss: 0.5281 - val_acc: 0.7340\n",
      "Epoch 45/50\n",
      "14/14 [==============================] - 0s 2ms/step - loss: 0.5118 - acc: 0.7513 - val_loss: 0.5270 - val_acc: 0.7340\n",
      "Epoch 46/50\n",
      "14/14 [==============================] - 0s 2ms/step - loss: 0.5104 - acc: 0.7513 - val_loss: 0.5259 - val_acc: 0.7340\n",
      "Epoch 47/50\n",
      "14/14 [==============================] - 0s 2ms/step - loss: 0.5090 - acc: 0.7510 - val_loss: 0.5248 - val_acc: 0.7340\n",
      "Epoch 48/50\n",
      "14/14 [==============================] - 0s 2ms/step - loss: 0.5077 - acc: 0.7512 - val_loss: 0.5237 - val_acc: 0.7340\n",
      "Epoch 49/50\n",
      "14/14 [==============================] - 0s 2ms/step - loss: 0.5063 - acc: 0.7512 - val_loss: 0.5227 - val_acc: 0.7340\n",
      "Epoch 50/50\n",
      "14/14 [==============================] - 0s 2ms/step - loss: 0.5051 - acc: 0.7512 - val_loss: 0.5217 - val_acc: 0.7340\n"
     ]
    },
    {
     "data": {
      "text/plain": [
       "dict_keys(['loss', 'acc', 'val_loss', 'val_acc'])"
      ]
     },
     "execution_count": 13,
     "metadata": {},
     "output_type": "execute_result"
    }
   ],
   "source": [
    "import numpy as np\n",
    "from keras import optimizers\n",
    "from keras import models\n",
    "from keras import layers\n",
    "\n",
    "# Write your model here\n",
    "network = models.Sequential()\n",
    "network.add(layers.Dense(1, activation='sigmoid', input_shape = (54,)))\n",
    "network.compile(optimizer = 'rmsprop', loss = 'binary_crossentropy', metrics = ['acc'])\n",
    "network.summary()\n",
    "history = network.fit(train_data, train_labels, epochs= 50, batch_size =512, validation_data=(devtest_data, devtest_labels))\n",
    "history_dict = history.history\n",
    "history_dict.keys()"
   ]
  },
  {
   "cell_type": "code",
   "execution_count": 11,
   "metadata": {},
   "outputs": [
    {
     "name": "stdout",
     "output_type": "stream",
     "text": [
      "Model: \"sequential\"\n",
      "_________________________________________________________________\n",
      " Layer (type)                Output Shape              Param #   \n",
      "=================================================================\n",
      " dense (Dense)               (None, 1)                 55        \n",
      "                                                                 \n",
      "=================================================================\n",
      "Total params: 55\n",
      "Trainable params: 55\n",
      "Non-trainable params: 0\n",
      "_________________________________________________________________\n"
     ]
    }
   ],
   "source": [
    "network.summary()"
   ]
  },
  {
   "cell_type": "markdown",
   "metadata": {},
   "source": [
    "(write additional code for the partition of the data, your experiments, and your analysis. Write the answers to the questions.)"
   ]
  },
  {
   "cell_type": "code",
   "execution_count": 14,
   "metadata": {},
   "outputs": [
    {
     "data": {
      "image/png": "[encoded data removed]",
      "text/plain": [
       "<Figure size 432x288 with 1 Axes>"
      ]
     },
     "metadata": {
      "needs_background": "light"
     },
     "output_type": "display_data"
    }
   ],
   "source": [
    "%matplotlib inline\n",
    "import matplotlib.pyplot as plt\n",
    "history_dict = history.history\n",
    "loss_values = history_dict['loss']\n",
    "val_loss_values = history_dict['val_loss']\n",
    "acc = history_dict['acc']\n",
    "val_acc = history_dict['val_acc']\n",
    "epochs = range(1, len(acc)+1)\n",
    "\n",
    "plt.plot(epochs, acc, 'bo', label = 'Traning acc')\n",
    "plt.plot(epochs, val_acc,'b', label = 'Validation acc')\n",
    "plt.title('Training and validation accuracy')\n",
    "plt.xlabel('Epochs')\n",
    "plt.ylabel('Accuracy')\n",
    "plt.legend()\n",
    "plt.show()"
   ]
  },
  {
   "cell_type": "code",
   "execution_count": 15,
   "metadata": {},
   "outputs": [
    {
     "data": {
      "text/plain": [
       "0.7379999756813049"
      ]
     },
     "execution_count": 15,
     "metadata": {},
     "output_type": "execute_result"
    }
   ],
   "source": [
    "#what is the best result on the validation set?\n",
    "\n",
    "np.max(val_acc)"
   ]
  },
  {
   "cell_type": "code",
   "execution_count": 16,
   "metadata": {},
   "outputs": [
    {
     "data": {
      "text/plain": [
       "0.7487038969993591"
      ]
     },
     "execution_count": 16,
     "metadata": {},
     "output_type": "execute_result"
    }
   ],
   "source": [
    "#At the epoch with best result on  the validation set, what is the result on the training set?\n",
    "acc[np.argmax(val_acc)]"
   ]
  },
  {
   "cell_type": "markdown",
   "metadata": {},
   "source": [
    "## Exercise: A Deeper Network\n",
    "Experiment with a network that has one hidden dense layer with a `'relu'` activation. The resulting system is no longer a logistic regression classifier, it's something more complex. Try the following sizes in the hidden layer:\n",
    "\n",
    "* 5, 7, 10\n",
    "\n",
    "Answer the following questions:\n",
    "\n",
    "1. Which system performed best on the dev-test set?\n",
    "2. Would you add more or less cells in the hidden layer? Justify your answer.\n",
    "3. Is this system better than the simpler system of the previous exercise? Justify your answer."
   ]
  },
  {
   "cell_type": "code",
   "execution_count": 26,
   "metadata": {},
   "outputs": [
    {
     "name": "stdout",
     "output_type": "stream",
     "text": [
      "Model: \"sequential_5\"\n",
      "_________________________________________________________________\n",
      " Layer (type)                Output Shape              Param #   \n",
      "=================================================================\n",
      " dense_7 (Dense)             (None, 10)                550       \n",
      "                                                                 \n",
      " dense_8 (Dense)             (None, 1)                 11        \n",
      "                                                                 \n",
      "=================================================================\n",
      "Total params: 561\n",
      "Trainable params: 561\n",
      "Non-trainable params: 0\n",
      "_________________________________________________________________\n",
      "Epoch 1/100\n",
      "14/14 [==============================] - 0s 7ms/step - loss: 0.7047 - acc: 0.4761 - val_loss: 0.6898 - val_acc: 0.5160\n",
      "Epoch 2/100\n",
      "14/14 [==============================] - 0s 2ms/step - loss: 0.6847 - acc: 0.5552 - val_loss: 0.6744 - val_acc: 0.6540\n",
      "Epoch 3/100\n",
      "14/14 [==============================] - 0s 2ms/step - loss: 0.6696 - acc: 0.6560 - val_loss: 0.6602 - val_acc: 0.6780\n",
      "Epoch 4/100\n",
      "14/14 [==============================] - 0s 2ms/step - loss: 0.6560 - acc: 0.6836 - val_loss: 0.6479 - val_acc: 0.6860\n",
      "Epoch 5/100\n",
      "14/14 [==============================] - 0s 2ms/step - loss: 0.6436 - acc: 0.7081 - val_loss: 0.6365 - val_acc: 0.7140\n",
      "Epoch 6/100\n",
      "14/14 [==============================] - 0s 2ms/step - loss: 0.6316 - acc: 0.7211 - val_loss: 0.6251 - val_acc: 0.7180\n",
      "Epoch 7/100\n",
      "14/14 [==============================] - 0s 2ms/step - loss: 0.6196 - acc: 0.7254 - val_loss: 0.6142 - val_acc: 0.7200\n",
      "Epoch 8/100\n",
      "14/14 [==============================] - 0s 2ms/step - loss: 0.6075 - acc: 0.7294 - val_loss: 0.6025 - val_acc: 0.7240\n",
      "Epoch 9/100\n",
      "14/14 [==============================] - 0s 2ms/step - loss: 0.5949 - acc: 0.7360 - val_loss: 0.5912 - val_acc: 0.7320\n",
      "Epoch 10/100\n",
      "14/14 [==============================] - 0s 2ms/step - loss: 0.5829 - acc: 0.7393 - val_loss: 0.5809 - val_acc: 0.7320\n",
      "Epoch 11/100\n",
      "14/14 [==============================] - 0s 2ms/step - loss: 0.5717 - acc: 0.7392 - val_loss: 0.5711 - val_acc: 0.7200\n",
      "Epoch 12/100\n",
      "14/14 [==============================] - 0s 2ms/step - loss: 0.5608 - acc: 0.7428 - val_loss: 0.5618 - val_acc: 0.7200\n",
      "Epoch 13/100\n",
      "14/14 [==============================] - 0s 2ms/step - loss: 0.5503 - acc: 0.7484 - val_loss: 0.5534 - val_acc: 0.7240\n",
      "Epoch 14/100\n",
      "14/14 [==============================] - 0s 2ms/step - loss: 0.5405 - acc: 0.7499 - val_loss: 0.5455 - val_acc: 0.7260\n",
      "Epoch 15/100\n",
      "14/14 [==============================] - 0s 2ms/step - loss: 0.5313 - acc: 0.7552 - val_loss: 0.5383 - val_acc: 0.7360\n",
      "Epoch 16/100\n",
      "14/14 [==============================] - 0s 2ms/step - loss: 0.5228 - acc: 0.7572 - val_loss: 0.5319 - val_acc: 0.7400\n",
      "Epoch 17/100\n",
      "14/14 [==============================] - 0s 2ms/step - loss: 0.5148 - acc: 0.7562 - val_loss: 0.5260 - val_acc: 0.7380\n",
      "Epoch 18/100\n",
      "14/14 [==============================] - 0s 2ms/step - loss: 0.5073 - acc: 0.7601 - val_loss: 0.5204 - val_acc: 0.7360\n",
      "Epoch 19/100\n",
      "14/14 [==============================] - 0s 2ms/step - loss: 0.5003 - acc: 0.7651 - val_loss: 0.5155 - val_acc: 0.7500\n",
      "Epoch 20/100\n",
      "14/14 [==============================] - 0s 2ms/step - loss: 0.4939 - acc: 0.7684 - val_loss: 0.5107 - val_acc: 0.7500\n",
      "Epoch 21/100\n",
      "14/14 [==============================] - 0s 2ms/step - loss: 0.4879 - acc: 0.7692 - val_loss: 0.5064 - val_acc: 0.7500\n",
      "Epoch 22/100\n",
      "14/14 [==============================] - 0s 2ms/step - loss: 0.4825 - acc: 0.7700 - val_loss: 0.5026 - val_acc: 0.7560\n",
      "Epoch 23/100\n",
      "14/14 [==============================] - 0s 2ms/step - loss: 0.4774 - acc: 0.7729 - val_loss: 0.4992 - val_acc: 0.7620\n",
      "Epoch 24/100\n",
      "14/14 [==============================] - 0s 2ms/step - loss: 0.4727 - acc: 0.7743 - val_loss: 0.4960 - val_acc: 0.7640\n",
      "Epoch 25/100\n",
      "14/14 [==============================] - 0s 2ms/step - loss: 0.4684 - acc: 0.7735 - val_loss: 0.4931 - val_acc: 0.7720\n",
      "Epoch 26/100\n",
      "14/14 [==============================] - 0s 2ms/step - loss: 0.4645 - acc: 0.7769 - val_loss: 0.4905 - val_acc: 0.7720\n",
      "Epoch 27/100\n",
      "14/14 [==============================] - 0s 2ms/step - loss: 0.4610 - acc: 0.7779 - val_loss: 0.4887 - val_acc: 0.7740\n",
      "Epoch 28/100\n",
      "14/14 [==============================] - 0s 2ms/step - loss: 0.4579 - acc: 0.7791 - val_loss: 0.4864 - val_acc: 0.7740\n",
      "Epoch 29/100\n",
      "14/14 [==============================] - 0s 2ms/step - loss: 0.4549 - acc: 0.7802 - val_loss: 0.4849 - val_acc: 0.7740\n",
      "Epoch 30/100\n",
      "14/14 [==============================] - 0s 2ms/step - loss: 0.4524 - acc: 0.7802 - val_loss: 0.4830 - val_acc: 0.7740\n",
      "Epoch 31/100\n",
      "14/14 [==============================] - 0s 2ms/step - loss: 0.4501 - acc: 0.7805 - val_loss: 0.4815 - val_acc: 0.7720\n",
      "Epoch 32/100\n",
      "14/14 [==============================] - 0s 2ms/step - loss: 0.4480 - acc: 0.7797 - val_loss: 0.4798 - val_acc: 0.7720\n",
      "Epoch 33/100\n",
      "14/14 [==============================] - 0s 2ms/step - loss: 0.4462 - acc: 0.7834 - val_loss: 0.4786 - val_acc: 0.7720\n",
      "Epoch 34/100\n",
      "14/14 [==============================] - 0s 2ms/step - loss: 0.4445 - acc: 0.7838 - val_loss: 0.4779 - val_acc: 0.7740\n",
      "Epoch 35/100\n",
      "14/14 [==============================] - 0s 2ms/step - loss: 0.4431 - acc: 0.7867 - val_loss: 0.4767 - val_acc: 0.7740\n",
      "Epoch 36/100\n",
      "14/14 [==============================] - 0s 2ms/step - loss: 0.4416 - acc: 0.7870 - val_loss: 0.4755 - val_acc: 0.7760\n",
      "Epoch 37/100\n",
      "14/14 [==============================] - 0s 2ms/step - loss: 0.4403 - acc: 0.7874 - val_loss: 0.4745 - val_acc: 0.7780\n",
      "Epoch 38/100\n",
      "14/14 [==============================] - 0s 2ms/step - loss: 0.4391 - acc: 0.7876 - val_loss: 0.4738 - val_acc: 0.7780\n",
      "Epoch 39/100\n",
      "14/14 [==============================] - 0s 2ms/step - loss: 0.4380 - acc: 0.7867 - val_loss: 0.4732 - val_acc: 0.7780\n",
      "Epoch 40/100\n",
      "14/14 [==============================] - 0s 2ms/step - loss: 0.4371 - acc: 0.7879 - val_loss: 0.4722 - val_acc: 0.7780\n",
      "Epoch 41/100\n",
      "14/14 [==============================] - 0s 2ms/step - loss: 0.4361 - acc: 0.7882 - val_loss: 0.4713 - val_acc: 0.7780\n",
      "Epoch 42/100\n",
      "14/14 [==============================] - 0s 2ms/step - loss: 0.4352 - acc: 0.7880 - val_loss: 0.4711 - val_acc: 0.7780\n",
      "Epoch 43/100\n",
      "14/14 [==============================] - 0s 2ms/step - loss: 0.4345 - acc: 0.7882 - val_loss: 0.4699 - val_acc: 0.7780\n",
      "Epoch 44/100\n",
      "14/14 [==============================] - 0s 2ms/step - loss: 0.4338 - acc: 0.7880 - val_loss: 0.4693 - val_acc: 0.7780\n",
      "Epoch 45/100\n",
      "14/14 [==============================] - 0s 2ms/step - loss: 0.4331 - acc: 0.7880 - val_loss: 0.4691 - val_acc: 0.7780\n",
      "Epoch 46/100\n",
      "14/14 [==============================] - 0s 2ms/step - loss: 0.4325 - acc: 0.7880 - val_loss: 0.4687 - val_acc: 0.7780\n",
      "Epoch 47/100\n",
      "14/14 [==============================] - 0s 2ms/step - loss: 0.4320 - acc: 0.7867 - val_loss: 0.4679 - val_acc: 0.7780\n",
      "Epoch 48/100\n",
      "14/14 [==============================] - 0s 2ms/step - loss: 0.4315 - acc: 0.7882 - val_loss: 0.4676 - val_acc: 0.7780\n",
      "Epoch 49/100\n",
      "14/14 [==============================] - 0s 2ms/step - loss: 0.4310 - acc: 0.7892 - val_loss: 0.4669 - val_acc: 0.7780\n",
      "Epoch 50/100\n",
      "14/14 [==============================] - 0s 2ms/step - loss: 0.4305 - acc: 0.7905 - val_loss: 0.4667 - val_acc: 0.7760\n",
      "Epoch 51/100\n",
      "14/14 [==============================] - 0s 2ms/step - loss: 0.4301 - acc: 0.7903 - val_loss: 0.4664 - val_acc: 0.7760\n",
      "Epoch 52/100\n",
      "14/14 [==============================] - 0s 2ms/step - loss: 0.4297 - acc: 0.7909 - val_loss: 0.4659 - val_acc: 0.7760\n",
      "Epoch 53/100\n",
      "14/14 [==============================] - 0s 2ms/step - loss: 0.4294 - acc: 0.7910 - val_loss: 0.4658 - val_acc: 0.7760\n",
      "Epoch 54/100\n",
      "14/14 [==============================] - 0s 2ms/step - loss: 0.4291 - acc: 0.7910 - val_loss: 0.4650 - val_acc: 0.7760\n",
      "Epoch 55/100\n",
      "14/14 [==============================] - 0s 2ms/step - loss: 0.4287 - acc: 0.7912 - val_loss: 0.4649 - val_acc: 0.7760\n",
      "Epoch 56/100\n",
      "14/14 [==============================] - 0s 2ms/step - loss: 0.4284 - acc: 0.7915 - val_loss: 0.4646 - val_acc: 0.7760\n",
      "Epoch 57/100\n",
      "14/14 [==============================] - 0s 2ms/step - loss: 0.4281 - acc: 0.7909 - val_loss: 0.4643 - val_acc: 0.7760\n",
      "Epoch 58/100\n",
      "14/14 [==============================] - 0s 2ms/step - loss: 0.4278 - acc: 0.7906 - val_loss: 0.4635 - val_acc: 0.7760\n",
      "Epoch 59/100\n",
      "14/14 [==============================] - 0s 2ms/step - loss: 0.4276 - acc: 0.7910 - val_loss: 0.4632 - val_acc: 0.7760\n",
      "Epoch 60/100\n",
      "14/14 [==============================] - 0s 2ms/step - loss: 0.4274 - acc: 0.7915 - val_loss: 0.4636 - val_acc: 0.7760\n",
      "Epoch 61/100\n",
      "14/14 [==============================] - 0s 2ms/step - loss: 0.4271 - acc: 0.7908 - val_loss: 0.4632 - val_acc: 0.7760\n",
      "Epoch 62/100\n",
      "14/14 [==============================] - 0s 2ms/step - loss: 0.4269 - acc: 0.7918 - val_loss: 0.4627 - val_acc: 0.7760\n",
      "Epoch 63/100\n",
      "14/14 [==============================] - 0s 2ms/step - loss: 0.4267 - acc: 0.7912 - val_loss: 0.4627 - val_acc: 0.7760\n",
      "Epoch 64/100\n",
      "14/14 [==============================] - 0s 2ms/step - loss: 0.4265 - acc: 0.7919 - val_loss: 0.4622 - val_acc: 0.7760\n",
      "Epoch 65/100\n",
      "14/14 [==============================] - 0s 2ms/step - loss: 0.4262 - acc: 0.7919 - val_loss: 0.4623 - val_acc: 0.7760\n",
      "Epoch 66/100\n",
      "14/14 [==============================] - 0s 2ms/step - loss: 0.4260 - acc: 0.7918 - val_loss: 0.4622 - val_acc: 0.7760\n",
      "Epoch 67/100\n",
      "14/14 [==============================] - 0s 2ms/step - loss: 0.4259 - acc: 0.7915 - val_loss: 0.4620 - val_acc: 0.7760\n",
      "Epoch 68/100\n",
      "14/14 [==============================] - 0s 2ms/step - loss: 0.4258 - acc: 0.7918 - val_loss: 0.4619 - val_acc: 0.7760\n",
      "Epoch 69/100\n",
      "14/14 [==============================] - 0s 2ms/step - loss: 0.4256 - acc: 0.7906 - val_loss: 0.4612 - val_acc: 0.7760\n",
      "Epoch 70/100\n",
      "14/14 [==============================] - 0s 2ms/step - loss: 0.4253 - acc: 0.7919 - val_loss: 0.4612 - val_acc: 0.7760\n",
      "Epoch 71/100\n",
      "14/14 [==============================] - 0s 2ms/step - loss: 0.4252 - acc: 0.7913 - val_loss: 0.4607 - val_acc: 0.7760\n",
      "Epoch 72/100\n",
      "14/14 [==============================] - 0s 2ms/step - loss: 0.4250 - acc: 0.7913 - val_loss: 0.4604 - val_acc: 0.7760\n",
      "Epoch 73/100\n",
      "14/14 [==============================] - 0s 2ms/step - loss: 0.4249 - acc: 0.7919 - val_loss: 0.4608 - val_acc: 0.7760\n",
      "Epoch 74/100\n",
      "14/14 [==============================] - 0s 2ms/step - loss: 0.4248 - acc: 0.7918 - val_loss: 0.4607 - val_acc: 0.7800\n",
      "Epoch 75/100\n",
      "14/14 [==============================] - 0s 2ms/step - loss: 0.4246 - acc: 0.7926 - val_loss: 0.4602 - val_acc: 0.7800\n",
      "Epoch 76/100\n",
      "14/14 [==============================] - 0s 2ms/step - loss: 0.4245 - acc: 0.7922 - val_loss: 0.4597 - val_acc: 0.7800\n",
      "Epoch 77/100\n",
      "14/14 [==============================] - 0s 2ms/step - loss: 0.4243 - acc: 0.7925 - val_loss: 0.4593 - val_acc: 0.7800\n",
      "Epoch 78/100\n",
      "14/14 [==============================] - 0s 2ms/step - loss: 0.4242 - acc: 0.7926 - val_loss: 0.4594 - val_acc: 0.7800\n",
      "Epoch 79/100\n",
      "14/14 [==============================] - 0s 2ms/step - loss: 0.4241 - acc: 0.7928 - val_loss: 0.4598 - val_acc: 0.7800\n",
      "Epoch 80/100\n",
      "14/14 [==============================] - 0s 2ms/step - loss: 0.4239 - acc: 0.7925 - val_loss: 0.4592 - val_acc: 0.7800\n",
      "Epoch 81/100\n",
      "14/14 [==============================] - 0s 2ms/step - loss: 0.4237 - acc: 0.7929 - val_loss: 0.4591 - val_acc: 0.7800\n",
      "Epoch 82/100\n",
      "14/14 [==============================] - 0s 2ms/step - loss: 0.4236 - acc: 0.7928 - val_loss: 0.4593 - val_acc: 0.7800\n",
      "Epoch 83/100\n",
      "14/14 [==============================] - 0s 2ms/step - loss: 0.4235 - acc: 0.7929 - val_loss: 0.4596 - val_acc: 0.7800\n",
      "Epoch 84/100\n",
      "14/14 [==============================] - 0s 2ms/step - loss: 0.4234 - acc: 0.7919 - val_loss: 0.4591 - val_acc: 0.7800\n",
      "Epoch 85/100\n",
      "14/14 [==============================] - 0s 2ms/step - loss: 0.4232 - acc: 0.7928 - val_loss: 0.4591 - val_acc: 0.7800\n",
      "Epoch 86/100\n",
      "14/14 [==============================] - 0s 2ms/step - loss: 0.4232 - acc: 0.7933 - val_loss: 0.4587 - val_acc: 0.7800\n",
      "Epoch 87/100\n",
      "14/14 [==============================] - 0s 2ms/step - loss: 0.4231 - acc: 0.7931 - val_loss: 0.4587 - val_acc: 0.7780\n",
      "Epoch 88/100\n",
      "14/14 [==============================] - 0s 2ms/step - loss: 0.4229 - acc: 0.7938 - val_loss: 0.4588 - val_acc: 0.7780\n",
      "Epoch 89/100\n",
      "14/14 [==============================] - 0s 2ms/step - loss: 0.4229 - acc: 0.7932 - val_loss: 0.4584 - val_acc: 0.7780\n",
      "Epoch 90/100\n",
      "14/14 [==============================] - 0s 2ms/step - loss: 0.4227 - acc: 0.7936 - val_loss: 0.4583 - val_acc: 0.7780\n",
      "Epoch 91/100\n",
      "14/14 [==============================] - 0s 2ms/step - loss: 0.4226 - acc: 0.7939 - val_loss: 0.4580 - val_acc: 0.7780\n",
      "Epoch 92/100\n",
      "14/14 [==============================] - 0s 2ms/step - loss: 0.4226 - acc: 0.7941 - val_loss: 0.4585 - val_acc: 0.7780\n",
      "Epoch 93/100\n",
      "14/14 [==============================] - 0s 2ms/step - loss: 0.4225 - acc: 0.7936 - val_loss: 0.4583 - val_acc: 0.7780\n",
      "Epoch 94/100\n",
      "14/14 [==============================] - 0s 2ms/step - loss: 0.4225 - acc: 0.7941 - val_loss: 0.4578 - val_acc: 0.7780\n",
      "Epoch 95/100\n",
      "14/14 [==============================] - 0s 2ms/step - loss: 0.4222 - acc: 0.7936 - val_loss: 0.4578 - val_acc: 0.7780\n",
      "Epoch 96/100\n",
      "14/14 [==============================] - 0s 2ms/step - loss: 0.4221 - acc: 0.7935 - val_loss: 0.4577 - val_acc: 0.7780\n",
      "Epoch 97/100\n",
      "14/14 [==============================] - 0s 2ms/step - loss: 0.4220 - acc: 0.7945 - val_loss: 0.4578 - val_acc: 0.7780\n",
      "Epoch 98/100\n",
      "14/14 [==============================] - 0s 2ms/step - loss: 0.4220 - acc: 0.7935 - val_loss: 0.4578 - val_acc: 0.7780\n",
      "Epoch 99/100\n",
      "14/14 [==============================] - 0s 2ms/step - loss: 0.4218 - acc: 0.7939 - val_loss: 0.4582 - val_acc: 0.7780\n",
      "Epoch 100/100\n",
      "14/14 [==============================] - 0s 2ms/step - loss: 0.4219 - acc: 0.7938 - val_loss: 0.4577 - val_acc: 0.7780\n"
     ]
    },
    {
     "data": {
      "text/plain": [
       "dict_keys(['loss', 'acc', 'val_loss', 'val_acc'])"
      ]
     },
     "execution_count": 26,
     "metadata": {},
     "output_type": "execute_result"
    }
   ],
   "source": [
    "import numpy as np\n",
    "from keras import optimizers\n",
    "from keras import models\n",
    "from keras import layers\n",
    "\n",
    "# Write your model here\n",
    "#change layers dense 5,7,10\n",
    "network = models.Sequential()\n",
    "network.add(layers.Dense(10, activation='relu', input_shape = (54,)))\n",
    "network.add(layers.Dense(1, activation='sigmoid'))\n",
    "network.compile(optimizer = 'rmsprop', loss = 'binary_crossentropy', metrics = ['acc'])\n",
    "network.summary()\n",
    "history = network.fit(train_data, train_labels, epochs= 100, batch_size =512, validation_data=(devtest_data, devtest_labels))\n",
    "history_dict = history.history\n",
    "history_dict.keys()"
   ]
  },
  {
   "cell_type": "code",
   "execution_count": 27,
   "metadata": {},
   "outputs": [
    {
     "data": {
      "image/png": "[encoded data removed]",
      "text/plain": [
       "<Figure size 432x288 with 1 Axes>"
      ]
     },
     "metadata": {
      "needs_background": "light"
     },
     "output_type": "display_data"
    }
   ],
   "source": [
    "%matplotlib inline\n",
    "import matplotlib.pyplot as plt\n",
    "history_dict = history.history\n",
    "loss_values = history_dict['loss']\n",
    "val_loss_values = history_dict['val_loss']\n",
    "acc = history_dict['acc']\n",
    "val_acc = history_dict['val_acc']\n",
    "epochs = range(1, len(acc)+1)\n",
    "\n",
    "plt.plot(epochs, acc, 'bo', label = 'Traning acc')\n",
    "plt.plot(epochs, val_acc,'b', label = 'Validation acc')\n",
    "plt.title('Training and validation accuracy')\n",
    "plt.xlabel('Epochs')\n",
    "plt.ylabel('Accuracy')\n",
    "plt.legend()\n",
    "plt.show()"
   ]
  },
  {
   "cell_type": "code",
   "execution_count": 28,
   "metadata": {},
   "outputs": [
    {
     "data": {
      "text/plain": [
       "0.7799999713897705"
      ]
     },
     "execution_count": 28,
     "metadata": {},
     "output_type": "execute_result"
    }
   ],
   "source": [
    "np.amax(val_acc)"
   ]
  },
  {
   "cell_type": "code",
   "execution_count": 29,
   "metadata": {},
   "outputs": [
    {
     "data": {
      "text/plain": [
       "0.79176265001297"
      ]
     },
     "execution_count": 29,
     "metadata": {},
     "output_type": "execute_result"
    }
   ],
   "source": [
    "acc[np.argmax(val_acc)]"
   ]
  },
  {
   "cell_type": "markdown",
   "metadata": {},
   "source": [
    "# Optional: Deep Learning with the Movie Review Corpus\n",
    "The notebook [W04L1-2-MovieReviews.ipynb](../lectures/W04L1-2-MovieReviews.ipynb) has several questions at the end, repeated below. Try to answer these, and indeed try other variants!\n",
    "\n",
    "* We were using 2 hidden layers. Try to use 1 or 3 hidden layers and see how it affects validation and test accuracy.\n",
    "* Try to use layers with more hidden units or less hidden units: 32 units, 64 units...\n",
    "* Try to use the `mse` loss function instead of `binary_crossentropy`.\n",
    "* Try to use the `tanh` activation (an activation that was popular in the early days of neural networks) instead of `relu`."
   ]
  },
  {
   "cell_type": "code",
   "execution_count": null,
   "metadata": {},
   "outputs": [],
   "source": []
  }
 ],
 "metadata": {
  "anaconda-cloud": {},
  "kernelspec": {
   "display_name": "Python 3",
   "language": "python",
   "name": "python3"
  },
  "language_info": {
   "codemirror_mode": {
    "name": "ipython",
    "version": 3
   },
   "file_extension": ".py",
   "mimetype": "text/x-python",
   "name": "python",
   "nbconvert_exporter": "python",
   "pygments_lexer": "ipython3",
   "version": "3.9.10"
  }
 },
 "nbformat": 4,
 "nbformat_minor": 2
}
